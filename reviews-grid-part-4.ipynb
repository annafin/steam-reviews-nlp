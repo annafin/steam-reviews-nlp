{
 "cells": [
  {
   "cell_type": "code",
   "execution_count": 1,
   "id": "281a5db5",
   "metadata": {
    "_cell_guid": "b1076dfc-b9ad-4769-8c92-a6c4dae69d19",
    "_uuid": "8f2839f25d086af736a60e9eeb907d3b93b6e0e5",
    "execution": {
     "iopub.execute_input": "2024-04-27T14:20:56.415656Z",
     "iopub.status.busy": "2024-04-27T14:20:56.414952Z",
     "iopub.status.idle": "2024-04-27T14:20:57.368162Z",
     "shell.execute_reply": "2024-04-27T14:20:57.366668Z"
    },
    "papermill": {
     "duration": 0.971681,
     "end_time": "2024-04-27T14:20:57.370780",
     "exception": false,
     "start_time": "2024-04-27T14:20:56.399099",
     "status": "completed"
    },
    "tags": []
   },
   "outputs": [
    {
     "name": "stdout",
     "output_type": "stream",
     "text": [
      "/kaggle/input/steam-20-processed-version/steam_reviews_subset_20_processed_4_25.csv\n",
      "/kaggle/input/steam-processed-5-new/steam_subset_5_processed_new.csv\n"
     ]
    }
   ],
   "source": [
    "# This Python 3 environment comes with many helpful analytics libraries installed\n",
    "# It is defined by the kaggle/python Docker image: https://github.com/kaggle/docker-python\n",
    "# For example, here's several helpful packages to load\n",
    "\n",
    "import numpy as np # linear algebra\n",
    "import pandas as pd # data processing, CSV file I/O (e.g. pd.read_csv)\n",
    "\n",
    "# Input data files are available in the read-only \"../input/\" directory\n",
    "# For example, running this (by clicking run or pressing Shift+Enter) will list all files under the input directory\n",
    "\n",
    "import os\n",
    "for dirname, _, filenames in os.walk('/kaggle/input'):\n",
    "    for filename in filenames:\n",
    "        print(os.path.join(dirname, filename))\n",
    "\n",
    "# You can write up to 20GB to the current directory (/kaggle/working/) that gets preserved as output when you create a version using \"Save & Run All\" \n",
    "# You can also write temporary files to /kaggle/temp/, but they won't be saved outside of the current session"
   ]
  },
  {
   "cell_type": "code",
   "execution_count": 2,
   "id": "04327d1c",
   "metadata": {
    "execution": {
     "iopub.execute_input": "2024-04-27T14:20:57.398121Z",
     "iopub.status.busy": "2024-04-27T14:20:57.397272Z",
     "iopub.status.idle": "2024-04-27T14:20:58.787485Z",
     "shell.execute_reply": "2024-04-27T14:20:58.786441Z"
    },
    "papermill": {
     "duration": 1.406806,
     "end_time": "2024-04-27T14:20:58.790257",
     "exception": false,
     "start_time": "2024-04-27T14:20:57.383451",
     "status": "completed"
    },
    "tags": []
   },
   "outputs": [],
   "source": [
    "import seaborn as sns\n",
    "import matplotlib.pyplot as plt\n",
    "import re\n",
    "\n",
    "# import spacy\n",
    "# spacy.prefer_gpu()\n",
    "# nlp = spacy.load(\"en_core_web_sm\")\n",
    "\n",
    "# wordcloud \n",
    "# from PIL import Image\n",
    "# from wordcloud import WordCloud, STOPWORDS, ImageColorGenerator"
   ]
  },
  {
   "cell_type": "code",
   "execution_count": 3,
   "id": "40af01f9",
   "metadata": {
    "execution": {
     "iopub.execute_input": "2024-04-27T14:20:58.819050Z",
     "iopub.status.busy": "2024-04-27T14:20:58.818660Z",
     "iopub.status.idle": "2024-04-27T14:20:58.823003Z",
     "shell.execute_reply": "2024-04-27T14:20:58.821886Z"
    },
    "papermill": {
     "duration": 0.020322,
     "end_time": "2024-04-27T14:20:58.825345",
     "exception": false,
     "start_time": "2024-04-27T14:20:58.805023",
     "status": "completed"
    },
    "tags": []
   },
   "outputs": [],
   "source": [
    "# cleaned and processed 20% data sample taken from steam reviews\n",
    "# data = pd.read_csv(\"/kaggle/input/steam-20-processed-version/steam_reviews_subset_20_processed_4_25.csv\")"
   ]
  },
  {
   "cell_type": "code",
   "execution_count": 4,
   "id": "8afb5cc4",
   "metadata": {
    "execution": {
     "iopub.execute_input": "2024-04-27T14:20:58.852472Z",
     "iopub.status.busy": "2024-04-27T14:20:58.852085Z",
     "iopub.status.idle": "2024-04-27T14:21:02.190437Z",
     "shell.execute_reply": "2024-04-27T14:21:02.189163Z"
    },
    "papermill": {
     "duration": 3.355458,
     "end_time": "2024-04-27T14:21:02.193057",
     "exception": false,
     "start_time": "2024-04-27T14:20:58.837599",
     "status": "completed"
    },
    "tags": []
   },
   "outputs": [],
   "source": [
    "# cleaned and processed 20% data sample taken from steam reviews\n",
    "data = pd.read_csv(\"/kaggle/input/steam-processed-5-new/steam_subset_5_processed_new.csv\")"
   ]
  },
  {
   "cell_type": "code",
   "execution_count": 5,
   "id": "78640d65",
   "metadata": {
    "execution": {
     "iopub.execute_input": "2024-04-27T14:21:02.219591Z",
     "iopub.status.busy": "2024-04-27T14:21:02.219193Z",
     "iopub.status.idle": "2024-04-27T14:21:02.243593Z",
     "shell.execute_reply": "2024-04-27T14:21:02.242654Z"
    },
    "papermill": {
     "duration": 0.040722,
     "end_time": "2024-04-27T14:21:02.246138",
     "exception": false,
     "start_time": "2024-04-27T14:21:02.205416",
     "status": "completed"
    },
    "tags": []
   },
   "outputs": [
    {
     "data": {
      "text/html": [
       "<div>\n",
       "<style scoped>\n",
       "    .dataframe tbody tr th:only-of-type {\n",
       "        vertical-align: middle;\n",
       "    }\n",
       "\n",
       "    .dataframe tbody tr th {\n",
       "        vertical-align: top;\n",
       "    }\n",
       "\n",
       "    .dataframe thead th {\n",
       "        text-align: right;\n",
       "    }\n",
       "</style>\n",
       "<table border=\"1\" class=\"dataframe\">\n",
       "  <thead>\n",
       "    <tr style=\"text-align: right;\">\n",
       "      <th></th>\n",
       "      <th>app_id</th>\n",
       "      <th>app_name</th>\n",
       "      <th>review_text</th>\n",
       "      <th>review_score</th>\n",
       "      <th>review_votes</th>\n",
       "      <th>review_processed</th>\n",
       "    </tr>\n",
       "  </thead>\n",
       "  <tbody>\n",
       "    <tr>\n",
       "      <th>0</th>\n",
       "      <td>237930</td>\n",
       "      <td>Transistor</td>\n",
       "      <td>I think the main thing that surprised me about...</td>\n",
       "      <td>1</td>\n",
       "      <td>0</td>\n",
       "      <td>think main thing surprise game intigration mus...</td>\n",
       "    </tr>\n",
       "    <tr>\n",
       "      <th>1</th>\n",
       "      <td>270450</td>\n",
       "      <td>Robot Roller-Derby Disco Dodgeball</td>\n",
       "      <td>Cute little FPS that takes a little practice t...</td>\n",
       "      <td>1</td>\n",
       "      <td>0</td>\n",
       "      <td>cute little fps take little practice learn cat...</td>\n",
       "    </tr>\n",
       "    <tr>\n",
       "      <th>2</th>\n",
       "      <td>49520</td>\n",
       "      <td>Borderlands 2</td>\n",
       "      <td>This game is absolutely the best! Totally wort...</td>\n",
       "      <td>1</td>\n",
       "      <td>0</td>\n",
       "      <td>game absolutely good totally worth get cheap s...</td>\n",
       "    </tr>\n",
       "    <tr>\n",
       "      <th>3</th>\n",
       "      <td>211400</td>\n",
       "      <td>Deadlight</td>\n",
       "      <td>Nope, just a nope.  Clunky control, I can't sa...</td>\n",
       "      <td>0</td>\n",
       "      <td>0</td>\n",
       "      <td>nope nope   clunky control frustrating play ga...</td>\n",
       "    </tr>\n",
       "    <tr>\n",
       "      <th>4</th>\n",
       "      <td>219640</td>\n",
       "      <td>Chivalry: Medieval Warfare</td>\n",
       "      <td>I went into Chiv expecting something amazing. ...</td>\n",
       "      <td>1</td>\n",
       "      <td>0</td>\n",
       "      <td>go chiv expect amazing exactally think go   ga...</td>\n",
       "    </tr>\n",
       "  </tbody>\n",
       "</table>\n",
       "</div>"
      ],
      "text/plain": [
       "   app_id                            app_name  \\\n",
       "0  237930                          Transistor   \n",
       "1  270450  Robot Roller-Derby Disco Dodgeball   \n",
       "2   49520                       Borderlands 2   \n",
       "3  211400                           Deadlight   \n",
       "4  219640          Chivalry: Medieval Warfare   \n",
       "\n",
       "                                         review_text  review_score  \\\n",
       "0  I think the main thing that surprised me about...             1   \n",
       "1  Cute little FPS that takes a little practice t...             1   \n",
       "2  This game is absolutely the best! Totally wort...             1   \n",
       "3  Nope, just a nope.  Clunky control, I can't sa...             0   \n",
       "4  I went into Chiv expecting something amazing. ...             1   \n",
       "\n",
       "   review_votes                                   review_processed  \n",
       "0             0  think main thing surprise game intigration mus...  \n",
       "1             0  cute little fps take little practice learn cat...  \n",
       "2             0  game absolutely good totally worth get cheap s...  \n",
       "3             0  nope nope   clunky control frustrating play ga...  \n",
       "4             0  go chiv expect amazing exactally think go   ga...  "
      ]
     },
     "execution_count": 5,
     "metadata": {},
     "output_type": "execute_result"
    }
   ],
   "source": [
    "data.head()"
   ]
  },
  {
   "cell_type": "code",
   "execution_count": 6,
   "id": "01ed0559",
   "metadata": {
    "execution": {
     "iopub.execute_input": "2024-04-27T14:21:02.273736Z",
     "iopub.status.busy": "2024-04-27T14:21:02.273306Z",
     "iopub.status.idle": "2024-04-27T14:21:02.370981Z",
     "shell.execute_reply": "2024-04-27T14:21:02.369428Z"
    },
    "papermill": {
     "duration": 0.114559,
     "end_time": "2024-04-27T14:21:02.373632",
     "exception": false,
     "start_time": "2024-04-27T14:21:02.259073",
     "status": "completed"
    },
    "tags": []
   },
   "outputs": [
    {
     "name": "stdout",
     "output_type": "stream",
     "text": [
      "<class 'pandas.core.frame.DataFrame'>\n",
      "RangeIndex: 195564 entries, 0 to 195563\n",
      "Data columns (total 6 columns):\n",
      " #   Column            Non-Null Count   Dtype \n",
      "---  ------            --------------   ----- \n",
      " 0   app_id            195564 non-null  int64 \n",
      " 1   app_name          195564 non-null  object\n",
      " 2   review_text       195564 non-null  object\n",
      " 3   review_score      195564 non-null  int64 \n",
      " 4   review_votes      195564 non-null  int64 \n",
      " 5   review_processed  195452 non-null  object\n",
      "dtypes: int64(3), object(3)\n",
      "memory usage: 9.0+ MB\n"
     ]
    }
   ],
   "source": [
    "data.info()"
   ]
  },
  {
   "cell_type": "code",
   "execution_count": 7,
   "id": "23af13a4",
   "metadata": {
    "execution": {
     "iopub.execute_input": "2024-04-27T14:21:02.400980Z",
     "iopub.status.busy": "2024-04-27T14:21:02.400564Z",
     "iopub.status.idle": "2024-04-27T14:21:02.484930Z",
     "shell.execute_reply": "2024-04-27T14:21:02.483761Z"
    },
    "papermill": {
     "duration": 0.100999,
     "end_time": "2024-04-27T14:21:02.487515",
     "exception": false,
     "start_time": "2024-04-27T14:21:02.386516",
     "status": "completed"
    },
    "tags": []
   },
   "outputs": [
    {
     "data": {
      "text/plain": [
       "app_id                0\n",
       "app_name              0\n",
       "review_text           0\n",
       "review_score          0\n",
       "review_votes          0\n",
       "review_processed    112\n",
       "dtype: int64"
      ]
     },
     "execution_count": 7,
     "metadata": {},
     "output_type": "execute_result"
    }
   ],
   "source": [
    "data.isnull().sum()"
   ]
  },
  {
   "cell_type": "code",
   "execution_count": 8,
   "id": "cd5eaebb",
   "metadata": {
    "execution": {
     "iopub.execute_input": "2024-04-27T14:21:02.516035Z",
     "iopub.status.busy": "2024-04-27T14:21:02.515390Z",
     "iopub.status.idle": "2024-04-27T14:21:03.137443Z",
     "shell.execute_reply": "2024-04-27T14:21:03.136600Z"
    },
    "papermill": {
     "duration": 0.639398,
     "end_time": "2024-04-27T14:21:03.140276",
     "exception": false,
     "start_time": "2024-04-27T14:21:02.500878",
     "status": "completed"
    },
    "tags": []
   },
   "outputs": [
    {
     "data": {
      "image/png": "[encoded data removed]",
      "text/plain": [
       "<Figure size 640x480 with 1 Axes>"
      ]
     },
     "metadata": {},
     "output_type": "display_data"
    }
   ],
   "source": [
    "data[\"app_name\"].value_counts(normalize=True).head(20).plot(kind=\"bar\")\n",
    "plt.xlabel(\"Game Name\")\n",
    "plt.title(\"Top 20 Review Games on Steam\")\n",
    "plt.show()"
   ]
  },
  {
   "cell_type": "code",
   "execution_count": 9,
   "id": "12a442e2",
   "metadata": {
    "execution": {
     "iopub.execute_input": "2024-04-27T14:21:03.170786Z",
     "iopub.status.busy": "2024-04-27T14:21:03.170139Z",
     "iopub.status.idle": "2024-04-27T14:21:03.240926Z",
     "shell.execute_reply": "2024-04-27T14:21:03.239998Z"
    },
    "papermill": {
     "duration": 0.089527,
     "end_time": "2024-04-27T14:21:03.244034",
     "exception": false,
     "start_time": "2024-04-27T14:21:03.154507",
     "status": "completed"
    },
    "tags": []
   },
   "outputs": [],
   "source": [
    "# remove rows without any data in processed review\n",
    "data = data[~data[\"review_processed\"].isnull()].copy(deep=True)"
   ]
  },
  {
   "cell_type": "code",
   "execution_count": 10,
   "id": "e86cee1d",
   "metadata": {
    "execution": {
     "iopub.execute_input": "2024-04-27T14:21:03.277406Z",
     "iopub.status.busy": "2024-04-27T14:21:03.277027Z",
     "iopub.status.idle": "2024-04-27T14:21:03.364180Z",
     "shell.execute_reply": "2024-04-27T14:21:03.362948Z"
    },
    "papermill": {
     "duration": 0.10462,
     "end_time": "2024-04-27T14:21:03.366503",
     "exception": false,
     "start_time": "2024-04-27T14:21:03.261883",
     "status": "completed"
    },
    "tags": []
   },
   "outputs": [
    {
     "name": "stdout",
     "output_type": "stream",
     "text": [
      "<class 'pandas.core.frame.DataFrame'>\n",
      "Index: 195452 entries, 0 to 195563\n",
      "Data columns (total 6 columns):\n",
      " #   Column            Non-Null Count   Dtype \n",
      "---  ------            --------------   ----- \n",
      " 0   app_id            195452 non-null  int64 \n",
      " 1   app_name          195452 non-null  object\n",
      " 2   review_text       195452 non-null  object\n",
      " 3   review_score      195452 non-null  int64 \n",
      " 4   review_votes      195452 non-null  int64 \n",
      " 5   review_processed  195452 non-null  object\n",
      "dtypes: int64(3), object(3)\n",
      "memory usage: 10.4+ MB\n"
     ]
    }
   ],
   "source": [
    "data.info()"
   ]
  },
  {
   "cell_type": "markdown",
   "id": "a3c7481f",
   "metadata": {
    "papermill": {
     "duration": 0.013719,
     "end_time": "2024-04-27T14:21:03.394449",
     "exception": false,
     "start_time": "2024-04-27T14:21:03.380730",
     "status": "completed"
    },
    "tags": []
   },
   "source": [
    "## Data Processing and Modeling: Pipelines and GridSearchCV"
   ]
  },
  {
   "cell_type": "code",
   "execution_count": 11,
   "id": "07686212",
   "metadata": {
    "execution": {
     "iopub.execute_input": "2024-04-27T14:21:03.425139Z",
     "iopub.status.busy": "2024-04-27T14:21:03.424137Z",
     "iopub.status.idle": "2024-04-27T14:21:04.140782Z",
     "shell.execute_reply": "2024-04-27T14:21:04.139709Z"
    },
    "papermill": {
     "duration": 0.735022,
     "end_time": "2024-04-27T14:21:04.143809",
     "exception": false,
     "start_time": "2024-04-27T14:21:03.408787",
     "status": "completed"
    },
    "tags": []
   },
   "outputs": [],
   "source": [
    "from sklearn.model_selection import train_test_split\n",
    "from sklearn.feature_extraction.text import CountVectorizer, TfidfVectorizer, TfidfTransformer\n",
    "from sklearn.linear_model import LogisticRegression\n",
    "from sklearn.ensemble import RandomForestClassifier\n",
    "from sklearn.tree import DecisionTreeClassifier\n",
    "from xgboost import XGBClassifier\n",
    "from sklearn.naive_bayes import MultinomialNB\n",
    "from sklearn.neighbors import KNeighborsClassifier\n",
    "# import lightgbm as lgbm\n",
    "from sklearn.ensemble import AdaBoostClassifier\n",
    "# from sklearn.svm import SVC\n",
    "from sklearn.pipeline import Pipeline\n",
    "from sklearn.model_selection import GridSearchCV\n",
    "from sklearn import metrics"
   ]
  },
  {
   "cell_type": "code",
   "execution_count": 12,
   "id": "4fb8d50b",
   "metadata": {
    "execution": {
     "iopub.execute_input": "2024-04-27T14:21:04.174040Z",
     "iopub.status.busy": "2024-04-27T14:21:04.173390Z",
     "iopub.status.idle": "2024-04-27T14:21:04.181907Z",
     "shell.execute_reply": "2024-04-27T14:21:04.180729Z"
    },
    "papermill": {
     "duration": 0.026088,
     "end_time": "2024-04-27T14:21:04.184079",
     "exception": false,
     "start_time": "2024-04-27T14:21:04.157991",
     "status": "completed"
    },
    "tags": []
   },
   "outputs": [],
   "source": [
    "# function to show results\n",
    "def show_metrics(y_test, predictions):\n",
    "    print(\"Confusion Matrix: \")\n",
    "    cmat = metrics.confusion_matrix(y_test, predictions)\n",
    "    print(cmat)\n",
    "    print(\"True Positives (TP) = \", cmat[0,0])\n",
    "    print(\"True Negatives (TN) = \", cmat[1,1])\n",
    "    print(\"False Positives (FP) = \", cmat[0,1])\n",
    "    print(\"False Negatives (FN) = \", cmat[1,0])\n",
    "    print(\"Accuracy: \")\n",
    "    print(metrics.accuracy_score(y_test, predictions))\n",
    "    print(\"Precision: \")\n",
    "    print(metrics.precision_score(y_test, predictions))\n",
    "    print(\"F1 Score: \")\n",
    "    print(metrics.f1_score(y_test, predictions))\n",
    "    print(\"Classification Report: \")\n",
    "    print(metrics.classification_report(y_test, predictions))"
   ]
  },
  {
   "cell_type": "code",
   "execution_count": 13,
   "id": "6acd8da2",
   "metadata": {
    "execution": {
     "iopub.execute_input": "2024-04-27T14:21:04.214500Z",
     "iopub.status.busy": "2024-04-27T14:21:04.213835Z",
     "iopub.status.idle": "2024-04-27T14:21:04.218652Z",
     "shell.execute_reply": "2024-04-27T14:21:04.217292Z"
    },
    "papermill": {
     "duration": 0.022894,
     "end_time": "2024-04-27T14:21:04.221130",
     "exception": false,
     "start_time": "2024-04-27T14:21:04.198236",
     "status": "completed"
    },
    "tags": []
   },
   "outputs": [],
   "source": [
    "X = data[\"review_processed\"]\n",
    "y = data[\"review_score\"]"
   ]
  },
  {
   "cell_type": "code",
   "execution_count": 14,
   "id": "d6f2b224",
   "metadata": {
    "execution": {
     "iopub.execute_input": "2024-04-27T14:21:04.251454Z",
     "iopub.status.busy": "2024-04-27T14:21:04.251057Z",
     "iopub.status.idle": "2024-04-27T14:21:04.277973Z",
     "shell.execute_reply": "2024-04-27T14:21:04.276806Z"
    },
    "papermill": {
     "duration": 0.045481,
     "end_time": "2024-04-27T14:21:04.280933",
     "exception": false,
     "start_time": "2024-04-27T14:21:04.235452",
     "status": "completed"
    },
    "tags": []
   },
   "outputs": [],
   "source": [
    "X_train, X_test, y_train, y_test = train_test_split(X, y, test_size=0.2, shuffle=True, random_state=42)"
   ]
  },
  {
   "cell_type": "code",
   "execution_count": 15,
   "id": "9a117ff1",
   "metadata": {
    "execution": {
     "iopub.execute_input": "2024-04-27T14:21:04.311103Z",
     "iopub.status.busy": "2024-04-27T14:21:04.310659Z",
     "iopub.status.idle": "2024-04-27T14:21:13.409930Z",
     "shell.execute_reply": "2024-04-27T14:21:13.408925Z"
    },
    "papermill": {
     "duration": 9.116835,
     "end_time": "2024-04-27T14:21:13.412047",
     "exception": false,
     "start_time": "2024-04-27T14:21:04.295212",
     "status": "completed"
    },
    "tags": []
   },
   "outputs": [
    {
     "name": "stdout",
     "output_type": "stream",
     "text": [
      "Training Data Shape: \n"
     ]
    },
    {
     "data": {
      "text/plain": [
       "(156361, 91863)"
      ]
     },
     "execution_count": 15,
     "metadata": {},
     "output_type": "execute_result"
    }
   ],
   "source": [
    "pipe = Pipeline([(\"cvector\", CountVectorizer()), \n",
    "                 (\"tfidf\", TfidfTransformer())\n",
    "                ])\n",
    "\n",
    "X_train_tfvec = pipe.fit_transform(X_train)\n",
    "\n",
    "X_test_tfvec = pipe.transform(X_test)\n",
    "\n",
    "print(\"Training Data Shape: \")\n",
    "X_train_tfvec.shape"
   ]
  },
  {
   "cell_type": "markdown",
   "id": "bd46a88e",
   "metadata": {
    "papermill": {
     "duration": 0.013948,
     "end_time": "2024-04-27T14:21:13.440558",
     "exception": false,
     "start_time": "2024-04-27T14:21:13.426610",
     "status": "completed"
    },
    "tags": []
   },
   "source": [
    "## Logistic Regression"
   ]
  },
  {
   "cell_type": "code",
   "execution_count": 16,
   "id": "1bebb33b",
   "metadata": {
    "execution": {
     "iopub.execute_input": "2024-04-27T14:21:13.472304Z",
     "iopub.status.busy": "2024-04-27T14:21:13.471260Z",
     "iopub.status.idle": "2024-04-27T14:21:31.517146Z",
     "shell.execute_reply": "2024-04-27T14:21:31.515748Z"
    },
    "papermill": {
     "duration": 18.06478,
     "end_time": "2024-04-27T14:21:31.520496",
     "exception": false,
     "start_time": "2024-04-27T14:21:13.455716",
     "status": "completed"
    },
    "tags": []
   },
   "outputs": [
    {
     "name": "stdout",
     "output_type": "stream",
     "text": [
      "Logistic Regression: \n",
      "Training Accuracy:  0.9046693229130026\n",
      "Confusion Matrix: \n",
      "[[ 3318  3260]\n",
      " [  970 31543]]\n",
      "True Positives (TP) =  3318\n",
      "True Negatives (TN) =  31543\n",
      "False Positives (FP) =  3260\n",
      "False Negatives (FN) =  970\n",
      "Accuracy: \n",
      "0.8917909493233737\n",
      "Precision: \n",
      "0.906329914087866\n",
      "F1 Score: \n",
      "0.9371620417137085\n",
      "Classification Report: \n",
      "              precision    recall  f1-score   support\n",
      "\n",
      "           0       0.77      0.50      0.61      6578\n",
      "           1       0.91      0.97      0.94     32513\n",
      "\n",
      "    accuracy                           0.89     39091\n",
      "   macro avg       0.84      0.74      0.77     39091\n",
      "weighted avg       0.88      0.89      0.88     39091\n",
      "\n",
      "CPU times: user 33.8 s, sys: 34.7 s, total: 1min 8s\n",
      "Wall time: 18 s\n"
     ]
    }
   ],
   "source": [
    "%%time\n",
    "lr = LogisticRegression(max_iter=2000, random_state=42)\n",
    "lr.fit(X_train_tfvec, y_train)\n",
    "\n",
    "lr_pred = lr.predict(X_test_tfvec)\n",
    "\n",
    "print(\"Logistic Regression: \")\n",
    "lr_train = lr.predict(X_train_tfvec)\n",
    "print(\"Training Accuracy: \", metrics.accuracy_score(y_train, lr_train))\n",
    "\n",
    "show_metrics(y_test, lr_pred)"
   ]
  },
  {
   "cell_type": "code",
   "execution_count": 17,
   "id": "a0aef773",
   "metadata": {
    "execution": {
     "iopub.execute_input": "2024-04-27T14:21:31.554319Z",
     "iopub.status.busy": "2024-04-27T14:21:31.553866Z",
     "iopub.status.idle": "2024-04-27T14:31:13.562097Z",
     "shell.execute_reply": "2024-04-27T14:31:13.560285Z"
    },
    "papermill": {
     "duration": 582.081584,
     "end_time": "2024-04-27T14:31:13.617529",
     "exception": false,
     "start_time": "2024-04-27T14:21:31.535945",
     "status": "completed"
    },
    "tags": []
   },
   "outputs": [
    {
     "name": "stdout",
     "output_type": "stream",
     "text": [
      "Best Params:  {'C': 1, 'solver': 'lbfgs'}\n",
      "Best Score:  0.892556312629116\n",
      "CPU times: user 19min 5s, sys: 17min 43s, total: 36min 48s\n",
      "Wall time: 9min 41s\n"
     ]
    }
   ],
   "source": [
    "%%time\n",
    "# tuning with gridsearch\n",
    "param_grid = {\"C\": [0.01, 0.1, 1, 10], \n",
    "              \"solver\": [\"newton-cg\", \"lbfgs\", \"liblinear\"]}\n",
    "\n",
    "lr_cv = GridSearchCV(lr, param_grid, cv=5)\n",
    "lr_cv.fit(X_train_tfvec, y_train)\n",
    "\n",
    "print(\"Best Params: \", lr_cv.best_params_)\n",
    "print(\"Best Score: \", lr_cv.best_score_)"
   ]
  },
  {
   "cell_type": "code",
   "execution_count": 18,
   "id": "d76bd997",
   "metadata": {
    "execution": {
     "iopub.execute_input": "2024-04-27T14:31:13.665370Z",
     "iopub.status.busy": "2024-04-27T14:31:13.664930Z",
     "iopub.status.idle": "2024-04-27T14:31:31.786008Z",
     "shell.execute_reply": "2024-04-27T14:31:31.784768Z"
    },
    "papermill": {
     "duration": 18.140294,
     "end_time": "2024-04-27T14:31:31.788484",
     "exception": false,
     "start_time": "2024-04-27T14:31:13.648190",
     "status": "completed"
    },
    "tags": []
   },
   "outputs": [
    {
     "name": "stdout",
     "output_type": "stream",
     "text": [
      "Training Accuracy:  0.9046693229130026\n",
      "Confusion Matrix: \n",
      "[[ 3318  3260]\n",
      " [  970 31543]]\n",
      "True Positives (TP) =  3318\n",
      "True Negatives (TN) =  31543\n",
      "False Positives (FP) =  3260\n",
      "False Negatives (FN) =  970\n",
      "Accuracy: \n",
      "0.8917909493233737\n",
      "Precision: \n",
      "0.906329914087866\n",
      "F1 Score: \n",
      "0.9371620417137085\n",
      "Classification Report: \n",
      "              precision    recall  f1-score   support\n",
      "\n",
      "           0       0.77      0.50      0.61      6578\n",
      "           1       0.91      0.97      0.94     32513\n",
      "\n",
      "    accuracy                           0.89     39091\n",
      "   macro avg       0.84      0.74      0.77     39091\n",
      "weighted avg       0.88      0.89      0.88     39091\n",
      "\n"
     ]
    }
   ],
   "source": [
    "new_lr = LogisticRegression(max_iter=2000, random_state=42, **lr_cv.best_params_)\n",
    "new_lr.fit(X_train_tfvec, y_train)\n",
    "\n",
    "lr_pred = new_lr.predict(X_test_tfvec)\n",
    "\n",
    "lr_train = new_lr.predict(X_train_tfvec)\n",
    "print(\"Training Accuracy: \", metrics.accuracy_score(y_train, lr_train))\n",
    "\n",
    "show_metrics(y_test, lr_pred)"
   ]
  },
  {
   "cell_type": "markdown",
   "id": "009ed11b",
   "metadata": {
    "papermill": {
     "duration": 0.014477,
     "end_time": "2024-04-27T14:31:31.819246",
     "exception": false,
     "start_time": "2024-04-27T14:31:31.804769",
     "status": "completed"
    },
    "tags": []
   },
   "source": [
    "## Decision Tree"
   ]
  },
  {
   "cell_type": "code",
   "execution_count": 19,
   "id": "367c3292",
   "metadata": {
    "execution": {
     "iopub.execute_input": "2024-04-27T14:31:31.851555Z",
     "iopub.status.busy": "2024-04-27T14:31:31.850968Z",
     "iopub.status.idle": "2024-04-27T14:37:37.556488Z",
     "shell.execute_reply": "2024-04-27T14:37:37.555162Z"
    },
    "papermill": {
     "duration": 365.724752,
     "end_time": "2024-04-27T14:37:37.559251",
     "exception": false,
     "start_time": "2024-04-27T14:31:31.834499",
     "status": "completed"
    },
    "tags": []
   },
   "outputs": [
    {
     "name": "stdout",
     "output_type": "stream",
     "text": [
      "Decision Tree: \n",
      "Training Accuracy:  0.9976144946629915\n",
      "Confusion Matrix: \n",
      "[[ 2793  3785]\n",
      " [ 3167 29346]]\n",
      "True Positives (TP) =  2793\n",
      "True Negatives (TN) =  29346\n",
      "False Positives (FP) =  3785\n",
      "False Negatives (FN) =  3167\n",
      "Accuracy: \n",
      "0.8221585531196439\n",
      "Precision: \n",
      "0.8857565422112221\n",
      "F1 Score: \n",
      "0.8940954238011092\n",
      "Classification Report: \n",
      "              precision    recall  f1-score   support\n",
      "\n",
      "           0       0.47      0.42      0.45      6578\n",
      "           1       0.89      0.90      0.89     32513\n",
      "\n",
      "    accuracy                           0.82     39091\n",
      "   macro avg       0.68      0.66      0.67     39091\n",
      "weighted avg       0.82      0.82      0.82     39091\n",
      "\n",
      "CPU times: user 6min 5s, sys: 156 ms, total: 6min 5s\n",
      "Wall time: 6min 5s\n"
     ]
    }
   ],
   "source": [
    "%%time\n",
    "dtc_clf = DecisionTreeClassifier(random_state=42)\n",
    "dtc_clf.fit(X_train_tfvec, y_train)\n",
    "\n",
    "dtc_pred = dtc_clf.predict(X_test_tfvec)\n",
    "\n",
    "print(\"Decision Tree: \")\n",
    "dtc_train = dtc_clf.predict(X_train_tfvec)\n",
    "print(\"Training Accuracy: \", metrics.accuracy_score(y_train, dtc_train))\n",
    "\n",
    "show_metrics(y_test, dtc_pred)"
   ]
  },
  {
   "cell_type": "code",
   "execution_count": 20,
   "id": "4d5690b0",
   "metadata": {
    "execution": {
     "iopub.execute_input": "2024-04-27T14:37:37.591877Z",
     "iopub.status.busy": "2024-04-27T14:37:37.591418Z",
     "iopub.status.idle": "2024-04-27T16:00:24.888065Z",
     "shell.execute_reply": "2024-04-27T16:00:24.886907Z"
    },
    "papermill": {
     "duration": 4967.330875,
     "end_time": "2024-04-27T16:00:24.905430",
     "exception": false,
     "start_time": "2024-04-27T14:37:37.574555",
     "status": "completed"
    },
    "tags": []
   },
   "outputs": [
    {
     "name": "stdout",
     "output_type": "stream",
     "text": [
      "Best Params:  {'criterion': 'gini', 'max_depth': 18, 'min_samples_leaf': 60}\n",
      "Best Score:  0.851676555975498\n",
      "CPU times: user 1h 22min 44s, sys: 1.29 s, total: 1h 22min 46s\n",
      "Wall time: 1h 22min 47s\n"
     ]
    }
   ],
   "source": [
    "%%time\n",
    "# tuning with gridsearch\n",
    "param_grid = {\"max_depth\": [2, 5, 8, 12, 18], \n",
    "              \"min_samples_leaf\": [5, 10, 20, 35, 60], \n",
    "              \"criterion\": [\"gini\", \"entropy\"]}\n",
    "\n",
    "dtc_cv = GridSearchCV(dtc_clf, param_grid, cv=5)\n",
    "dtc_cv.fit(X_train_tfvec, y_train)\n",
    "\n",
    "print(\"Best Params: \", dtc_cv.best_params_)\n",
    "print(\"Best Score: \", dtc_cv.best_score_)"
   ]
  },
  {
   "cell_type": "code",
   "execution_count": 21,
   "id": "048e6a2a",
   "metadata": {
    "execution": {
     "iopub.execute_input": "2024-04-27T16:00:24.938236Z",
     "iopub.status.busy": "2024-04-27T16:00:24.937818Z",
     "iopub.status.idle": "2024-04-27T16:00:45.320635Z",
     "shell.execute_reply": "2024-04-27T16:00:45.319476Z"
    },
    "papermill": {
     "duration": 20.402334,
     "end_time": "2024-04-27T16:00:45.323246",
     "exception": false,
     "start_time": "2024-04-27T16:00:24.920912",
     "status": "completed"
    },
    "tags": []
   },
   "outputs": [
    {
     "name": "stdout",
     "output_type": "stream",
     "text": [
      "Training Accuracy:  0.8586092439930674\n",
      "Confusion Matrix: \n",
      "[[ 1837  4741]\n",
      " [ 1166 31347]]\n",
      "True Positives (TP) =  1837\n",
      "True Negatives (TN) =  31347\n",
      "False Positives (FP) =  4741\n",
      "False Negatives (FN) =  1166\n",
      "Accuracy: \n",
      "0.8488910490905835\n",
      "Precision: \n",
      "0.8686266903125692\n",
      "F1 Score: \n",
      "0.913893383478375\n",
      "Classification Report: \n",
      "              precision    recall  f1-score   support\n",
      "\n",
      "           0       0.61      0.28      0.38      6578\n",
      "           1       0.87      0.96      0.91     32513\n",
      "\n",
      "    accuracy                           0.85     39091\n",
      "   macro avg       0.74      0.62      0.65     39091\n",
      "weighted avg       0.83      0.85      0.82     39091\n",
      "\n"
     ]
    }
   ],
   "source": [
    "new_dtc = DecisionTreeClassifier(random_state=42, **dtc_cv.best_params_)\n",
    "new_dtc.fit(X_train_tfvec, y_train)\n",
    "\n",
    "dtc_pred = new_dtc.predict(X_test_tfvec)\n",
    "\n",
    "dtc_train = new_dtc.predict(X_train_tfvec)\n",
    "print(\"Training Accuracy: \", metrics.accuracy_score(y_train, dtc_train))\n",
    "\n",
    "show_metrics(y_test, dtc_pred)"
   ]
  },
  {
   "cell_type": "markdown",
   "id": "5c99122a",
   "metadata": {
    "papermill": {
     "duration": 0.014822,
     "end_time": "2024-04-27T16:00:45.353775",
     "exception": false,
     "start_time": "2024-04-27T16:00:45.338953",
     "status": "completed"
    },
    "tags": []
   },
   "source": [
    "## Random Forest"
   ]
  },
  {
   "cell_type": "code",
   "execution_count": 22,
   "id": "d001d063",
   "metadata": {
    "execution": {
     "iopub.execute_input": "2024-04-27T16:00:45.385787Z",
     "iopub.status.busy": "2024-04-27T16:00:45.384800Z",
     "iopub.status.idle": "2024-04-27T16:27:14.150465Z",
     "shell.execute_reply": "2024-04-27T16:27:14.149232Z"
    },
    "papermill": {
     "duration": 1588.784761,
     "end_time": "2024-04-27T16:27:14.153316",
     "exception": false,
     "start_time": "2024-04-27T16:00:45.368555",
     "status": "completed"
    },
    "tags": []
   },
   "outputs": [
    {
     "name": "stdout",
     "output_type": "stream",
     "text": [
      "Random Forest: \n",
      "Training Accuracy:  0.9976144946629915\n",
      "Confusion Matrix: \n",
      "[[ 1307  5271]\n",
      " [  307 32206]]\n",
      "True Positives (TP) =  1307\n",
      "True Negatives (TN) =  32206\n",
      "False Positives (FP) =  5271\n",
      "False Negatives (FN) =  307\n",
      "Accuracy: \n",
      "0.8573073085876545\n",
      "Precision: \n",
      "0.859353736958668\n",
      "F1 Score: \n",
      "0.9203029004143449\n",
      "Classification Report: \n",
      "              precision    recall  f1-score   support\n",
      "\n",
      "           0       0.81      0.20      0.32      6578\n",
      "           1       0.86      0.99      0.92     32513\n",
      "\n",
      "    accuracy                           0.86     39091\n",
      "   macro avg       0.83      0.59      0.62     39091\n",
      "weighted avg       0.85      0.86      0.82     39091\n",
      "\n",
      "CPU times: user 26min 27s, sys: 1.08 s, total: 26min 28s\n",
      "Wall time: 26min 28s\n"
     ]
    }
   ],
   "source": [
    "%%time\n",
    "rf_clf = RandomForestClassifier(random_state=42)\n",
    "rf_clf.fit(X_train_tfvec, y_train)\n",
    "\n",
    "rf_pred = rf_clf.predict(X_test_tfvec)\n",
    "\n",
    "print(\"Random Forest: \")\n",
    "rf_train = rf_clf.predict(X_train_tfvec)\n",
    "print(\"Training Accuracy: \", metrics.accuracy_score(y_train, rf_train))\n",
    "\n",
    "show_metrics(y_test, rf_pred)"
   ]
  },
  {
   "cell_type": "code",
   "execution_count": 23,
   "id": "33c20237",
   "metadata": {
    "execution": {
     "iopub.execute_input": "2024-04-27T16:27:14.187951Z",
     "iopub.status.busy": "2024-04-27T16:27:14.187561Z",
     "iopub.status.idle": "2024-04-27T19:28:15.125031Z",
     "shell.execute_reply": "2024-04-27T19:28:15.123797Z"
    },
    "papermill": {
     "duration": 10860.97341,
     "end_time": "2024-04-27T19:28:15.142991",
     "exception": false,
     "start_time": "2024-04-27T16:27:14.169581",
     "status": "completed"
    },
    "tags": []
   },
   "outputs": [
    {
     "name": "stdout",
     "output_type": "stream",
     "text": [
      "Best Params:  {'max_depth': 2, 'min_samples_leaf': 5, 'n_estimators': 30}\n",
      "Best Score:  0.8319849580220342\n",
      "CPU times: user 3h 45s, sys: 13.2 s, total: 3h 58s\n",
      "Wall time: 3h 1min\n"
     ]
    }
   ],
   "source": [
    "%%time\n",
    "# tuning with gridsearch\n",
    "param_grid = {\"max_depth\": [2, 5, 8, 12, 18], \n",
    "              \"min_samples_leaf\": [5, 10, 20, 35, 60], \n",
    "              \"n_estimators\": [30, 50, 80, 150]}\n",
    "\n",
    "rf_cv = GridSearchCV(rf_clf, param_grid, cv=5)\n",
    "rf_cv.fit(X_train_tfvec, y_train)\n",
    "\n",
    "print(\"Best Params: \", rf_cv.best_params_)\n",
    "print(\"Best Score: \", rf_cv.best_score_)"
   ]
  },
  {
   "cell_type": "code",
   "execution_count": 24,
   "id": "1a2459ed",
   "metadata": {
    "execution": {
     "iopub.execute_input": "2024-04-27T19:28:15.177329Z",
     "iopub.status.busy": "2024-04-27T19:28:15.176916Z",
     "iopub.status.idle": "2024-04-27T19:28:17.188413Z",
     "shell.execute_reply": "2024-04-27T19:28:17.186964Z"
    },
    "papermill": {
     "duration": 2.03212,
     "end_time": "2024-04-27T19:28:17.191022",
     "exception": false,
     "start_time": "2024-04-27T19:28:15.158902",
     "status": "completed"
    },
    "tags": []
   },
   "outputs": [
    {
     "name": "stdout",
     "output_type": "stream",
     "text": [
      "Training Accuracy:  0.8319849578859179\n",
      "Confusion Matrix: \n",
      "[[    0  6578]\n",
      " [    0 32513]]\n",
      "True Positives (TP) =  0\n",
      "True Negatives (TN) =  32513\n",
      "False Positives (FP) =  6578\n",
      "False Negatives (FN) =  0\n",
      "Accuracy: \n",
      "0.831725972730296\n",
      "Precision: \n",
      "0.831725972730296\n",
      "F1 Score: \n",
      "0.9081336238198984\n",
      "Classification Report: \n",
      "              precision    recall  f1-score   support\n",
      "\n",
      "           0       0.00      0.00      0.00      6578\n",
      "           1       0.83      1.00      0.91     32513\n",
      "\n",
      "    accuracy                           0.83     39091\n",
      "   macro avg       0.42      0.50      0.45     39091\n",
      "weighted avg       0.69      0.83      0.76     39091\n",
      "\n"
     ]
    },
    {
     "name": "stderr",
     "output_type": "stream",
     "text": [
      "/opt/conda/lib/python3.10/site-packages/sklearn/metrics/_classification.py:1344: UndefinedMetricWarning: Precision and F-score are ill-defined and being set to 0.0 in labels with no predicted samples. Use `zero_division` parameter to control this behavior.\n",
      "  _warn_prf(average, modifier, msg_start, len(result))\n",
      "/opt/conda/lib/python3.10/site-packages/sklearn/metrics/_classification.py:1344: UndefinedMetricWarning: Precision and F-score are ill-defined and being set to 0.0 in labels with no predicted samples. Use `zero_division` parameter to control this behavior.\n",
      "  _warn_prf(average, modifier, msg_start, len(result))\n",
      "/opt/conda/lib/python3.10/site-packages/sklearn/metrics/_classification.py:1344: UndefinedMetricWarning: Precision and F-score are ill-defined and being set to 0.0 in labels with no predicted samples. Use `zero_division` parameter to control this behavior.\n",
      "  _warn_prf(average, modifier, msg_start, len(result))\n"
     ]
    }
   ],
   "source": [
    "new_rf = RandomForestClassifier(random_state=42, **rf_cv.best_params_)\n",
    "new_rf.fit(X_train_tfvec, y_train)\n",
    "\n",
    "rf_pred = new_rf.predict(X_test_tfvec)\n",
    "\n",
    "rf_train = new_rf.predict(X_train_tfvec)\n",
    "print(\"Training Accuracy: \", metrics.accuracy_score(y_train, rf_train))\n",
    "\n",
    "show_metrics(y_test, rf_pred)"
   ]
  },
  {
   "cell_type": "markdown",
   "id": "bae79818",
   "metadata": {
    "papermill": {
     "duration": 0.01672,
     "end_time": "2024-04-27T19:28:17.224641",
     "exception": false,
     "start_time": "2024-04-27T19:28:17.207921",
     "status": "completed"
    },
    "tags": []
   },
   "source": [
    "## XGBoost"
   ]
  },
  {
   "cell_type": "code",
   "execution_count": 25,
   "id": "82137d52",
   "metadata": {
    "execution": {
     "iopub.execute_input": "2024-04-27T19:28:17.261648Z",
     "iopub.status.busy": "2024-04-27T19:28:17.261207Z",
     "iopub.status.idle": "2024-04-27T19:29:34.054069Z",
     "shell.execute_reply": "2024-04-27T19:29:34.052531Z"
    },
    "papermill": {
     "duration": 76.813967,
     "end_time": "2024-04-27T19:29:34.056763",
     "exception": false,
     "start_time": "2024-04-27T19:28:17.242796",
     "status": "completed"
    },
    "tags": []
   },
   "outputs": [
    {
     "name": "stdout",
     "output_type": "stream",
     "text": [
      "XGBoost: \n",
      "Training Accuracy:  0.8995721439489387\n",
      "Confusion Matrix: \n",
      "[[ 2513  4065]\n",
      " [  781 31732]]\n",
      "True Positives (TP) =  2513\n",
      "True Negatives (TN) =  31732\n",
      "False Positives (FP) =  4065\n",
      "False Negatives (FN) =  781\n",
      "Accuracy: \n",
      "0.8760328464352408\n",
      "Precision: \n",
      "0.8864429980165935\n",
      "F1 Score: \n",
      "0.9290587029717464\n",
      "Classification Report: \n",
      "              precision    recall  f1-score   support\n",
      "\n",
      "           0       0.76      0.38      0.51      6578\n",
      "           1       0.89      0.98      0.93     32513\n",
      "\n",
      "    accuracy                           0.88     39091\n",
      "   macro avg       0.82      0.68      0.72     39091\n",
      "weighted avg       0.87      0.88      0.86     39091\n",
      "\n",
      "CPU times: user 4min, sys: 1.28 s, total: 4min 1s\n",
      "Wall time: 1min 16s\n"
     ]
    }
   ],
   "source": [
    "%%time\n",
    "xgb_clf = XGBClassifier(random_state=42)\n",
    "xgb_clf.fit(X_train_tfvec, y_train)\n",
    "\n",
    "xgb_pred = xgb_clf.predict(X_test_tfvec)\n",
    "\n",
    "print(\"XGBoost: \")\n",
    "xgb_train = xgb_clf.predict(X_train_tfvec)\n",
    "print(\"Training Accuracy: \", metrics.accuracy_score(y_train, xgb_train))\n",
    "\n",
    "show_metrics(y_test, xgb_pred)"
   ]
  },
  {
   "cell_type": "markdown",
   "id": "60621f0d",
   "metadata": {
    "papermill": {
     "duration": 0.016707,
     "end_time": "2024-04-27T19:29:34.090275",
     "exception": false,
     "start_time": "2024-04-27T19:29:34.073568",
     "status": "completed"
    },
    "tags": []
   },
   "source": [
    "## Naive Bayes"
   ]
  },
  {
   "cell_type": "code",
   "execution_count": 26,
   "id": "e9d46b2a",
   "metadata": {
    "execution": {
     "iopub.execute_input": "2024-04-27T19:29:34.125570Z",
     "iopub.status.busy": "2024-04-27T19:29:34.125181Z",
     "iopub.status.idle": "2024-04-27T19:29:34.362495Z",
     "shell.execute_reply": "2024-04-27T19:29:34.360628Z"
    },
    "papermill": {
     "duration": 0.258148,
     "end_time": "2024-04-27T19:29:34.365238",
     "exception": false,
     "start_time": "2024-04-27T19:29:34.107090",
     "status": "completed"
    },
    "tags": []
   },
   "outputs": [
    {
     "name": "stdout",
     "output_type": "stream",
     "text": [
      "Naive Bayes: \n",
      "Training Accuracy:  0.8418915202640045\n",
      "Confusion Matrix: \n",
      "[[  207  6371]\n",
      " [   25 32488]]\n",
      "True Positives (TP) =  207\n",
      "True Negatives (TN) =  32488\n",
      "False Positives (FP) =  6371\n",
      "False Negatives (FN) =  25\n",
      "Accuracy: \n",
      "0.8363817758563352\n",
      "Precision: \n",
      "0.8360482771044031\n",
      "F1 Score: \n",
      "0.9103850249397523\n",
      "Classification Report: \n",
      "              precision    recall  f1-score   support\n",
      "\n",
      "           0       0.89      0.03      0.06      6578\n",
      "           1       0.84      1.00      0.91     32513\n",
      "\n",
      "    accuracy                           0.84     39091\n",
      "   macro avg       0.86      0.52      0.49     39091\n",
      "weighted avg       0.85      0.84      0.77     39091\n",
      "\n",
      "CPU times: user 231 ms, sys: 0 ns, total: 231 ms\n",
      "Wall time: 230 ms\n"
     ]
    }
   ],
   "source": [
    "%%time\n",
    "clf = MultinomialNB()\n",
    "clf.fit(X_train_tfvec, y_train)\n",
    "\n",
    "nb_pred = clf.predict(X_test_tfvec)\n",
    "\n",
    "print(\"Naive Bayes: \")\n",
    "nb_train = clf.predict(X_train_tfvec)\n",
    "print(\"Training Accuracy: \", metrics.accuracy_score(y_train, nb_train))\n",
    "\n",
    "show_metrics(y_test, nb_pred)"
   ]
  },
  {
   "cell_type": "markdown",
   "id": "9bf711ea",
   "metadata": {
    "papermill": {
     "duration": 0.01659,
     "end_time": "2024-04-27T19:29:34.398828",
     "exception": false,
     "start_time": "2024-04-27T19:29:34.382238",
     "status": "completed"
    },
    "tags": []
   },
   "source": [
    "## K Nearest Neighbors"
   ]
  },
  {
   "cell_type": "markdown",
   "id": "1ddbb8fb",
   "metadata": {
    "papermill": {
     "duration": 0.017003,
     "end_time": "2024-04-27T19:29:34.432880",
     "exception": false,
     "start_time": "2024-04-27T19:29:34.415877",
     "status": "completed"
    },
    "tags": []
   },
   "source": [
    "## LightGBM"
   ]
  },
  {
   "cell_type": "code",
   "execution_count": 27,
   "id": "9d2e138b",
   "metadata": {
    "execution": {
     "iopub.execute_input": "2024-04-27T19:29:34.468427Z",
     "iopub.status.busy": "2024-04-27T19:29:34.467973Z",
     "iopub.status.idle": "2024-04-27T19:29:34.473135Z",
     "shell.execute_reply": "2024-04-27T19:29:34.471961Z"
    },
    "papermill": {
     "duration": 0.025895,
     "end_time": "2024-04-27T19:29:34.475634",
     "exception": false,
     "start_time": "2024-04-27T19:29:34.449739",
     "status": "completed"
    },
    "tags": []
   },
   "outputs": [],
   "source": [
    "# takes a long time and needs more refining\n",
    "# %%time\n",
    "# lgb_clf = lgbm.LGBMClassifier(random_state=42)\n",
    "# lgb_clf.fit(X_train_tfvec, y_train)\n",
    "\n",
    "# lgb_pred = lgb_clf.predict(X_test_tfvec)\n",
    "\n",
    "# lgb_train = lgb_clf.predict(X_train_tfvec)\n",
    "# print(\"Training Accuracy: \", metrics.accuracy_score(y_train, lgb_train))\n",
    "\n",
    "# show_metrics(y_test, lgb_pred)"
   ]
  },
  {
   "cell_type": "code",
   "execution_count": 28,
   "id": "303c73a4",
   "metadata": {
    "execution": {
     "iopub.execute_input": "2024-04-27T19:29:34.511715Z",
     "iopub.status.busy": "2024-04-27T19:29:34.511306Z",
     "iopub.status.idle": "2024-04-27T19:29:34.516391Z",
     "shell.execute_reply": "2024-04-27T19:29:34.515085Z"
    },
    "papermill": {
     "duration": 0.025838,
     "end_time": "2024-04-27T19:29:34.518977",
     "exception": false,
     "start_time": "2024-04-27T19:29:34.493139",
     "status": "completed"
    },
    "tags": []
   },
   "outputs": [],
   "source": [
    "# %%time\n",
    "# # tuning with gridsearch\n",
    "# param_grid = {\"n_estimators\": [50, 100, 150, 200], \n",
    "#               \"learning_rate\": [0.001, 0.01, 0.1, 1], \n",
    "#               \"boosting_type\": [\"gbdt\", \"dart\", \"rf\"]}\n",
    "\n",
    "# lgb_cv = GridSearchCV(lgb_clf, param_grid, cv=5)\n",
    "# lgb_cv.fit(X_train_tfvec, y_train)\n",
    "\n",
    "# print(\"Best Params: \", lgb_cv.best_params_)\n",
    "# print(\"Best Score: \", lgb_cv.best_score_)"
   ]
  },
  {
   "cell_type": "markdown",
   "id": "1921695a",
   "metadata": {
    "papermill": {
     "duration": 0.018704,
     "end_time": "2024-04-27T19:29:34.555193",
     "exception": false,
     "start_time": "2024-04-27T19:29:34.536489",
     "status": "completed"
    },
    "tags": []
   },
   "source": [
    "## AdaBoost"
   ]
  },
  {
   "cell_type": "code",
   "execution_count": 29,
   "id": "40cead63",
   "metadata": {
    "execution": {
     "iopub.execute_input": "2024-04-27T19:29:34.590545Z",
     "iopub.status.busy": "2024-04-27T19:29:34.590127Z",
     "iopub.status.idle": "2024-04-27T19:30:48.573467Z",
     "shell.execute_reply": "2024-04-27T19:30:48.572406Z"
    },
    "papermill": {
     "duration": 74.004628,
     "end_time": "2024-04-27T19:30:48.576627",
     "exception": false,
     "start_time": "2024-04-27T19:29:34.571999",
     "status": "completed"
    },
    "tags": []
   },
   "outputs": [
    {
     "name": "stdout",
     "output_type": "stream",
     "text": [
      "AdaBoost: \n",
      "Training Accuracy:  0.8621523269869085\n",
      "Confusion Matrix: \n",
      "[[ 1987  4591]\n",
      " [  940 31573]]\n",
      "True Positives (TP) =  1987\n",
      "True Negatives (TN) =  31573\n",
      "False Positives (FP) =  4591\n",
      "False Negatives (FN) =  940\n",
      "Accuracy: \n",
      "0.8585096313729503\n",
      "Precision: \n",
      "0.8730505475058069\n",
      "F1 Score: \n",
      "0.9194635758696507\n",
      "Classification Report: \n",
      "              precision    recall  f1-score   support\n",
      "\n",
      "           0       0.68      0.30      0.42      6578\n",
      "           1       0.87      0.97      0.92     32513\n",
      "\n",
      "    accuracy                           0.86     39091\n",
      "   macro avg       0.78      0.64      0.67     39091\n",
      "weighted avg       0.84      0.86      0.84     39091\n",
      "\n",
      "CPU times: user 1min 13s, sys: 10.1 ms, total: 1min 13s\n",
      "Wall time: 1min 13s\n"
     ]
    }
   ],
   "source": [
    "%%time\n",
    "ada = AdaBoostClassifier(random_state=42)\n",
    "ada.fit(X_train_tfvec, y_train)\n",
    "\n",
    "ada_pred = ada.predict(X_test_tfvec)\n",
    "\n",
    "print(\"AdaBoost: \")\n",
    "ada_train = ada.predict(X_train_tfvec)\n",
    "print(\"Training Accuracy: \", metrics.accuracy_score(y_train, ada_train))\n",
    "\n",
    "show_metrics(y_test, ada_pred)"
   ]
  },
  {
   "cell_type": "code",
   "execution_count": 30,
   "id": "c82c1a58",
   "metadata": {
    "execution": {
     "iopub.execute_input": "2024-04-27T19:30:48.614009Z",
     "iopub.status.busy": "2024-04-27T19:30:48.613570Z",
     "iopub.status.idle": "2024-04-27T19:33:24.559182Z",
     "shell.execute_reply": "2024-04-27T19:33:24.557538Z"
    },
    "papermill": {
     "duration": 155.967294,
     "end_time": "2024-04-27T19:33:24.561917",
     "exception": false,
     "start_time": "2024-04-27T19:30:48.594623",
     "status": "completed"
    },
    "tags": []
   },
   "outputs": [
    {
     "name": "stdout",
     "output_type": "stream",
     "text": [
      "AdaBoost 100: \n",
      "Training Accuracy:  0.8695262885246321\n",
      "Confusion Matrix: \n",
      "[[ 2311  4267]\n",
      " [ 1007 31506]]\n",
      "True Positives (TP) =  2311\n",
      "True Negatives (TN) =  31506\n",
      "False Positives (FP) =  4267\n",
      "False Negatives (FN) =  1007\n",
      "Accuracy: \n",
      "0.8650840346882914\n",
      "Precision: \n",
      "0.8807200961619098\n",
      "F1 Score: \n",
      "0.922766013531324\n",
      "Classification Report: \n",
      "              precision    recall  f1-score   support\n",
      "\n",
      "           0       0.70      0.35      0.47      6578\n",
      "           1       0.88      0.97      0.92     32513\n",
      "\n",
      "    accuracy                           0.87     39091\n",
      "   macro avg       0.79      0.66      0.69     39091\n",
      "weighted avg       0.85      0.87      0.85     39091\n",
      "\n",
      "CPU times: user 2min 35s, sys: 34.2 ms, total: 2min 35s\n",
      "Wall time: 2min 35s\n"
     ]
    }
   ],
   "source": [
    "%%time\n",
    "ada = AdaBoostClassifier(n_estimators=100, random_state=42)\n",
    "ada.fit(X_train_tfvec, y_train)\n",
    "\n",
    "ada_pred = ada.predict(X_test_tfvec)\n",
    "\n",
    "print(\"AdaBoost 100: \")\n",
    "ada_train = ada.predict(X_train_tfvec)\n",
    "print(\"Training Accuracy: \", metrics.accuracy_score(y_train, ada_train))\n",
    "\n",
    "show_metrics(y_test, ada_pred)"
   ]
  },
  {
   "cell_type": "code",
   "execution_count": 31,
   "id": "1d4717d7",
   "metadata": {
    "execution": {
     "iopub.execute_input": "2024-04-27T19:33:24.598301Z",
     "iopub.status.busy": "2024-04-27T19:33:24.597902Z",
     "iopub.status.idle": "2024-04-27T19:37:18.880300Z",
     "shell.execute_reply": "2024-04-27T19:37:18.878917Z"
    },
    "papermill": {
     "duration": 234.303778,
     "end_time": "2024-04-27T19:37:18.882999",
     "exception": false,
     "start_time": "2024-04-27T19:33:24.579221",
     "status": "completed"
    },
    "tags": []
   },
   "outputs": [
    {
     "name": "stdout",
     "output_type": "stream",
     "text": [
      "AdaBoost 150: \n",
      "Training Accuracy:  0.8759153497355479\n",
      "Confusion Matrix: \n",
      "[[ 2587  3991]\n",
      " [ 1072 31441]]\n",
      "True Positives (TP) =  2587\n",
      "True Negatives (TN) =  31441\n",
      "False Positives (FP) =  3991\n",
      "False Negatives (FN) =  1072\n",
      "Accuracy: \n",
      "0.870481696554194\n",
      "Precision: \n",
      "0.8873617069315872\n",
      "F1 Score: \n",
      "0.9254838472293766\n",
      "Classification Report: \n",
      "              precision    recall  f1-score   support\n",
      "\n",
      "           0       0.71      0.39      0.51      6578\n",
      "           1       0.89      0.97      0.93     32513\n",
      "\n",
      "    accuracy                           0.87     39091\n",
      "   macro avg       0.80      0.68      0.72     39091\n",
      "weighted avg       0.86      0.87      0.85     39091\n",
      "\n",
      "CPU times: user 3min 54s, sys: 50.5 ms, total: 3min 54s\n",
      "Wall time: 3min 54s\n"
     ]
    }
   ],
   "source": [
    "%%time\n",
    "ada = AdaBoostClassifier(n_estimators=150, random_state=42)\n",
    "ada.fit(X_train_tfvec, y_train)\n",
    "\n",
    "ada_pred = ada.predict(X_test_tfvec)\n",
    "\n",
    "print(\"AdaBoost 150: \")\n",
    "ada_train = ada.predict(X_train_tfvec)\n",
    "print(\"Training Accuracy: \", metrics.accuracy_score(y_train, ada_train))\n",
    "\n",
    "show_metrics(y_test, ada_pred)"
   ]
  },
  {
   "cell_type": "code",
   "execution_count": 32,
   "id": "6fba28eb",
   "metadata": {
    "execution": {
     "iopub.execute_input": "2024-04-27T19:37:18.920538Z",
     "iopub.status.busy": "2024-04-27T19:37:18.919756Z",
     "iopub.status.idle": "2024-04-27T19:37:18.925062Z",
     "shell.execute_reply": "2024-04-27T19:37:18.923755Z"
    },
    "papermill": {
     "duration": 0.026771,
     "end_time": "2024-04-27T19:37:18.927487",
     "exception": false,
     "start_time": "2024-04-27T19:37:18.900716",
     "status": "completed"
    },
    "tags": []
   },
   "outputs": [],
   "source": [
    "# GridSearch warnings\n",
    "# /opt/conda/lib/python3.10/site-packages/sklearn/metrics/_classification.py:1344: \n",
    "# UndefinedMetricWarning: Precision and F-score are ill-defined and being set to 0.0 in labels with no predicted samples. \n",
    "# Use `zero_division` parameter to control this behavior.\n",
    "# _warn_prf(average, modifier, msg_start, len(result))"
   ]
  },
  {
   "cell_type": "code",
   "execution_count": 33,
   "id": "6b47ff41",
   "metadata": {
    "execution": {
     "iopub.execute_input": "2024-04-27T19:37:18.965575Z",
     "iopub.status.busy": "2024-04-27T19:37:18.965189Z",
     "iopub.status.idle": "2024-04-27T19:37:18.970393Z",
     "shell.execute_reply": "2024-04-27T19:37:18.969163Z"
    },
    "papermill": {
     "duration": 0.027219,
     "end_time": "2024-04-27T19:37:18.973018",
     "exception": false,
     "start_time": "2024-04-27T19:37:18.945799",
     "status": "completed"
    },
    "tags": []
   },
   "outputs": [],
   "source": [
    "# timeout before results came\n",
    "# %%time\n",
    "# # tuning with gridsearch\n",
    "# param_grid = {\"n_estimators\" : [50, 70, 90, 110, 140, 180], \n",
    "#               \"learning_rate\" : [0.001, 0.01, 0.1, 1, 10]}\n",
    "\n",
    "# ada_cv = GridSearchCV(ada, param_grid, cv=5)\n",
    "# ada_cv.fit(X_train_tfvec, y_train)\n",
    "\n",
    "# print(\"Best Params: \", ada_cv.best_params_)\n",
    "# print(\"Best Score: \", ada_cv.best_score_)"
   ]
  },
  {
   "cell_type": "code",
   "execution_count": 34,
   "id": "f6d0faf9",
   "metadata": {
    "execution": {
     "iopub.execute_input": "2024-04-27T19:37:19.011385Z",
     "iopub.status.busy": "2024-04-27T19:37:19.010983Z",
     "iopub.status.idle": "2024-04-27T19:37:19.016632Z",
     "shell.execute_reply": "2024-04-27T19:37:19.015364Z"
    },
    "papermill": {
     "duration": 0.02818,
     "end_time": "2024-04-27T19:37:19.019065",
     "exception": false,
     "start_time": "2024-04-27T19:37:18.990885",
     "status": "completed"
    },
    "tags": []
   },
   "outputs": [],
   "source": [
    "# new_ada = AdaBoostClassifier(random_state=42, **ada_cv.best_params_)\n",
    "# new_ada.fit(X_train_tfvec, y_train)\n",
    "\n",
    "# ada_pred = new_ada.predict(X_test_tfvec)\n",
    "\n",
    "# ada_train = new_ada.predict(X_train_tfvec)\n",
    "# print(\"Training Accuracy: \", metrics.accuracy_score(y_train, ada_train))\n",
    "\n",
    "# show_metrics(y_test, ada_pred)"
   ]
  },
  {
   "cell_type": "code",
   "execution_count": 35,
   "id": "2795aa0b",
   "metadata": {
    "execution": {
     "iopub.execute_input": "2024-04-27T19:37:19.057983Z",
     "iopub.status.busy": "2024-04-27T19:37:19.057514Z",
     "iopub.status.idle": "2024-04-27T19:37:19.062966Z",
     "shell.execute_reply": "2024-04-27T19:37:19.061759Z"
    },
    "papermill": {
     "duration": 0.028605,
     "end_time": "2024-04-27T19:37:19.065658",
     "exception": false,
     "start_time": "2024-04-27T19:37:19.037053",
     "status": "completed"
    },
    "tags": []
   },
   "outputs": [],
   "source": [
    "# %%time\n",
    "# # use svc as a base learner\n",
    "# svc = SVC(probability=True, kernel=\"linear\", random_state=42)\n",
    "\n",
    "# ada_svc = AdaBoostClassifier(base_estimator=svc, random_state=42)\n",
    "# ada_svc.fit(X_train_tfvec, y_train)\n",
    "\n",
    "# ada_svc_pred = ada_svc.predict(X_test_tfvec)\n",
    "\n",
    "# show_metrics(y_test, ada_svc_pred)"
   ]
  }
 ],
 "metadata": {
  "kaggle": {
   "accelerator": "none",
   "dataSources": [
    {
     "datasetId": 4881738,
     "sourceId": 8231625,
     "sourceType": "datasetVersion"
    },
    {
     "datasetId": 4887057,
     "sourceId": 8238747,
     "sourceType": "datasetVersion"
    }
   ],
   "dockerImageVersionId": 30698,
   "isGpuEnabled": false,
   "isInternetEnabled": true,
   "language": "python",
   "sourceType": "notebook"
  },
  "kernelspec": {
   "display_name": "Python 3",
   "language": "python",
   "name": "python3"
  },
  "language_info": {
   "codemirror_mode": {
    "name": "ipython",
    "version": 3
   },
   "file_extension": ".py",
   "mimetype": "text/x-python",
   "name": "python",
   "nbconvert_exporter": "python",
   "pygments_lexer": "ipython3",
   "version": "3.10.13"
  },
  "papermill": {
   "default_parameters": {},
   "duration": 18986.641654,
   "end_time": "2024-04-27T19:37:19.952526",
   "environment_variables": {},
   "exception": null,
   "input_path": "__notebook__.ipynb",
   "output_path": "__notebook__.ipynb",
   "parameters": {},
   "start_time": "2024-04-27T14:20:53.310872",
   "version": "2.5.0"
  }
 },
 "nbformat": 4,
 "nbformat_minor": 5
}
