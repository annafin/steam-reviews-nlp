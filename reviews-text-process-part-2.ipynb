{
 "cells": [
  {
   "cell_type": "code",
   "execution_count": 1,
   "id": "d0de97f7",
   "metadata": {
    "_cell_guid": "b1076dfc-b9ad-4769-8c92-a6c4dae69d19",
    "_uuid": "8f2839f25d086af736a60e9eeb907d3b93b6e0e5",
    "execution": {
     "iopub.execute_input": "2024-04-26T15:49:36.718887Z",
     "iopub.status.busy": "2024-04-26T15:49:36.718416Z",
     "iopub.status.idle": "2024-04-26T15:49:37.688271Z",
     "shell.execute_reply": "2024-04-26T15:49:37.686676Z"
    },
    "papermill": {
     "duration": 0.979314,
     "end_time": "2024-04-26T15:49:37.691853",
     "exception": false,
     "start_time": "2024-04-26T15:49:36.712539",
     "status": "completed"
    },
    "tags": []
   },
   "outputs": [
    {
     "name": "stdout",
     "output_type": "stream",
     "text": [
      "/kaggle/input/steam-subset-5/steam_subset_5_new.csv\n"
     ]
    }
   ],
   "source": [
    "# This Python 3 environment comes with many helpful analytics libraries installed\n",
    "# It is defined by the kaggle/python Docker image: https://github.com/kaggle/docker-python\n",
    "# For example, here's several helpful packages to load\n",
    "\n",
    "import numpy as np # linear algebra\n",
    "import pandas as pd # data processing, CSV file I/O (e.g. pd.read_csv)\n",
    "\n",
    "# Input data files are available in the read-only \"../input/\" directory\n",
    "# For example, running this (by clicking run or pressing Shift+Enter) will list all files under the input directory\n",
    "\n",
    "import os\n",
    "for dirname, _, filenames in os.walk('/kaggle/input'):\n",
    "    for filename in filenames:\n",
    "        print(os.path.join(dirname, filename))\n",
    "\n",
    "# You can write up to 20GB to the current directory (/kaggle/working/) that gets preserved as output when you create a version using \"Save & Run All\" \n",
    "# You can also write temporary files to /kaggle/temp/, but they won't be saved outside of the current session"
   ]
  },
  {
   "cell_type": "code",
   "execution_count": 2,
   "id": "d96ef4e7",
   "metadata": {
    "execution": {
     "iopub.execute_input": "2024-04-26T15:49:37.701075Z",
     "iopub.status.busy": "2024-04-26T15:49:37.700478Z",
     "iopub.status.idle": "2024-04-26T15:49:45.924829Z",
     "shell.execute_reply": "2024-04-26T15:49:45.923628Z"
    },
    "papermill": {
     "duration": 8.231314,
     "end_time": "2024-04-26T15:49:45.927398",
     "exception": false,
     "start_time": "2024-04-26T15:49:37.696084",
     "status": "completed"
    },
    "tags": []
   },
   "outputs": [],
   "source": [
    "import seaborn as sns\n",
    "import matplotlib.pyplot as plt\n",
    "import re\n",
    "\n",
    "import spacy\n",
    "spacy.prefer_gpu()\n",
    "nlp = spacy.load(\"en_core_web_sm\")"
   ]
  },
  {
   "cell_type": "code",
   "execution_count": 3,
   "id": "2e7ff79f",
   "metadata": {
    "execution": {
     "iopub.execute_input": "2024-04-26T15:49:45.936144Z",
     "iopub.status.busy": "2024-04-26T15:49:45.934960Z",
     "iopub.status.idle": "2024-04-26T15:49:45.940538Z",
     "shell.execute_reply": "2024-04-26T15:49:45.939551Z"
    },
    "papermill": {
     "duration": 0.012327,
     "end_time": "2024-04-26T15:49:45.942857",
     "exception": false,
     "start_time": "2024-04-26T15:49:45.930530",
     "status": "completed"
    },
    "tags": []
   },
   "outputs": [],
   "source": [
    "# data = pd.read_csv(\"/kaggle/input/steam-reviews-20-new/steam_reviews_subset_20_new.csv\")"
   ]
  },
  {
   "cell_type": "code",
   "execution_count": 4,
   "id": "deaa5df7",
   "metadata": {
    "execution": {
     "iopub.execute_input": "2024-04-26T15:49:45.951146Z",
     "iopub.status.busy": "2024-04-26T15:49:45.950604Z",
     "iopub.status.idle": "2024-04-26T15:49:48.159582Z",
     "shell.execute_reply": "2024-04-26T15:49:48.158312Z"
    },
    "papermill": {
     "duration": 2.216086,
     "end_time": "2024-04-26T15:49:48.162268",
     "exception": false,
     "start_time": "2024-04-26T15:49:45.946182",
     "status": "completed"
    },
    "tags": []
   },
   "outputs": [],
   "source": [
    "data = pd.read_csv(\"/kaggle/input/steam-subset-5/steam_subset_5_new.csv\")"
   ]
  },
  {
   "cell_type": "code",
   "execution_count": 5,
   "id": "e17ec7ee",
   "metadata": {
    "execution": {
     "iopub.execute_input": "2024-04-26T15:49:48.170936Z",
     "iopub.status.busy": "2024-04-26T15:49:48.170280Z",
     "iopub.status.idle": "2024-04-26T15:49:48.230796Z",
     "shell.execute_reply": "2024-04-26T15:49:48.229619Z"
    },
    "papermill": {
     "duration": 0.067459,
     "end_time": "2024-04-26T15:49:48.233122",
     "exception": false,
     "start_time": "2024-04-26T15:49:48.165663",
     "status": "completed"
    },
    "tags": []
   },
   "outputs": [
    {
     "name": "stdout",
     "output_type": "stream",
     "text": [
      "<class 'pandas.core.frame.DataFrame'>\n",
      "RangeIndex: 195564 entries, 0 to 195563\n",
      "Data columns (total 5 columns):\n",
      " #   Column        Non-Null Count   Dtype \n",
      "---  ------        --------------   ----- \n",
      " 0   app_id        195564 non-null  int64 \n",
      " 1   app_name      195564 non-null  object\n",
      " 2   review_text   195564 non-null  object\n",
      " 3   review_score  195564 non-null  int64 \n",
      " 4   review_votes  195564 non-null  int64 \n",
      "dtypes: int64(3), object(2)\n",
      "memory usage: 7.5+ MB\n"
     ]
    }
   ],
   "source": [
    "data.info()"
   ]
  },
  {
   "cell_type": "code",
   "execution_count": 6,
   "id": "63e5372c",
   "metadata": {
    "execution": {
     "iopub.execute_input": "2024-04-26T15:49:48.241586Z",
     "iopub.status.busy": "2024-04-26T15:49:48.240988Z",
     "iopub.status.idle": "2024-04-26T15:49:48.246121Z",
     "shell.execute_reply": "2024-04-26T15:49:48.245058Z"
    },
    "papermill": {
     "duration": 0.012233,
     "end_time": "2024-04-26T15:49:48.248621",
     "exception": false,
     "start_time": "2024-04-26T15:49:48.236388",
     "status": "completed"
    },
    "tags": []
   },
   "outputs": [],
   "source": [
    "# add specifics\n",
    "# nlp.Defaults.stop_words |= {\"game\", \"play\"}\n",
    "\n",
    "# list of stop words to filter\n",
    "stopwords = spacy.lang.en.stop_words.STOP_WORDS"
   ]
  },
  {
   "cell_type": "code",
   "execution_count": 7,
   "id": "b6e7745b",
   "metadata": {
    "execution": {
     "iopub.execute_input": "2024-04-26T15:49:48.256650Z",
     "iopub.status.busy": "2024-04-26T15:49:48.256244Z",
     "iopub.status.idle": "2024-04-26T15:49:48.262357Z",
     "shell.execute_reply": "2024-04-26T15:49:48.261248Z"
    },
    "papermill": {
     "duration": 0.012484,
     "end_time": "2024-04-26T15:49:48.264517",
     "exception": false,
     "start_time": "2024-04-26T15:49:48.252033",
     "status": "completed"
    },
    "tags": []
   },
   "outputs": [],
   "source": [
    "def remove_stopwords_punct(review):\n",
    "    review = review.lower()\n",
    "    app_review = nlp(review)\n",
    "    filter_stop = [token for token in app_review if not token.is_stop] \n",
    "    remove_punc = [token for token in filter_stop if not token.is_punct]\n",
    "    lemmatize = [token.lemma_ for token in remove_punc]\n",
    "    app_review = \" \".join([token for token in lemmatize])\n",
    "    \n",
    "    return app_review"
   ]
  },
  {
   "cell_type": "code",
   "execution_count": 8,
   "id": "be91612f",
   "metadata": {
    "execution": {
     "iopub.execute_input": "2024-04-26T15:49:48.272817Z",
     "iopub.status.busy": "2024-04-26T15:49:48.272414Z",
     "iopub.status.idle": "2024-04-26T16:44:26.989833Z",
     "shell.execute_reply": "2024-04-26T16:44:26.988338Z"
    },
    "papermill": {
     "duration": 3278.725507,
     "end_time": "2024-04-26T16:44:26.993449",
     "exception": false,
     "start_time": "2024-04-26T15:49:48.267942",
     "status": "completed"
    },
    "tags": []
   },
   "outputs": [],
   "source": [
    "# remove stopwords and punctuation from review text\n",
    "data[\"review_processed\"] = data[\"review_text\"].apply(lambda x: remove_stopwords_punct(x))"
   ]
  },
  {
   "cell_type": "code",
   "execution_count": 9,
   "id": "75a5624c",
   "metadata": {
    "execution": {
     "iopub.execute_input": "2024-04-26T16:44:27.003552Z",
     "iopub.status.busy": "2024-04-26T16:44:27.003126Z",
     "iopub.status.idle": "2024-04-26T16:44:27.008149Z",
     "shell.execute_reply": "2024-04-26T16:44:27.006965Z"
    },
    "papermill": {
     "duration": 0.012228,
     "end_time": "2024-04-26T16:44:27.010438",
     "exception": false,
     "start_time": "2024-04-26T16:44:26.998210",
     "status": "completed"
    },
    "tags": []
   },
   "outputs": [],
   "source": [
    "# save processed data\n",
    "# data.to_csv(\"steam_reviews_subset_20_processed_4_25.csv\", index=False)"
   ]
  },
  {
   "cell_type": "code",
   "execution_count": 10,
   "id": "8f820d32",
   "metadata": {
    "execution": {
     "iopub.execute_input": "2024-04-26T16:44:27.019073Z",
     "iopub.status.busy": "2024-04-26T16:44:27.018663Z",
     "iopub.status.idle": "2024-04-26T16:44:30.344730Z",
     "shell.execute_reply": "2024-04-26T16:44:30.343379Z"
    },
    "papermill": {
     "duration": 3.333531,
     "end_time": "2024-04-26T16:44:30.347597",
     "exception": false,
     "start_time": "2024-04-26T16:44:27.014066",
     "status": "completed"
    },
    "tags": []
   },
   "outputs": [],
   "source": [
    "# save processed data\n",
    "data.to_csv(\"steam_subset_5_processed_new.csv\", index=False)"
   ]
  }
 ],
 "metadata": {
  "kaggle": {
   "accelerator": "none",
   "dataSources": [
    {
     "datasetId": 4886740,
     "sourceId": 8238309,
     "sourceType": "datasetVersion"
    }
   ],
   "dockerImageVersionId": 30698,
   "isGpuEnabled": false,
   "isInternetEnabled": true,
   "language": "python",
   "sourceType": "notebook"
  },
  "kernelspec": {
   "display_name": "Python 3",
   "language": "python",
   "name": "python3"
  },
  "language_info": {
   "codemirror_mode": {
    "name": "ipython",
    "version": 3
   },
   "file_extension": ".py",
   "mimetype": "text/x-python",
   "name": "python",
   "nbconvert_exporter": "python",
   "pygments_lexer": "ipython3",
   "version": "3.10.13"
  },
  "papermill": {
   "default_parameters": {},
   "duration": 3298.989108,
   "end_time": "2024-04-26T16:44:32.731718",
   "environment_variables": {},
   "exception": null,
   "input_path": "__notebook__.ipynb",
   "output_path": "__notebook__.ipynb",
   "parameters": {},
   "start_time": "2024-04-26T15:49:33.742610",
   "version": "2.5.0"
  }
 },
 "nbformat": 4,
 "nbformat_minor": 5
}
