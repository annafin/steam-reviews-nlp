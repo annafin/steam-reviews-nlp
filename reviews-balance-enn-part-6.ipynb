{
 "cells": [
  {
   "cell_type": "code",
   "execution_count": 1,
   "id": "356fbf0a",
   "metadata": {
    "_cell_guid": "b1076dfc-b9ad-4769-8c92-a6c4dae69d19",
    "_uuid": "8f2839f25d086af736a60e9eeb907d3b93b6e0e5",
    "execution": {
     "iopub.execute_input": "2024-04-27T14:12:18.070409Z",
     "iopub.status.busy": "2024-04-27T14:12:18.070031Z",
     "iopub.status.idle": "2024-04-27T14:12:18.932624Z",
     "shell.execute_reply": "2024-04-27T14:12:18.931119Z"
    },
    "papermill": {
     "duration": 0.875947,
     "end_time": "2024-04-27T14:12:18.935232",
     "exception": false,
     "start_time": "2024-04-27T14:12:18.059285",
     "status": "completed"
    },
    "tags": []
   },
   "outputs": [
    {
     "name": "stdout",
     "output_type": "stream",
     "text": [
      "/kaggle/input/steam-processed-5-new/steam_subset_5_processed_new.csv\n",
      "/kaggle/input/steam-20-processed-version/steam_reviews_subset_20_processed_4_25.csv\n"
     ]
    }
   ],
   "source": [
    "# This Python 3 environment comes with many helpful analytics libraries installed\n",
    "# It is defined by the kaggle/python Docker image: https://github.com/kaggle/docker-python\n",
    "# For example, here's several helpful packages to load\n",
    "\n",
    "import numpy as np # linear algebra\n",
    "import pandas as pd # data processing, CSV file I/O (e.g. pd.read_csv)\n",
    "\n",
    "# Input data files are available in the read-only \"../input/\" directory\n",
    "# For example, running this (by clicking run or pressing Shift+Enter) will list all files under the input directory\n",
    "\n",
    "import os\n",
    "for dirname, _, filenames in os.walk('/kaggle/input'):\n",
    "    for filename in filenames:\n",
    "        print(os.path.join(dirname, filename))\n",
    "\n",
    "# You can write up to 20GB to the current directory (/kaggle/working/) that gets preserved as output when you create a version using \"Save & Run All\" \n",
    "# You can also write temporary files to /kaggle/temp/, but they won't be saved outside of the current session"
   ]
  },
  {
   "cell_type": "code",
   "execution_count": 2,
   "id": "069809b5",
   "metadata": {
    "execution": {
     "iopub.execute_input": "2024-04-27T14:12:18.955772Z",
     "iopub.status.busy": "2024-04-27T14:12:18.955206Z",
     "iopub.status.idle": "2024-04-27T14:12:20.222755Z",
     "shell.execute_reply": "2024-04-27T14:12:20.221713Z"
    },
    "papermill": {
     "duration": 1.280299,
     "end_time": "2024-04-27T14:12:20.225378",
     "exception": false,
     "start_time": "2024-04-27T14:12:18.945079",
     "status": "completed"
    },
    "tags": []
   },
   "outputs": [],
   "source": [
    "import seaborn as sns\n",
    "import matplotlib.pyplot as plt\n",
    "import re\n",
    "\n",
    "# import spacy\n",
    "# spacy.prefer_gpu()\n",
    "# nlp = spacy.load(\"en_core_web_sm\")"
   ]
  },
  {
   "cell_type": "code",
   "execution_count": 3,
   "id": "f8e086f0",
   "metadata": {
    "execution": {
     "iopub.execute_input": "2024-04-27T14:12:20.244763Z",
     "iopub.status.busy": "2024-04-27T14:12:20.244333Z",
     "iopub.status.idle": "2024-04-27T14:12:20.248983Z",
     "shell.execute_reply": "2024-04-27T14:12:20.247834Z"
    },
    "papermill": {
     "duration": 0.016935,
     "end_time": "2024-04-27T14:12:20.251190",
     "exception": false,
     "start_time": "2024-04-27T14:12:20.234255",
     "status": "completed"
    },
    "tags": []
   },
   "outputs": [],
   "source": [
    "# cleaned and processed 20% data sample taken from steam reviews\n",
    "# data = pd.read_csv(\"/kaggle/input/steam-20-processed-version/steam_reviews_subset_20_processed_4_25.csv\")"
   ]
  },
  {
   "cell_type": "code",
   "execution_count": 4,
   "id": "1305fc00",
   "metadata": {
    "execution": {
     "iopub.execute_input": "2024-04-27T14:12:20.271536Z",
     "iopub.status.busy": "2024-04-27T14:12:20.271127Z",
     "iopub.status.idle": "2024-04-27T14:12:23.764369Z",
     "shell.execute_reply": "2024-04-27T14:12:23.763298Z"
    },
    "papermill": {
     "duration": 3.506984,
     "end_time": "2024-04-27T14:12:23.766977",
     "exception": false,
     "start_time": "2024-04-27T14:12:20.259993",
     "status": "completed"
    },
    "tags": []
   },
   "outputs": [],
   "source": [
    "# cleaned and processed 5% data sample taken from steam reviews\n",
    "data = pd.read_csv(\"/kaggle/input/steam-processed-5-new/steam_subset_5_processed_new.csv\")"
   ]
  },
  {
   "cell_type": "code",
   "execution_count": 5,
   "id": "eb292f63",
   "metadata": {
    "execution": {
     "iopub.execute_input": "2024-04-27T14:12:23.786385Z",
     "iopub.status.busy": "2024-04-27T14:12:23.785698Z",
     "iopub.status.idle": "2024-04-27T14:12:23.808002Z",
     "shell.execute_reply": "2024-04-27T14:12:23.806882Z"
    },
    "papermill": {
     "duration": 0.034676,
     "end_time": "2024-04-27T14:12:23.810375",
     "exception": false,
     "start_time": "2024-04-27T14:12:23.775699",
     "status": "completed"
    },
    "tags": []
   },
   "outputs": [
    {
     "data": {
      "text/html": [
       "<div>\n",
       "<style scoped>\n",
       "    .dataframe tbody tr th:only-of-type {\n",
       "        vertical-align: middle;\n",
       "    }\n",
       "\n",
       "    .dataframe tbody tr th {\n",
       "        vertical-align: top;\n",
       "    }\n",
       "\n",
       "    .dataframe thead th {\n",
       "        text-align: right;\n",
       "    }\n",
       "</style>\n",
       "<table border=\"1\" class=\"dataframe\">\n",
       "  <thead>\n",
       "    <tr style=\"text-align: right;\">\n",
       "      <th></th>\n",
       "      <th>app_id</th>\n",
       "      <th>app_name</th>\n",
       "      <th>review_text</th>\n",
       "      <th>review_score</th>\n",
       "      <th>review_votes</th>\n",
       "      <th>review_processed</th>\n",
       "    </tr>\n",
       "  </thead>\n",
       "  <tbody>\n",
       "    <tr>\n",
       "      <th>0</th>\n",
       "      <td>237930</td>\n",
       "      <td>Transistor</td>\n",
       "      <td>I think the main thing that surprised me about...</td>\n",
       "      <td>1</td>\n",
       "      <td>0</td>\n",
       "      <td>think main thing surprise game intigration mus...</td>\n",
       "    </tr>\n",
       "    <tr>\n",
       "      <th>1</th>\n",
       "      <td>270450</td>\n",
       "      <td>Robot Roller-Derby Disco Dodgeball</td>\n",
       "      <td>Cute little FPS that takes a little practice t...</td>\n",
       "      <td>1</td>\n",
       "      <td>0</td>\n",
       "      <td>cute little fps take little practice learn cat...</td>\n",
       "    </tr>\n",
       "    <tr>\n",
       "      <th>2</th>\n",
       "      <td>49520</td>\n",
       "      <td>Borderlands 2</td>\n",
       "      <td>This game is absolutely the best! Totally wort...</td>\n",
       "      <td>1</td>\n",
       "      <td>0</td>\n",
       "      <td>game absolutely good totally worth get cheap s...</td>\n",
       "    </tr>\n",
       "    <tr>\n",
       "      <th>3</th>\n",
       "      <td>211400</td>\n",
       "      <td>Deadlight</td>\n",
       "      <td>Nope, just a nope.  Clunky control, I can't sa...</td>\n",
       "      <td>0</td>\n",
       "      <td>0</td>\n",
       "      <td>nope nope   clunky control frustrating play ga...</td>\n",
       "    </tr>\n",
       "    <tr>\n",
       "      <th>4</th>\n",
       "      <td>219640</td>\n",
       "      <td>Chivalry: Medieval Warfare</td>\n",
       "      <td>I went into Chiv expecting something amazing. ...</td>\n",
       "      <td>1</td>\n",
       "      <td>0</td>\n",
       "      <td>go chiv expect amazing exactally think go   ga...</td>\n",
       "    </tr>\n",
       "  </tbody>\n",
       "</table>\n",
       "</div>"
      ],
      "text/plain": [
       "   app_id                            app_name  \\\n",
       "0  237930                          Transistor   \n",
       "1  270450  Robot Roller-Derby Disco Dodgeball   \n",
       "2   49520                       Borderlands 2   \n",
       "3  211400                           Deadlight   \n",
       "4  219640          Chivalry: Medieval Warfare   \n",
       "\n",
       "                                         review_text  review_score  \\\n",
       "0  I think the main thing that surprised me about...             1   \n",
       "1  Cute little FPS that takes a little practice t...             1   \n",
       "2  This game is absolutely the best! Totally wort...             1   \n",
       "3  Nope, just a nope.  Clunky control, I can't sa...             0   \n",
       "4  I went into Chiv expecting something amazing. ...             1   \n",
       "\n",
       "   review_votes                                   review_processed  \n",
       "0             0  think main thing surprise game intigration mus...  \n",
       "1             0  cute little fps take little practice learn cat...  \n",
       "2             0  game absolutely good totally worth get cheap s...  \n",
       "3             0  nope nope   clunky control frustrating play ga...  \n",
       "4             0  go chiv expect amazing exactally think go   ga...  "
      ]
     },
     "execution_count": 5,
     "metadata": {},
     "output_type": "execute_result"
    }
   ],
   "source": [
    "data.head()"
   ]
  },
  {
   "cell_type": "code",
   "execution_count": 6,
   "id": "9d7b66b2",
   "metadata": {
    "execution": {
     "iopub.execute_input": "2024-04-27T14:12:23.829944Z",
     "iopub.status.busy": "2024-04-27T14:12:23.829541Z",
     "iopub.status.idle": "2024-04-27T14:12:23.903963Z",
     "shell.execute_reply": "2024-04-27T14:12:23.902756Z"
    },
    "papermill": {
     "duration": 0.08729,
     "end_time": "2024-04-27T14:12:23.906646",
     "exception": false,
     "start_time": "2024-04-27T14:12:23.819356",
     "status": "completed"
    },
    "tags": []
   },
   "outputs": [
    {
     "name": "stdout",
     "output_type": "stream",
     "text": [
      "<class 'pandas.core.frame.DataFrame'>\n",
      "RangeIndex: 195564 entries, 0 to 195563\n",
      "Data columns (total 6 columns):\n",
      " #   Column            Non-Null Count   Dtype \n",
      "---  ------            --------------   ----- \n",
      " 0   app_id            195564 non-null  int64 \n",
      " 1   app_name          195564 non-null  object\n",
      " 2   review_text       195564 non-null  object\n",
      " 3   review_score      195564 non-null  int64 \n",
      " 4   review_votes      195564 non-null  int64 \n",
      " 5   review_processed  195452 non-null  object\n",
      "dtypes: int64(3), object(3)\n",
      "memory usage: 9.0+ MB\n"
     ]
    }
   ],
   "source": [
    "data.info()"
   ]
  },
  {
   "cell_type": "code",
   "execution_count": 7,
   "id": "c961aa64",
   "metadata": {
    "execution": {
     "iopub.execute_input": "2024-04-27T14:12:23.926494Z",
     "iopub.status.busy": "2024-04-27T14:12:23.926080Z",
     "iopub.status.idle": "2024-04-27T14:12:23.984365Z",
     "shell.execute_reply": "2024-04-27T14:12:23.983275Z"
    },
    "papermill": {
     "duration": 0.071037,
     "end_time": "2024-04-27T14:12:23.986911",
     "exception": false,
     "start_time": "2024-04-27T14:12:23.915874",
     "status": "completed"
    },
    "tags": []
   },
   "outputs": [
    {
     "data": {
      "text/plain": [
       "app_id                0\n",
       "app_name              0\n",
       "review_text           0\n",
       "review_score          0\n",
       "review_votes          0\n",
       "review_processed    112\n",
       "dtype: int64"
      ]
     },
     "execution_count": 7,
     "metadata": {},
     "output_type": "execute_result"
    }
   ],
   "source": [
    "data.isnull().sum()"
   ]
  },
  {
   "cell_type": "code",
   "execution_count": 8,
   "id": "f3e80c64",
   "metadata": {
    "execution": {
     "iopub.execute_input": "2024-04-27T14:12:24.007082Z",
     "iopub.status.busy": "2024-04-27T14:12:24.006670Z",
     "iopub.status.idle": "2024-04-27T14:12:24.011701Z",
     "shell.execute_reply": "2024-04-27T14:12:24.010567Z"
    },
    "papermill": {
     "duration": 0.017684,
     "end_time": "2024-04-27T14:12:24.013989",
     "exception": false,
     "start_time": "2024-04-27T14:12:23.996305",
     "status": "completed"
    },
    "tags": []
   },
   "outputs": [],
   "source": [
    "# data[\"app_name\"].value_counts(normalize=True).head(20).plot(kind=\"bar\")\n",
    "# plt.xlabel(\"Game Name\")\n",
    "# plt.title(\"Top 20 Review Games on Steam\")\n",
    "# plt.show()"
   ]
  },
  {
   "cell_type": "code",
   "execution_count": 9,
   "id": "e5be3926",
   "metadata": {
    "execution": {
     "iopub.execute_input": "2024-04-27T14:12:24.034017Z",
     "iopub.status.busy": "2024-04-27T14:12:24.033573Z",
     "iopub.status.idle": "2024-04-27T14:12:24.092372Z",
     "shell.execute_reply": "2024-04-27T14:12:24.091373Z"
    },
    "papermill": {
     "duration": 0.071831,
     "end_time": "2024-04-27T14:12:24.095066",
     "exception": false,
     "start_time": "2024-04-27T14:12:24.023235",
     "status": "completed"
    },
    "tags": []
   },
   "outputs": [],
   "source": [
    "# remove rows without any data in processed review\n",
    "data = data[~data[\"review_processed\"].isnull()].copy(deep=True)"
   ]
  },
  {
   "cell_type": "code",
   "execution_count": 10,
   "id": "f461ba25",
   "metadata": {
    "execution": {
     "iopub.execute_input": "2024-04-27T14:12:24.116527Z",
     "iopub.status.busy": "2024-04-27T14:12:24.116131Z",
     "iopub.status.idle": "2024-04-27T14:12:24.178098Z",
     "shell.execute_reply": "2024-04-27T14:12:24.176876Z"
    },
    "papermill": {
     "duration": 0.075023,
     "end_time": "2024-04-27T14:12:24.180543",
     "exception": false,
     "start_time": "2024-04-27T14:12:24.105520",
     "status": "completed"
    },
    "tags": []
   },
   "outputs": [
    {
     "name": "stdout",
     "output_type": "stream",
     "text": [
      "<class 'pandas.core.frame.DataFrame'>\n",
      "Index: 195452 entries, 0 to 195563\n",
      "Data columns (total 6 columns):\n",
      " #   Column            Non-Null Count   Dtype \n",
      "---  ------            --------------   ----- \n",
      " 0   app_id            195452 non-null  int64 \n",
      " 1   app_name          195452 non-null  object\n",
      " 2   review_text       195452 non-null  object\n",
      " 3   review_score      195452 non-null  int64 \n",
      " 4   review_votes      195452 non-null  int64 \n",
      " 5   review_processed  195452 non-null  object\n",
      "dtypes: int64(3), object(3)\n",
      "memory usage: 10.4+ MB\n"
     ]
    }
   ],
   "source": [
    "data.info()"
   ]
  },
  {
   "cell_type": "markdown",
   "id": "99668562",
   "metadata": {
    "papermill": {
     "duration": 0.008794,
     "end_time": "2024-04-27T14:12:24.198511",
     "exception": false,
     "start_time": "2024-04-27T14:12:24.189717",
     "status": "completed"
    },
    "tags": []
   },
   "source": [
    "## Data Processing and Modeling: Imbalanced Sampling Techniques"
   ]
  },
  {
   "cell_type": "code",
   "execution_count": 11,
   "id": "c92f22e1",
   "metadata": {
    "execution": {
     "iopub.execute_input": "2024-04-27T14:12:24.218259Z",
     "iopub.status.busy": "2024-04-27T14:12:24.217882Z",
     "iopub.status.idle": "2024-04-27T14:12:26.199968Z",
     "shell.execute_reply": "2024-04-27T14:12:26.198789Z"
    },
    "papermill": {
     "duration": 1.99518,
     "end_time": "2024-04-27T14:12:26.202718",
     "exception": false,
     "start_time": "2024-04-27T14:12:24.207538",
     "status": "completed"
    },
    "tags": []
   },
   "outputs": [],
   "source": [
    "from sklearn.model_selection import train_test_split\n",
    "from sklearn.feature_extraction.text import CountVectorizer, TfidfVectorizer, TfidfTransformer\n",
    "from sklearn.linear_model import LogisticRegression\n",
    "from sklearn.ensemble import RandomForestClassifier\n",
    "from sklearn.tree import DecisionTreeClassifier\n",
    "from sklearn import tree\n",
    "from xgboost import XGBClassifier\n",
    "from sklearn.naive_bayes import MultinomialNB\n",
    "# from sklearn.neighbors import KNeighborsClassifier\n",
    "import lightgbm as lgbm\n",
    "from sklearn.ensemble import AdaBoostClassifier\n",
    "from sklearn.svm import SVC\n",
    "from sklearn.pipeline import Pipeline\n",
    "from sklearn.model_selection import GridSearchCV\n",
    "from sklearn import metrics\n",
    "\n",
    "# from imblearn.over_sampling import SMOTE\n",
    "# from imblearn.over_sampling import ADASYN\n",
    "from imblearn.under_sampling import EditedNearestNeighbours"
   ]
  },
  {
   "cell_type": "code",
   "execution_count": 12,
   "id": "b98031e5",
   "metadata": {
    "execution": {
     "iopub.execute_input": "2024-04-27T14:12:26.224199Z",
     "iopub.status.busy": "2024-04-27T14:12:26.222872Z",
     "iopub.status.idle": "2024-04-27T14:12:26.230712Z",
     "shell.execute_reply": "2024-04-27T14:12:26.229620Z"
    },
    "papermill": {
     "duration": 0.020871,
     "end_time": "2024-04-27T14:12:26.233058",
     "exception": false,
     "start_time": "2024-04-27T14:12:26.212187",
     "status": "completed"
    },
    "tags": []
   },
   "outputs": [],
   "source": [
    "# function to show results\n",
    "def show_metrics(y_test, predictions):\n",
    "    print(\"Confusion Matrix: \")\n",
    "    cmat = metrics.confusion_matrix(y_test, predictions)\n",
    "    print(cmat)\n",
    "    print(\"True Positives (TP) = \", cmat[0,0])\n",
    "    print(\"True Negatives (TN) = \", cmat[1,1])\n",
    "    print(\"False Positives (FP) = \", cmat[0,1])\n",
    "    print(\"False Negatives (FN) = \", cmat[1,0])\n",
    "    print(\"Accuracy: \")\n",
    "    print(metrics.accuracy_score(y_test, predictions))\n",
    "    print(\"Precision: \")\n",
    "    print(metrics.precision_score(y_test, predictions))\n",
    "    print(\"F1 Score: \")\n",
    "    print(metrics.f1_score(y_test, predictions))\n",
    "    print(\"Classification Report: \")\n",
    "    print(metrics.classification_report(y_test, predictions))"
   ]
  },
  {
   "cell_type": "code",
   "execution_count": 13,
   "id": "f21ff0fb",
   "metadata": {
    "execution": {
     "iopub.execute_input": "2024-04-27T14:12:26.253438Z",
     "iopub.status.busy": "2024-04-27T14:12:26.253055Z",
     "iopub.status.idle": "2024-04-27T14:12:26.258202Z",
     "shell.execute_reply": "2024-04-27T14:12:26.257197Z"
    },
    "papermill": {
     "duration": 0.018117,
     "end_time": "2024-04-27T14:12:26.260527",
     "exception": false,
     "start_time": "2024-04-27T14:12:26.242410",
     "status": "completed"
    },
    "tags": []
   },
   "outputs": [],
   "source": [
    "X = data[\"review_processed\"]\n",
    "y = data[\"review_score\"]"
   ]
  },
  {
   "cell_type": "code",
   "execution_count": 14,
   "id": "9825081e",
   "metadata": {
    "execution": {
     "iopub.execute_input": "2024-04-27T14:12:26.281345Z",
     "iopub.status.busy": "2024-04-27T14:12:26.280966Z",
     "iopub.status.idle": "2024-04-27T14:12:26.320144Z",
     "shell.execute_reply": "2024-04-27T14:12:26.318983Z"
    },
    "papermill": {
     "duration": 0.052778,
     "end_time": "2024-04-27T14:12:26.322689",
     "exception": false,
     "start_time": "2024-04-27T14:12:26.269911",
     "status": "completed"
    },
    "tags": []
   },
   "outputs": [],
   "source": [
    "X_train, X_test, y_train, y_test = train_test_split(X, y, test_size=0.2, shuffle=True, random_state=42)"
   ]
  },
  {
   "cell_type": "code",
   "execution_count": 15,
   "id": "ea678930",
   "metadata": {
    "execution": {
     "iopub.execute_input": "2024-04-27T14:12:26.342868Z",
     "iopub.status.busy": "2024-04-27T14:12:26.342456Z",
     "iopub.status.idle": "2024-04-27T14:12:33.813478Z",
     "shell.execute_reply": "2024-04-27T14:12:33.811968Z"
    },
    "papermill": {
     "duration": 7.48458,
     "end_time": "2024-04-27T14:12:33.816528",
     "exception": false,
     "start_time": "2024-04-27T14:12:26.331948",
     "status": "completed"
    },
    "tags": []
   },
   "outputs": [
    {
     "data": {
      "text/plain": [
       "(156361, 91863)"
      ]
     },
     "execution_count": 15,
     "metadata": {},
     "output_type": "execute_result"
    }
   ],
   "source": [
    "pipe = Pipeline([(\"cvector\", CountVectorizer()), \n",
    "                 (\"tfidf\", TfidfTransformer())\n",
    "                ])\n",
    "\n",
    "X_train_tfvec = pipe.fit_transform(X_train)\n",
    "\n",
    "X_test_tfvec = pipe.transform(X_test)\n",
    "\n",
    "X_train_tfvec.shape"
   ]
  },
  {
   "cell_type": "code",
   "execution_count": 16,
   "id": "3c7a6a8b",
   "metadata": {
    "execution": {
     "iopub.execute_input": "2024-04-27T14:12:33.842673Z",
     "iopub.status.busy": "2024-04-27T14:12:33.841780Z",
     "iopub.status.idle": "2024-04-27T15:59:14.754802Z",
     "shell.execute_reply": "2024-04-27T15:59:14.753007Z"
    },
    "papermill": {
     "duration": 6400.929826,
     "end_time": "2024-04-27T15:59:14.758275",
     "exception": false,
     "start_time": "2024-04-27T14:12:33.828449",
     "status": "completed"
    },
    "tags": []
   },
   "outputs": [],
   "source": [
    "enn = EditedNearestNeighbours()\n",
    "\n",
    "X_train_sm, y_train_sm = enn.fit_resample(X_train_tfvec, y_train)"
   ]
  },
  {
   "cell_type": "code",
   "execution_count": 17,
   "id": "3b053509",
   "metadata": {
    "execution": {
     "iopub.execute_input": "2024-04-27T15:59:14.790585Z",
     "iopub.status.busy": "2024-04-27T15:59:14.789328Z",
     "iopub.status.idle": "2024-04-27T15:59:14.801550Z",
     "shell.execute_reply": "2024-04-27T15:59:14.799640Z"
    },
    "papermill": {
     "duration": 0.036138,
     "end_time": "2024-04-27T15:59:14.807166",
     "exception": false,
     "start_time": "2024-04-27T15:59:14.771028",
     "status": "completed"
    },
    "tags": []
   },
   "outputs": [
    {
     "data": {
      "text/plain": [
       "(62088, 91863)"
      ]
     },
     "execution_count": 17,
     "metadata": {},
     "output_type": "execute_result"
    }
   ],
   "source": [
    "X_train_sm.shape"
   ]
  },
  {
   "cell_type": "markdown",
   "id": "d48c8888",
   "metadata": {
    "papermill": {
     "duration": 0.009014,
     "end_time": "2024-04-27T15:59:14.825706",
     "exception": false,
     "start_time": "2024-04-27T15:59:14.816692",
     "status": "completed"
    },
    "tags": []
   },
   "source": [
    "## Logistic Regression"
   ]
  },
  {
   "cell_type": "code",
   "execution_count": 18,
   "id": "ce7e7d02",
   "metadata": {
    "execution": {
     "iopub.execute_input": "2024-04-27T15:59:14.848295Z",
     "iopub.status.busy": "2024-04-27T15:59:14.847544Z",
     "iopub.status.idle": "2024-04-27T15:59:19.015069Z",
     "shell.execute_reply": "2024-04-27T15:59:19.014077Z"
    },
    "papermill": {
     "duration": 4.18251,
     "end_time": "2024-04-27T15:59:19.017547",
     "exception": false,
     "start_time": "2024-04-27T15:59:14.835037",
     "status": "completed"
    },
    "tags": []
   },
   "outputs": [
    {
     "name": "stdout",
     "output_type": "stream",
     "text": [
      "Logistic Regression: \n",
      "Training Accuracy:  0.9238178069836361\n",
      "Confusion Matrix: \n",
      "[[ 5669   909]\n",
      " [ 9569 22944]]\n",
      "True Positives (TP) =  5669\n",
      "True Negatives (TN) =  22944\n",
      "False Positives (FP) =  909\n",
      "False Negatives (FN) =  9569\n",
      "Accuracy: \n",
      "0.7319587628865979\n",
      "Precision: \n",
      "0.9618915859640297\n",
      "F1 Score: \n",
      "0.8141077954795445\n",
      "Classification Report: \n",
      "              precision    recall  f1-score   support\n",
      "\n",
      "           0       0.37      0.86      0.52      6578\n",
      "           1       0.96      0.71      0.81     32513\n",
      "\n",
      "    accuracy                           0.73     39091\n",
      "   macro avg       0.67      0.78      0.67     39091\n",
      "weighted avg       0.86      0.73      0.76     39091\n",
      "\n",
      "CPU times: user 7.33 s, sys: 6.67 s, total: 14 s\n",
      "Wall time: 4.16 s\n"
     ]
    }
   ],
   "source": [
    "%%time\n",
    "lr = LogisticRegression(max_iter=2000, random_state=42)\n",
    "lr.fit(X_train_sm, y_train_sm)\n",
    "\n",
    "lr_pred = lr.predict(X_test_tfvec)\n",
    "\n",
    "print(\"Logistic Regression: \")\n",
    "lr_train = lr.predict(X_train_sm)\n",
    "print(\"Training Accuracy: \", metrics.accuracy_score(y_train_sm, lr_train))\n",
    "\n",
    "show_metrics(y_test, lr_pred)"
   ]
  },
  {
   "cell_type": "code",
   "execution_count": 19,
   "id": "bebe490f",
   "metadata": {
    "execution": {
     "iopub.execute_input": "2024-04-27T15:59:19.038080Z",
     "iopub.status.busy": "2024-04-27T15:59:19.037727Z",
     "iopub.status.idle": "2024-04-27T15:59:49.486251Z",
     "shell.execute_reply": "2024-04-27T15:59:49.484992Z"
    },
    "papermill": {
     "duration": 30.463276,
     "end_time": "2024-04-27T15:59:49.490371",
     "exception": false,
     "start_time": "2024-04-27T15:59:19.027095",
     "status": "completed"
    },
    "tags": []
   },
   "outputs": [
    {
     "name": "stdout",
     "output_type": "stream",
     "text": [
      "Best Params:  {'C': 1}\n",
      "Best Score:  0.9019294992643891\n",
      "CPU times: user 56 s, sys: 54.2 s, total: 1min 50s\n",
      "Wall time: 30.4 s\n"
     ]
    }
   ],
   "source": [
    "%%time\n",
    "# tuning with gridsearch\n",
    "param_grid = {\"C\": [0.01, 0.1, 1]}\n",
    "\n",
    "lr_cv = GridSearchCV(lr, param_grid, cv=5)\n",
    "lr_cv.fit(X_train_sm, y_train_sm)\n",
    "\n",
    "print(\"Best Params: \", lr_cv.best_params_)\n",
    "print(\"Best Score: \", lr_cv.best_score_)"
   ]
  },
  {
   "cell_type": "code",
   "execution_count": 20,
   "id": "c61a7a08",
   "metadata": {
    "execution": {
     "iopub.execute_input": "2024-04-27T15:59:49.523248Z",
     "iopub.status.busy": "2024-04-27T15:59:49.522708Z",
     "iopub.status.idle": "2024-04-27T15:59:54.605783Z",
     "shell.execute_reply": "2024-04-27T15:59:54.604680Z"
    },
    "papermill": {
     "duration": 5.102682,
     "end_time": "2024-04-27T15:59:54.608314",
     "exception": false,
     "start_time": "2024-04-27T15:59:49.505632",
     "status": "completed"
    },
    "tags": []
   },
   "outputs": [
    {
     "name": "stdout",
     "output_type": "stream",
     "text": [
      "Training Accuracy:  0.9238178069836361\n",
      "Confusion Matrix: \n",
      "[[ 5669   909]\n",
      " [ 9569 22944]]\n",
      "True Positives (TP) =  5669\n",
      "True Negatives (TN) =  22944\n",
      "False Positives (FP) =  909\n",
      "False Negatives (FN) =  9569\n",
      "Accuracy: \n",
      "0.7319587628865979\n",
      "Precision: \n",
      "0.9618915859640297\n",
      "F1 Score: \n",
      "0.8141077954795445\n",
      "Classification Report: \n",
      "              precision    recall  f1-score   support\n",
      "\n",
      "           0       0.37      0.86      0.52      6578\n",
      "           1       0.96      0.71      0.81     32513\n",
      "\n",
      "    accuracy                           0.73     39091\n",
      "   macro avg       0.67      0.78      0.67     39091\n",
      "weighted avg       0.86      0.73      0.76     39091\n",
      "\n"
     ]
    }
   ],
   "source": [
    "new_lr = LogisticRegression(max_iter=2000, random_state=42, **lr_cv.best_params_)\n",
    "new_lr.fit(X_train_sm, y_train_sm)\n",
    "\n",
    "lr_pred = new_lr.predict(X_test_tfvec)\n",
    "\n",
    "lr_train = new_lr.predict(X_train_sm)\n",
    "print(\"Training Accuracy: \", metrics.accuracy_score(y_train_sm, lr_train))\n",
    "\n",
    "show_metrics(y_test, lr_pred)"
   ]
  },
  {
   "cell_type": "markdown",
   "id": "f9419c83",
   "metadata": {
    "papermill": {
     "duration": 0.009564,
     "end_time": "2024-04-27T15:59:54.627826",
     "exception": false,
     "start_time": "2024-04-27T15:59:54.618262",
     "status": "completed"
    },
    "tags": []
   },
   "source": [
    "## Decision Tree"
   ]
  },
  {
   "cell_type": "code",
   "execution_count": 21,
   "id": "1db8feb4",
   "metadata": {
    "execution": {
     "iopub.execute_input": "2024-04-27T15:59:54.649803Z",
     "iopub.status.busy": "2024-04-27T15:59:54.649016Z",
     "iopub.status.idle": "2024-04-27T16:00:47.377364Z",
     "shell.execute_reply": "2024-04-27T16:00:47.376350Z"
    },
    "papermill": {
     "duration": 52.752049,
     "end_time": "2024-04-27T16:00:47.389503",
     "exception": false,
     "start_time": "2024-04-27T15:59:54.637454",
     "status": "completed"
    },
    "tags": []
   },
   "outputs": [
    {
     "name": "stdout",
     "output_type": "stream",
     "text": [
      "Decision Tree: \n",
      "Training Accuracy:  0.9985021260146888\n",
      "Confusion Matrix: \n",
      "[[ 5148  1430]\n",
      " [13221 19292]]\n",
      "True Positives (TP) =  5148\n",
      "True Negatives (TN) =  19292\n",
      "False Positives (FP) =  1430\n",
      "False Negatives (FN) =  13221\n",
      "Accuracy: \n",
      "0.625207848353841\n",
      "Precision: \n",
      "0.93099121706399\n",
      "F1 Score: \n",
      "0.7247863247863249\n",
      "Classification Report: \n",
      "              precision    recall  f1-score   support\n",
      "\n",
      "           0       0.28      0.78      0.41      6578\n",
      "           1       0.93      0.59      0.72     32513\n",
      "\n",
      "    accuracy                           0.63     39091\n",
      "   macro avg       0.61      0.69      0.57     39091\n",
      "weighted avg       0.82      0.63      0.67     39091\n",
      "\n",
      "CPU times: user 52.7 s, sys: 10.2 ms, total: 52.7 s\n",
      "Wall time: 52.7 s\n"
     ]
    }
   ],
   "source": [
    "%%time\n",
    "dtc_clf = DecisionTreeClassifier(random_state=42)\n",
    "dtc_clf.fit(X_train_sm, y_train_sm)\n",
    "\n",
    "dtc_pred = dtc_clf.predict(X_test_tfvec)\n",
    "\n",
    "print(\"Decision Tree: \")\n",
    "dtc_train = dtc_clf.predict(X_train_sm)\n",
    "print(\"Training Accuracy: \", metrics.accuracy_score(y_train_sm, dtc_train))\n",
    "\n",
    "show_metrics(y_test, dtc_pred)"
   ]
  },
  {
   "cell_type": "code",
   "execution_count": 22,
   "id": "6a130fe2",
   "metadata": {
    "execution": {
     "iopub.execute_input": "2024-04-27T16:00:47.410362Z",
     "iopub.status.busy": "2024-04-27T16:00:47.409748Z",
     "iopub.status.idle": "2024-04-27T16:13:53.693196Z",
     "shell.execute_reply": "2024-04-27T16:13:53.692093Z"
    },
    "papermill": {
     "duration": 786.306778,
     "end_time": "2024-04-27T16:13:53.705740",
     "exception": false,
     "start_time": "2024-04-27T16:00:47.398962",
     "status": "completed"
    },
    "tags": []
   },
   "outputs": [
    {
     "name": "stdout",
     "output_type": "stream",
     "text": [
      "Best Params:  {'criterion': 'gini', 'max_depth': 18, 'min_samples_leaf': 35}\n",
      "Best Score:  0.7934544703615709\n",
      "CPU times: user 13min 6s, sys: 148 ms, total: 13min 6s\n",
      "Wall time: 13min 6s\n"
     ]
    }
   ],
   "source": [
    "%%time\n",
    "# tuning with gridsearch\n",
    "param_grid = {\"max_depth\": [2, 5, 8, 12, 18], \n",
    "              \"min_samples_leaf\": [5, 10, 20, 35, 60], \n",
    "              \"criterion\": [\"gini\", \"entropy\"]}\n",
    "\n",
    "dtc_cv = GridSearchCV(dtc_clf, param_grid, cv=5)\n",
    "dtc_cv.fit(X_train_sm, y_train_sm)\n",
    "\n",
    "print(\"Best Params: \", dtc_cv.best_params_)\n",
    "print(\"Best Score: \", dtc_cv.best_score_)"
   ]
  },
  {
   "cell_type": "code",
   "execution_count": 23,
   "id": "930414fc",
   "metadata": {
    "execution": {
     "iopub.execute_input": "2024-04-27T16:13:53.727570Z",
     "iopub.status.busy": "2024-04-27T16:13:53.727191Z",
     "iopub.status.idle": "2024-04-27T16:14:00.937292Z",
     "shell.execute_reply": "2024-04-27T16:14:00.935942Z"
    },
    "papermill": {
     "duration": 7.223808,
     "end_time": "2024-04-27T16:14:00.939546",
     "exception": false,
     "start_time": "2024-04-27T16:13:53.715738",
     "status": "completed"
    },
    "tags": []
   },
   "outputs": [
    {
     "name": "stdout",
     "output_type": "stream",
     "text": [
      "Training Accuracy:  0.799268779796418\n",
      "Confusion Matrix: \n",
      "[[ 4413  2165]\n",
      " [11765 20748]]\n",
      "True Positives (TP) =  4413\n",
      "True Negatives (TN) =  20748\n",
      "False Positives (FP) =  2165\n",
      "False Negatives (FN) =  11765\n",
      "Accuracy: \n",
      "0.6436519915069965\n",
      "Precision: \n",
      "0.9055121546720203\n",
      "F1 Score: \n",
      "0.7486739075524123\n",
      "Classification Report: \n",
      "              precision    recall  f1-score   support\n",
      "\n",
      "           0       0.27      0.67      0.39      6578\n",
      "           1       0.91      0.64      0.75     32513\n",
      "\n",
      "    accuracy                           0.64     39091\n",
      "   macro avg       0.59      0.65      0.57     39091\n",
      "weighted avg       0.80      0.64      0.69     39091\n",
      "\n"
     ]
    }
   ],
   "source": [
    "new_dtc = DecisionTreeClassifier(random_state=42, **dtc_cv.best_params_)\n",
    "new_dtc.fit(X_train_sm, y_train_sm)\n",
    "\n",
    "dtc_pred = new_dtc.predict(X_test_tfvec)\n",
    "\n",
    "dtc_train = new_dtc.predict(X_train_sm)\n",
    "print(\"Training Accuracy: \", metrics.accuracy_score(y_train_sm, dtc_train))\n",
    "\n",
    "show_metrics(y_test, dtc_pred)"
   ]
  },
  {
   "cell_type": "markdown",
   "id": "b030121e",
   "metadata": {
    "papermill": {
     "duration": 0.009869,
     "end_time": "2024-04-27T16:14:00.959802",
     "exception": false,
     "start_time": "2024-04-27T16:14:00.949933",
     "status": "completed"
    },
    "tags": []
   },
   "source": [
    "## Random Forest"
   ]
  },
  {
   "cell_type": "code",
   "execution_count": 24,
   "id": "a5d14b04",
   "metadata": {
    "execution": {
     "iopub.execute_input": "2024-04-27T16:14:00.981845Z",
     "iopub.status.busy": "2024-04-27T16:14:00.981137Z",
     "iopub.status.idle": "2024-04-27T16:23:30.658749Z",
     "shell.execute_reply": "2024-04-27T16:23:30.657472Z"
    },
    "papermill": {
     "duration": 569.691037,
     "end_time": "2024-04-27T16:23:30.660870",
     "exception": false,
     "start_time": "2024-04-27T16:14:00.969833",
     "status": "completed"
    },
    "tags": []
   },
   "outputs": [
    {
     "name": "stdout",
     "output_type": "stream",
     "text": [
      "Random Forest: \n",
      "Training Accuracy:  0.9984699136709186\n",
      "Confusion Matrix: \n",
      "[[ 5607   971]\n",
      " [13495 19018]]\n",
      "True Positives (TP) =  5607\n",
      "True Negatives (TN) =  19018\n",
      "False Positives (FP) =  971\n",
      "False Negatives (FN) =  13495\n",
      "Accuracy: \n",
      "0.6299403954874524\n",
      "Precision: \n",
      "0.951423282805543\n",
      "F1 Score: \n",
      "0.7244676393280256\n",
      "Classification Report: \n",
      "              precision    recall  f1-score   support\n",
      "\n",
      "           0       0.29      0.85      0.44      6578\n",
      "           1       0.95      0.58      0.72     32513\n",
      "\n",
      "    accuracy                           0.63     39091\n",
      "   macro avg       0.62      0.72      0.58     39091\n",
      "weighted avg       0.84      0.63      0.68     39091\n",
      "\n",
      "CPU times: user 9min 29s, sys: 534 ms, total: 9min 29s\n",
      "Wall time: 9min 29s\n"
     ]
    }
   ],
   "source": [
    "%%time\n",
    "rf_clf = RandomForestClassifier(random_state=42)\n",
    "rf_clf.fit(X_train_sm, y_train_sm)\n",
    "\n",
    "rf_pred = rf_clf.predict(X_test_tfvec)\n",
    "\n",
    "print(\"Random Forest: \")\n",
    "rf_train = rf_clf.predict(X_train_sm)\n",
    "print(\"Training Accuracy: \", metrics.accuracy_score(y_train_sm, rf_train))\n",
    "\n",
    "show_metrics(y_test, rf_pred)"
   ]
  },
  {
   "cell_type": "code",
   "execution_count": 25,
   "id": "71448b31",
   "metadata": {
    "execution": {
     "iopub.execute_input": "2024-04-27T16:23:30.683035Z",
     "iopub.status.busy": "2024-04-27T16:23:30.682667Z",
     "iopub.status.idle": "2024-04-27T16:54:32.513968Z",
     "shell.execute_reply": "2024-04-27T16:54:32.512636Z"
    },
    "papermill": {
     "duration": 1861.858282,
     "end_time": "2024-04-27T16:54:32.529443",
     "exception": false,
     "start_time": "2024-04-27T16:23:30.671161",
     "status": "completed"
    },
    "tags": []
   },
   "outputs": [
    {
     "name": "stdout",
     "output_type": "stream",
     "text": [
      "Best Params:  {'max_depth': 18, 'min_samples_leaf': 20, 'n_estimators': 30}\n",
      "Best Score:  0.7415443784286043\n",
      "CPU times: user 31min, sys: 1.56 s, total: 31min 1s\n",
      "Wall time: 31min 1s\n"
     ]
    }
   ],
   "source": [
    "%%time\n",
    "# tuning with gridsearch\n",
    "param_grid = {\"max_depth\": [2, 5, 8, 12, 18], \n",
    "              \"min_samples_leaf\": [5, 10, 20, 35, 60], \n",
    "              \"n_estimators\": [30, 50, 80, 150]}\n",
    "\n",
    "rf_cv = GridSearchCV(rf_clf, param_grid, cv=5)\n",
    "rf_cv.fit(X_train_sm, y_train_sm)\n",
    "\n",
    "print(\"Best Params: \", rf_cv.best_params_)\n",
    "print(\"Best Score: \", rf_cv.best_score_)"
   ]
  },
  {
   "cell_type": "code",
   "execution_count": 26,
   "id": "d623b41a",
   "metadata": {
    "execution": {
     "iopub.execute_input": "2024-04-27T16:54:32.552790Z",
     "iopub.status.busy": "2024-04-27T16:54:32.552371Z",
     "iopub.status.idle": "2024-04-27T16:54:36.616889Z",
     "shell.execute_reply": "2024-04-27T16:54:36.615825Z"
    },
    "papermill": {
     "duration": 4.078929,
     "end_time": "2024-04-27T16:54:36.619128",
     "exception": false,
     "start_time": "2024-04-27T16:54:32.540199",
     "status": "completed"
    },
    "tags": []
   },
   "outputs": [
    {
     "name": "stdout",
     "output_type": "stream",
     "text": [
      "Training Accuracy:  0.7411093931194433\n",
      "Confusion Matrix: \n",
      "[[ 2706  3872]\n",
      " [ 6507 26006]]\n",
      "True Positives (TP) =  2706\n",
      "True Negatives (TN) =  26006\n",
      "False Positives (FP) =  3872\n",
      "False Negatives (FN) =  6507\n",
      "Accuracy: \n",
      "0.7344913151364765\n",
      "Precision: \n",
      "0.870406319030725\n",
      "F1 Score: \n",
      "0.8336458784119505\n",
      "Classification Report: \n",
      "              precision    recall  f1-score   support\n",
      "\n",
      "           0       0.29      0.41      0.34      6578\n",
      "           1       0.87      0.80      0.83     32513\n",
      "\n",
      "    accuracy                           0.73     39091\n",
      "   macro avg       0.58      0.61      0.59     39091\n",
      "weighted avg       0.77      0.73      0.75     39091\n",
      "\n"
     ]
    }
   ],
   "source": [
    "new_rf = RandomForestClassifier(random_state=42, **rf_cv.best_params_)\n",
    "new_rf.fit(X_train_sm, y_train_sm)\n",
    "\n",
    "rf_pred = new_rf.predict(X_test_tfvec)\n",
    "\n",
    "rf_train = new_rf.predict(X_train_sm)\n",
    "print(\"Training Accuracy: \", metrics.accuracy_score(y_train_sm, rf_train))\n",
    "\n",
    "show_metrics(y_test, rf_pred)"
   ]
  },
  {
   "cell_type": "markdown",
   "id": "387ce1d5",
   "metadata": {
    "papermill": {
     "duration": 0.011107,
     "end_time": "2024-04-27T16:54:36.641317",
     "exception": false,
     "start_time": "2024-04-27T16:54:36.630210",
     "status": "completed"
    },
    "tags": []
   },
   "source": [
    "## XGBoost"
   ]
  },
  {
   "cell_type": "code",
   "execution_count": 27,
   "id": "eda86fc7",
   "metadata": {
    "execution": {
     "iopub.execute_input": "2024-04-27T16:54:36.664450Z",
     "iopub.status.busy": "2024-04-27T16:54:36.663406Z",
     "iopub.status.idle": "2024-04-27T16:55:28.070473Z",
     "shell.execute_reply": "2024-04-27T16:55:28.069537Z"
    },
    "papermill": {
     "duration": 51.420903,
     "end_time": "2024-04-27T16:55:28.072759",
     "exception": false,
     "start_time": "2024-04-27T16:54:36.651856",
     "status": "completed"
    },
    "tags": []
   },
   "outputs": [
    {
     "name": "stdout",
     "output_type": "stream",
     "text": [
      "XGBoost: \n",
      "Training Accuracy:  0.8971620925138513\n",
      "Confusion Matrix: \n",
      "[[ 5354  1224]\n",
      " [11316 21197]]\n",
      "True Positives (TP) =  5354\n",
      "True Negatives (TN) =  21197\n",
      "False Positives (FP) =  1224\n",
      "False Negatives (FN) =  11316\n",
      "Accuracy: \n",
      "0.6792100483487248\n",
      "Precision: \n",
      "0.9454083225547478\n",
      "F1 Score: \n",
      "0.7717260712855426\n",
      "Classification Report: \n",
      "              precision    recall  f1-score   support\n",
      "\n",
      "           0       0.32      0.81      0.46      6578\n",
      "           1       0.95      0.65      0.77     32513\n",
      "\n",
      "    accuracy                           0.68     39091\n",
      "   macro avg       0.63      0.73      0.62     39091\n",
      "weighted avg       0.84      0.68      0.72     39091\n",
      "\n",
      "CPU times: user 51 s, sys: 404 ms, total: 51.4 s\n",
      "Wall time: 51.4 s\n"
     ]
    }
   ],
   "source": [
    "%%time\n",
    "xgb_clf = XGBClassifier(random_state=42)\n",
    "xgb_clf.fit(X_train_sm, y_train_sm)\n",
    "\n",
    "xgb_pred = xgb_clf.predict(X_test_tfvec)\n",
    "\n",
    "print(\"XGBoost: \")\n",
    "xgb_train = xgb_clf.predict(X_train_sm)\n",
    "print(\"Training Accuracy: \", metrics.accuracy_score(y_train_sm, xgb_train))\n",
    "\n",
    "show_metrics(y_test, xgb_pred)"
   ]
  },
  {
   "cell_type": "markdown",
   "id": "59585524",
   "metadata": {
    "papermill": {
     "duration": 0.011011,
     "end_time": "2024-04-27T16:55:28.094781",
     "exception": false,
     "start_time": "2024-04-27T16:55:28.083770",
     "status": "completed"
    },
    "tags": []
   },
   "source": [
    "## Naive Bayes"
   ]
  },
  {
   "cell_type": "code",
   "execution_count": 28,
   "id": "f7fc6639",
   "metadata": {
    "execution": {
     "iopub.execute_input": "2024-04-27T16:55:28.118105Z",
     "iopub.status.busy": "2024-04-27T16:55:28.117681Z",
     "iopub.status.idle": "2024-04-27T16:55:28.287686Z",
     "shell.execute_reply": "2024-04-27T16:55:28.286376Z"
    },
    "papermill": {
     "duration": 0.184272,
     "end_time": "2024-04-27T16:55:28.289890",
     "exception": false,
     "start_time": "2024-04-27T16:55:28.105618",
     "status": "completed"
    },
    "tags": []
   },
   "outputs": [
    {
     "name": "stdout",
     "output_type": "stream",
     "text": [
      "Naive Bayes: \n",
      "Training Accuracy:  0.9184866640896792\n",
      "Confusion Matrix: \n",
      "[[ 5762   816]\n",
      " [12484 20029]]\n",
      "True Positives (TP) =  5762\n",
      "True Negatives (TN) =  20029\n",
      "False Positives (FP) =  816\n",
      "False Negatives (FN) =  12484\n",
      "Accuracy: \n",
      "0.6597682330971323\n",
      "Precision: \n",
      "0.9608539218037899\n",
      "F1 Score: \n",
      "0.7507402826192887\n",
      "Classification Report: \n",
      "              precision    recall  f1-score   support\n",
      "\n",
      "           0       0.32      0.88      0.46      6578\n",
      "           1       0.96      0.62      0.75     32513\n",
      "\n",
      "    accuracy                           0.66     39091\n",
      "   macro avg       0.64      0.75      0.61     39091\n",
      "weighted avg       0.85      0.66      0.70     39091\n",
      "\n",
      "CPU times: user 165 ms, sys: 996 µs, total: 166 ms\n",
      "Wall time: 164 ms\n"
     ]
    }
   ],
   "source": [
    "%%time\n",
    "clf = MultinomialNB()\n",
    "clf.fit(X_train_sm, y_train_sm)\n",
    "\n",
    "nb_pred = clf.predict(X_test_tfvec)\n",
    "\n",
    "print(\"Naive Bayes: \")\n",
    "nb_train = clf.predict(X_train_sm)\n",
    "print(\"Training Accuracy: \", metrics.accuracy_score(y_train_sm, nb_train))\n",
    "\n",
    "show_metrics(y_test, nb_pred)"
   ]
  },
  {
   "cell_type": "markdown",
   "id": "a7dd7c2f",
   "metadata": {
    "papermill": {
     "duration": 0.010631,
     "end_time": "2024-04-27T16:55:28.311657",
     "exception": false,
     "start_time": "2024-04-27T16:55:28.301026",
     "status": "completed"
    },
    "tags": []
   },
   "source": [
    "## K Nearest Neighbors"
   ]
  },
  {
   "cell_type": "code",
   "execution_count": 29,
   "id": "541b4f08",
   "metadata": {
    "execution": {
     "iopub.execute_input": "2024-04-27T16:55:28.336922Z",
     "iopub.status.busy": "2024-04-27T16:55:28.336501Z",
     "iopub.status.idle": "2024-04-27T16:55:28.341036Z",
     "shell.execute_reply": "2024-04-27T16:55:28.340041Z"
    },
    "papermill": {
     "duration": 0.020625,
     "end_time": "2024-04-27T16:55:28.343299",
     "exception": false,
     "start_time": "2024-04-27T16:55:28.322674",
     "status": "completed"
    },
    "tags": []
   },
   "outputs": [],
   "source": [
    "# %%time\n",
    "# knn = KNeighborsClassifier(n_neighbors=3)\n",
    "# knn.fit(X_train_tfvec, y_train)\n",
    "\n",
    "# knn_pred = knn.predict(X_test_tfvec)\n",
    "\n",
    "# show_metrics(y_test, knn_pred)"
   ]
  },
  {
   "cell_type": "code",
   "execution_count": 30,
   "id": "33eaff0f",
   "metadata": {
    "execution": {
     "iopub.execute_input": "2024-04-27T16:55:28.367450Z",
     "iopub.status.busy": "2024-04-27T16:55:28.366838Z",
     "iopub.status.idle": "2024-04-27T16:55:28.371161Z",
     "shell.execute_reply": "2024-04-27T16:55:28.370147Z"
    },
    "papermill": {
     "duration": 0.019134,
     "end_time": "2024-04-27T16:55:28.373500",
     "exception": false,
     "start_time": "2024-04-27T16:55:28.354366",
     "status": "completed"
    },
    "tags": []
   },
   "outputs": [],
   "source": [
    "# %%time\n",
    "# # tuning with gridsearch\n",
    "# param_grid = {\"n_neighbors\" : [3, 4, 5, 6, 7, 8]}\n",
    "\n",
    "# knn_cv = GridSearchCV(knn, param_grid, cv=5)\n",
    "# knn_cv.fit(X_train_tfvec, y_train)\n",
    "\n",
    "# print(\"Best Params: \", knn_cv.best_params_)\n",
    "# print(\"Best Score: \", knn_cv.best_score_)"
   ]
  },
  {
   "cell_type": "markdown",
   "id": "fe19eccf",
   "metadata": {
    "papermill": {
     "duration": 0.011251,
     "end_time": "2024-04-27T16:55:28.395915",
     "exception": false,
     "start_time": "2024-04-27T16:55:28.384664",
     "status": "completed"
    },
    "tags": []
   },
   "source": [
    "## LightGBM"
   ]
  },
  {
   "cell_type": "code",
   "execution_count": 31,
   "id": "2dc9135a",
   "metadata": {
    "execution": {
     "iopub.execute_input": "2024-04-27T16:55:28.419649Z",
     "iopub.status.busy": "2024-04-27T16:55:28.419258Z",
     "iopub.status.idle": "2024-04-27T16:55:28.423702Z",
     "shell.execute_reply": "2024-04-27T16:55:28.422769Z"
    },
    "papermill": {
     "duration": 0.018614,
     "end_time": "2024-04-27T16:55:28.425790",
     "exception": false,
     "start_time": "2024-04-27T16:55:28.407176",
     "status": "completed"
    },
    "tags": []
   },
   "outputs": [],
   "source": [
    "# %%time\n",
    "# lgb_clf = lgbm.LGBMClassifier(random_state=42)\n",
    "# lgb_clf.fit(X_train_sm, y_train_sm)\n",
    "\n",
    "# lgb_pred = lgb_clf.predict(X_test_tfvec)\n",
    "\n",
    "# lgb_train = lgb_clf.predict(X_train_sm)\n",
    "# print(\"Training Accuracy: \", metrics.accuracy_score(y_train_sm, lgb_train))\n",
    "\n",
    "# show_metrics(y_test, lgb_pred)"
   ]
  },
  {
   "cell_type": "code",
   "execution_count": 32,
   "id": "59c024dd",
   "metadata": {
    "execution": {
     "iopub.execute_input": "2024-04-27T16:55:28.450014Z",
     "iopub.status.busy": "2024-04-27T16:55:28.449181Z",
     "iopub.status.idle": "2024-04-27T16:55:28.453676Z",
     "shell.execute_reply": "2024-04-27T16:55:28.452733Z"
    },
    "papermill": {
     "duration": 0.019156,
     "end_time": "2024-04-27T16:55:28.455869",
     "exception": false,
     "start_time": "2024-04-27T16:55:28.436713",
     "status": "completed"
    },
    "tags": []
   },
   "outputs": [],
   "source": [
    "# %%time\n",
    "# # tuning with gridsearch\n",
    "# param_grid = {\"n_estimators\": [50, 100, 150, 200], \n",
    "#               \"learning_rate\": [0.001, 0.01, 0.1, 1], \n",
    "#               \"boosting_type\": [\"gbdt\", \"dart\", \"rf\"]}\n",
    "\n",
    "# lgb_cv = GridSearchCV(lgb_clf, param_grid, cv=5)\n",
    "# lgb_cv.fit(X_train_sm, y_train_sm)\n",
    "\n",
    "# print(\"Best Params: \", lgb_cv.best_params_)\n",
    "# print(\"Best Score: \", lgb_cv.best_score_)"
   ]
  },
  {
   "cell_type": "markdown",
   "id": "c5e3b995",
   "metadata": {
    "papermill": {
     "duration": 0.010961,
     "end_time": "2024-04-27T16:55:28.478065",
     "exception": false,
     "start_time": "2024-04-27T16:55:28.467104",
     "status": "completed"
    },
    "tags": []
   },
   "source": [
    "## AdaBoost"
   ]
  },
  {
   "cell_type": "code",
   "execution_count": 33,
   "id": "d17c372f",
   "metadata": {
    "execution": {
     "iopub.execute_input": "2024-04-27T16:55:28.501873Z",
     "iopub.status.busy": "2024-04-27T16:55:28.501458Z",
     "iopub.status.idle": "2024-04-27T16:56:56.967082Z",
     "shell.execute_reply": "2024-04-27T16:56:56.965976Z"
    },
    "papermill": {
     "duration": 88.480432,
     "end_time": "2024-04-27T16:56:56.969472",
     "exception": false,
     "start_time": "2024-04-27T16:55:28.489040",
     "status": "completed"
    },
    "tags": []
   },
   "outputs": [
    {
     "name": "stdout",
     "output_type": "stream",
     "text": [
      "AdaBoost: \n",
      "Training Accuracy:  0.8331561654425976\n",
      "Confusion Matrix: \n",
      "[[ 4476  2102]\n",
      " [ 8470 24043]]\n",
      "True Positives (TP) =  4476\n",
      "True Negatives (TN) =  24043\n",
      "False Positives (FP) =  2102\n",
      "False Negatives (FN) =  8470\n",
      "Accuracy: \n",
      "0.7295541173160063\n",
      "Precision: \n",
      "0.9196022183973991\n",
      "F1 Score: \n",
      "0.819768829486174\n",
      "Classification Report: \n",
      "              precision    recall  f1-score   support\n",
      "\n",
      "           0       0.35      0.68      0.46      6578\n",
      "           1       0.92      0.74      0.82     32513\n",
      "\n",
      "    accuracy                           0.73     39091\n",
      "   macro avg       0.63      0.71      0.64     39091\n",
      "weighted avg       0.82      0.73      0.76     39091\n",
      "\n",
      "CPU times: user 1min 28s, sys: 14.3 ms, total: 1min 28s\n",
      "Wall time: 1min 28s\n"
     ]
    }
   ],
   "source": [
    "%%time\n",
    "ada = AdaBoostClassifier(random_state=42)\n",
    "ada.fit(X_train_sm, y_train_sm)\n",
    "\n",
    "ada_pred = ada.predict(X_test_tfvec)\n",
    "\n",
    "print(\"AdaBoost: \")\n",
    "ada_train = ada.predict(X_train_sm)\n",
    "print(\"Training Accuracy: \", metrics.accuracy_score(y_train_sm, ada_train))\n",
    "\n",
    "show_metrics(y_test, ada_pred)"
   ]
  },
  {
   "cell_type": "code",
   "execution_count": 34,
   "id": "f34ab84d",
   "metadata": {
    "execution": {
     "iopub.execute_input": "2024-04-27T16:56:56.994481Z",
     "iopub.status.busy": "2024-04-27T16:56:56.993533Z",
     "iopub.status.idle": "2024-04-27T22:31:55.842766Z",
     "shell.execute_reply": "2024-04-27T22:31:55.841326Z"
    },
    "papermill": {
     "duration": 20098.876023,
     "end_time": "2024-04-27T22:31:55.856942",
     "exception": false,
     "start_time": "2024-04-27T16:56:56.980919",
     "status": "completed"
    },
    "tags": []
   },
   "outputs": [
    {
     "name": "stdout",
     "output_type": "stream",
     "text": [
      "Best Params:  {'learning_rate': 1, 'n_estimators': 180}\n",
      "Best Score:  0.8691212748154268\n",
      "CPU times: user 5h 34min 53s, sys: 3.78 s, total: 5h 34min 57s\n",
      "Wall time: 5h 34min 58s\n"
     ]
    }
   ],
   "source": [
    "%%time\n",
    "# tuning with gridsearch\n",
    "param_grid = {\"n_estimators\" : [50, 70, 90, 110, 140, 180], \n",
    "              \"learning_rate\" : [0.001, 0.01, 0.1, 1, 10]}\n",
    "\n",
    "ada_cv = GridSearchCV(ada, param_grid, cv=5)\n",
    "ada_cv.fit(X_train_sm, y_train_sm)\n",
    "\n",
    "print(\"Best Params: \", ada_cv.best_params_)\n",
    "print(\"Best Score: \", ada_cv.best_score_)"
   ]
  },
  {
   "cell_type": "code",
   "execution_count": 35,
   "id": "4e3701b7",
   "metadata": {
    "execution": {
     "iopub.execute_input": "2024-04-27T22:31:55.882130Z",
     "iopub.status.busy": "2024-04-27T22:31:55.881420Z",
     "iopub.status.idle": "2024-04-27T22:37:12.632569Z",
     "shell.execute_reply": "2024-04-27T22:37:12.631535Z"
    },
    "papermill": {
     "duration": 316.778555,
     "end_time": "2024-04-27T22:37:12.646915",
     "exception": false,
     "start_time": "2024-04-27T22:31:55.868360",
     "status": "completed"
    },
    "tags": []
   },
   "outputs": [
    {
     "name": "stdout",
     "output_type": "stream",
     "text": [
      "Training Accuracy:  0.8743879654683675\n",
      "Confusion Matrix: \n",
      "[[ 5193  1385]\n",
      " [ 9971 22542]]\n",
      "True Positives (TP) =  5193\n",
      "True Negatives (TN) =  22542\n",
      "False Positives (FP) =  1385\n",
      "False Negatives (FN) =  9971\n",
      "Accuracy: \n",
      "0.7094983500038372\n",
      "Precision: \n",
      "0.942115601621599\n",
      "F1 Score: \n",
      "0.7987951807228915\n",
      "Classification Report: \n",
      "              precision    recall  f1-score   support\n",
      "\n",
      "           0       0.34      0.79      0.48      6578\n",
      "           1       0.94      0.69      0.80     32513\n",
      "\n",
      "    accuracy                           0.71     39091\n",
      "   macro avg       0.64      0.74      0.64     39091\n",
      "weighted avg       0.84      0.71      0.74     39091\n",
      "\n"
     ]
    }
   ],
   "source": [
    "new_ada = AdaBoostClassifier(random_state=42, **ada_cv.best_params_)\n",
    "new_ada.fit(X_train_sm, y_train_sm)\n",
    "\n",
    "ada_pred = new_ada.predict(X_test_tfvec)\n",
    "\n",
    "ada_train = new_ada.predict(X_train_sm)\n",
    "print(\"Training Accuracy: \", metrics.accuracy_score(y_train_sm, ada_train))\n",
    "\n",
    "show_metrics(y_test, ada_pred)"
   ]
  },
  {
   "cell_type": "code",
   "execution_count": 36,
   "id": "13f154cc",
   "metadata": {
    "execution": {
     "iopub.execute_input": "2024-04-27T22:37:12.672411Z",
     "iopub.status.busy": "2024-04-27T22:37:12.671480Z",
     "iopub.status.idle": "2024-04-27T22:37:12.676282Z",
     "shell.execute_reply": "2024-04-27T22:37:12.675325Z"
    },
    "papermill": {
     "duration": 0.02007,
     "end_time": "2024-04-27T22:37:12.678508",
     "exception": false,
     "start_time": "2024-04-27T22:37:12.658438",
     "status": "completed"
    },
    "tags": []
   },
   "outputs": [],
   "source": [
    "# %%time\n",
    "# # use svc as a base learner\n",
    "# svc = SVC(probability=True, kernel=\"linear\", random_state=42)\n",
    "\n",
    "# ada_svc = AdaBoostClassifier(base_estimator=svc, random_state=42)\n",
    "# ada_svc.fit(X_train_tfvec, y_train)\n",
    "\n",
    "# ada_svc_pred = ada_svc.predict(X_test_tfvec)\n",
    "\n",
    "# show_metrics(y_test, ada_svc_pred)"
   ]
  }
 ],
 "metadata": {
  "kaggle": {
   "accelerator": "none",
   "dataSources": [
    {
     "datasetId": 4881738,
     "sourceId": 8231625,
     "sourceType": "datasetVersion"
    },
    {
     "datasetId": 4887057,
     "sourceId": 8238747,
     "sourceType": "datasetVersion"
    }
   ],
   "dockerImageVersionId": 30698,
   "isGpuEnabled": false,
   "isInternetEnabled": true,
   "language": "python",
   "sourceType": "notebook"
  },
  "kernelspec": {
   "display_name": "Python 3",
   "language": "python",
   "name": "python3"
  },
  "language_info": {
   "codemirror_mode": {
    "name": "ipython",
    "version": 3
   },
   "file_extension": ".py",
   "mimetype": "text/x-python",
   "name": "python",
   "nbconvert_exporter": "python",
   "pygments_lexer": "ipython3",
   "version": "3.10.13"
  },
  "papermill": {
   "default_parameters": {},
   "duration": 30298.536755,
   "end_time": "2024-04-27T22:37:13.864078",
   "environment_variables": {},
   "exception": null,
   "input_path": "__notebook__.ipynb",
   "output_path": "__notebook__.ipynb",
   "parameters": {},
   "start_time": "2024-04-27T14:12:15.327323",
   "version": "2.5.0"
  }
 },
 "nbformat": 4,
 "nbformat_minor": 5
}
