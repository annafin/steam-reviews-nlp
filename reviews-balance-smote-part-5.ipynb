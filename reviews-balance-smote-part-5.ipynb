{
 "cells": [
  {
   "cell_type": "code",
   "execution_count": 1,
   "id": "098e9b34",
   "metadata": {
    "_cell_guid": "b1076dfc-b9ad-4769-8c92-a6c4dae69d19",
    "_uuid": "8f2839f25d086af736a60e9eeb907d3b93b6e0e5",
    "execution": {
     "iopub.execute_input": "2024-04-27T17:47:03.473268Z",
     "iopub.status.busy": "2024-04-27T17:47:03.471884Z",
     "iopub.status.idle": "2024-04-27T17:47:04.670930Z",
     "shell.execute_reply": "2024-04-27T17:47:04.669353Z"
    },
    "papermill": {
     "duration": 1.217643,
     "end_time": "2024-04-27T17:47:04.673912",
     "exception": false,
     "start_time": "2024-04-27T17:47:03.456269",
     "status": "completed"
    },
    "tags": []
   },
   "outputs": [
    {
     "name": "stdout",
     "output_type": "stream",
     "text": [
      "/kaggle/input/steam-20-processed-version/steam_reviews_subset_20_processed_4_25.csv\n",
      "/kaggle/input/steam-processed-5-new/steam_subset_5_processed_new.csv\n"
     ]
    }
   ],
   "source": [
    "# This Python 3 environment comes with many helpful analytics libraries installed\n",
    "# It is defined by the kaggle/python Docker image: https://github.com/kaggle/docker-python\n",
    "# For example, here's several helpful packages to load\n",
    "\n",
    "import numpy as np # linear algebra\n",
    "import pandas as pd # data processing, CSV file I/O (e.g. pd.read_csv)\n",
    "\n",
    "# Input data files are available in the read-only \"../input/\" directory\n",
    "# For example, running this (by clicking run or pressing Shift+Enter) will list all files under the input directory\n",
    "\n",
    "import os\n",
    "for dirname, _, filenames in os.walk('/kaggle/input'):\n",
    "    for filename in filenames:\n",
    "        print(os.path.join(dirname, filename))\n",
    "\n",
    "# You can write up to 20GB to the current directory (/kaggle/working/) that gets preserved as output when you create a version using \"Save & Run All\" \n",
    "# You can also write temporary files to /kaggle/temp/, but they won't be saved outside of the current session"
   ]
  },
  {
   "cell_type": "code",
   "execution_count": 2,
   "id": "0ad97307",
   "metadata": {
    "execution": {
     "iopub.execute_input": "2024-04-27T17:47:04.702280Z",
     "iopub.status.busy": "2024-04-27T17:47:04.701589Z",
     "iopub.status.idle": "2024-04-27T17:47:06.360996Z",
     "shell.execute_reply": "2024-04-27T17:47:06.359225Z"
    },
    "papermill": {
     "duration": 1.677226,
     "end_time": "2024-04-27T17:47:06.364344",
     "exception": false,
     "start_time": "2024-04-27T17:47:04.687118",
     "status": "completed"
    },
    "tags": []
   },
   "outputs": [],
   "source": [
    "import seaborn as sns\n",
    "import matplotlib.pyplot as plt\n",
    "import re\n",
    "\n",
    "# import spacy\n",
    "# spacy.prefer_gpu()\n",
    "# nlp = spacy.load(\"en_core_web_sm\")"
   ]
  },
  {
   "cell_type": "code",
   "execution_count": 3,
   "id": "2ac76328",
   "metadata": {
    "execution": {
     "iopub.execute_input": "2024-04-27T17:47:06.393102Z",
     "iopub.status.busy": "2024-04-27T17:47:06.392591Z",
     "iopub.status.idle": "2024-04-27T17:47:06.398644Z",
     "shell.execute_reply": "2024-04-27T17:47:06.397217Z"
    },
    "papermill": {
     "duration": 0.023852,
     "end_time": "2024-04-27T17:47:06.401483",
     "exception": false,
     "start_time": "2024-04-27T17:47:06.377631",
     "status": "completed"
    },
    "tags": []
   },
   "outputs": [],
   "source": [
    "# cleaned and processed 20% data sample taken from steam reviews\n",
    "# data = pd.read_csv(\"/kaggle/input/steam-20-processed-version/steam_reviews_subset_20_processed_4_25.csv\")"
   ]
  },
  {
   "cell_type": "code",
   "execution_count": 4,
   "id": "50e470f0",
   "metadata": {
    "execution": {
     "iopub.execute_input": "2024-04-27T17:47:06.431559Z",
     "iopub.status.busy": "2024-04-27T17:47:06.430983Z",
     "iopub.status.idle": "2024-04-27T17:47:10.327069Z",
     "shell.execute_reply": "2024-04-27T17:47:10.325540Z"
    },
    "papermill": {
     "duration": 3.915711,
     "end_time": "2024-04-27T17:47:10.330302",
     "exception": false,
     "start_time": "2024-04-27T17:47:06.414591",
     "status": "completed"
    },
    "tags": []
   },
   "outputs": [],
   "source": [
    "# cleaned and processed 5% data sample taken from steam reviews\n",
    "data = pd.read_csv(\"/kaggle/input/steam-processed-5-new/steam_subset_5_processed_new.csv\")"
   ]
  },
  {
   "cell_type": "code",
   "execution_count": 5,
   "id": "6b5e8bfd",
   "metadata": {
    "execution": {
     "iopub.execute_input": "2024-04-27T17:47:10.360187Z",
     "iopub.status.busy": "2024-04-27T17:47:10.358594Z",
     "iopub.status.idle": "2024-04-27T17:47:10.389650Z",
     "shell.execute_reply": "2024-04-27T17:47:10.387953Z"
    },
    "papermill": {
     "duration": 0.049538,
     "end_time": "2024-04-27T17:47:10.393107",
     "exception": false,
     "start_time": "2024-04-27T17:47:10.343569",
     "status": "completed"
    },
    "tags": []
   },
   "outputs": [
    {
     "data": {
      "text/html": [
       "<div>\n",
       "<style scoped>\n",
       "    .dataframe tbody tr th:only-of-type {\n",
       "        vertical-align: middle;\n",
       "    }\n",
       "\n",
       "    .dataframe tbody tr th {\n",
       "        vertical-align: top;\n",
       "    }\n",
       "\n",
       "    .dataframe thead th {\n",
       "        text-align: right;\n",
       "    }\n",
       "</style>\n",
       "<table border=\"1\" class=\"dataframe\">\n",
       "  <thead>\n",
       "    <tr style=\"text-align: right;\">\n",
       "      <th></th>\n",
       "      <th>app_id</th>\n",
       "      <th>app_name</th>\n",
       "      <th>review_text</th>\n",
       "      <th>review_score</th>\n",
       "      <th>review_votes</th>\n",
       "      <th>review_processed</th>\n",
       "    </tr>\n",
       "  </thead>\n",
       "  <tbody>\n",
       "    <tr>\n",
       "      <th>0</th>\n",
       "      <td>237930</td>\n",
       "      <td>Transistor</td>\n",
       "      <td>I think the main thing that surprised me about...</td>\n",
       "      <td>1</td>\n",
       "      <td>0</td>\n",
       "      <td>think main thing surprise game intigration mus...</td>\n",
       "    </tr>\n",
       "    <tr>\n",
       "      <th>1</th>\n",
       "      <td>270450</td>\n",
       "      <td>Robot Roller-Derby Disco Dodgeball</td>\n",
       "      <td>Cute little FPS that takes a little practice t...</td>\n",
       "      <td>1</td>\n",
       "      <td>0</td>\n",
       "      <td>cute little fps take little practice learn cat...</td>\n",
       "    </tr>\n",
       "    <tr>\n",
       "      <th>2</th>\n",
       "      <td>49520</td>\n",
       "      <td>Borderlands 2</td>\n",
       "      <td>This game is absolutely the best! Totally wort...</td>\n",
       "      <td>1</td>\n",
       "      <td>0</td>\n",
       "      <td>game absolutely good totally worth get cheap s...</td>\n",
       "    </tr>\n",
       "    <tr>\n",
       "      <th>3</th>\n",
       "      <td>211400</td>\n",
       "      <td>Deadlight</td>\n",
       "      <td>Nope, just a nope.  Clunky control, I can't sa...</td>\n",
       "      <td>0</td>\n",
       "      <td>0</td>\n",
       "      <td>nope nope   clunky control frustrating play ga...</td>\n",
       "    </tr>\n",
       "    <tr>\n",
       "      <th>4</th>\n",
       "      <td>219640</td>\n",
       "      <td>Chivalry: Medieval Warfare</td>\n",
       "      <td>I went into Chiv expecting something amazing. ...</td>\n",
       "      <td>1</td>\n",
       "      <td>0</td>\n",
       "      <td>go chiv expect amazing exactally think go   ga...</td>\n",
       "    </tr>\n",
       "  </tbody>\n",
       "</table>\n",
       "</div>"
      ],
      "text/plain": [
       "   app_id                            app_name  \\\n",
       "0  237930                          Transistor   \n",
       "1  270450  Robot Roller-Derby Disco Dodgeball   \n",
       "2   49520                       Borderlands 2   \n",
       "3  211400                           Deadlight   \n",
       "4  219640          Chivalry: Medieval Warfare   \n",
       "\n",
       "                                         review_text  review_score  \\\n",
       "0  I think the main thing that surprised me about...             1   \n",
       "1  Cute little FPS that takes a little practice t...             1   \n",
       "2  This game is absolutely the best! Totally wort...             1   \n",
       "3  Nope, just a nope.  Clunky control, I can't sa...             0   \n",
       "4  I went into Chiv expecting something amazing. ...             1   \n",
       "\n",
       "   review_votes                                   review_processed  \n",
       "0             0  think main thing surprise game intigration mus...  \n",
       "1             0  cute little fps take little practice learn cat...  \n",
       "2             0  game absolutely good totally worth get cheap s...  \n",
       "3             0  nope nope   clunky control frustrating play ga...  \n",
       "4             0  go chiv expect amazing exactally think go   ga...  "
      ]
     },
     "execution_count": 5,
     "metadata": {},
     "output_type": "execute_result"
    }
   ],
   "source": [
    "data.head()"
   ]
  },
  {
   "cell_type": "code",
   "execution_count": 6,
   "id": "0c10108b",
   "metadata": {
    "execution": {
     "iopub.execute_input": "2024-04-27T17:47:10.422180Z",
     "iopub.status.busy": "2024-04-27T17:47:10.421677Z",
     "iopub.status.idle": "2024-04-27T17:47:10.526685Z",
     "shell.execute_reply": "2024-04-27T17:47:10.525514Z"
    },
    "papermill": {
     "duration": 0.122762,
     "end_time": "2024-04-27T17:47:10.529285",
     "exception": false,
     "start_time": "2024-04-27T17:47:10.406523",
     "status": "completed"
    },
    "tags": []
   },
   "outputs": [
    {
     "name": "stdout",
     "output_type": "stream",
     "text": [
      "<class 'pandas.core.frame.DataFrame'>\n",
      "RangeIndex: 195564 entries, 0 to 195563\n",
      "Data columns (total 6 columns):\n",
      " #   Column            Non-Null Count   Dtype \n",
      "---  ------            --------------   ----- \n",
      " 0   app_id            195564 non-null  int64 \n",
      " 1   app_name          195564 non-null  object\n",
      " 2   review_text       195564 non-null  object\n",
      " 3   review_score      195564 non-null  int64 \n",
      " 4   review_votes      195564 non-null  int64 \n",
      " 5   review_processed  195452 non-null  object\n",
      "dtypes: int64(3), object(3)\n",
      "memory usage: 9.0+ MB\n"
     ]
    }
   ],
   "source": [
    "data.info()"
   ]
  },
  {
   "cell_type": "code",
   "execution_count": 7,
   "id": "ed3cbe08",
   "metadata": {
    "execution": {
     "iopub.execute_input": "2024-04-27T17:47:10.558871Z",
     "iopub.status.busy": "2024-04-27T17:47:10.558010Z",
     "iopub.status.idle": "2024-04-27T17:47:10.643219Z",
     "shell.execute_reply": "2024-04-27T17:47:10.641595Z"
    },
    "papermill": {
     "duration": 0.103575,
     "end_time": "2024-04-27T17:47:10.646289",
     "exception": false,
     "start_time": "2024-04-27T17:47:10.542714",
     "status": "completed"
    },
    "tags": []
   },
   "outputs": [
    {
     "data": {
      "text/plain": [
       "app_id                0\n",
       "app_name              0\n",
       "review_text           0\n",
       "review_score          0\n",
       "review_votes          0\n",
       "review_processed    112\n",
       "dtype: int64"
      ]
     },
     "execution_count": 7,
     "metadata": {},
     "output_type": "execute_result"
    }
   ],
   "source": [
    "data.isnull().sum()"
   ]
  },
  {
   "cell_type": "code",
   "execution_count": 8,
   "id": "b5810704",
   "metadata": {
    "execution": {
     "iopub.execute_input": "2024-04-27T17:47:10.675622Z",
     "iopub.status.busy": "2024-04-27T17:47:10.675136Z",
     "iopub.status.idle": "2024-04-27T17:47:10.680504Z",
     "shell.execute_reply": "2024-04-27T17:47:10.679003Z"
    },
    "papermill": {
     "duration": 0.023364,
     "end_time": "2024-04-27T17:47:10.683251",
     "exception": false,
     "start_time": "2024-04-27T17:47:10.659887",
     "status": "completed"
    },
    "tags": []
   },
   "outputs": [],
   "source": [
    "# data[\"app_name\"].value_counts(normalize=True).head(20).plot(kind=\"bar\")\n",
    "# plt.xlabel(\"Game Name\")\n",
    "# plt.title(\"Top 20 Review Games on Steam\")\n",
    "# plt.show()"
   ]
  },
  {
   "cell_type": "code",
   "execution_count": 9,
   "id": "5fbe8aa3",
   "metadata": {
    "execution": {
     "iopub.execute_input": "2024-04-27T17:47:10.713501Z",
     "iopub.status.busy": "2024-04-27T17:47:10.713028Z",
     "iopub.status.idle": "2024-04-27T17:47:10.783916Z",
     "shell.execute_reply": "2024-04-27T17:47:10.782392Z"
    },
    "papermill": {
     "duration": 0.090215,
     "end_time": "2024-04-27T17:47:10.787284",
     "exception": false,
     "start_time": "2024-04-27T17:47:10.697069",
     "status": "completed"
    },
    "tags": []
   },
   "outputs": [],
   "source": [
    "# remove rows without any data in processed review\n",
    "data = data[~data[\"review_processed\"].isnull()].copy(deep=True)"
   ]
  },
  {
   "cell_type": "code",
   "execution_count": 10,
   "id": "3bcc482d",
   "metadata": {
    "execution": {
     "iopub.execute_input": "2024-04-27T17:47:10.816533Z",
     "iopub.status.busy": "2024-04-27T17:47:10.816015Z",
     "iopub.status.idle": "2024-04-27T17:47:10.906834Z",
     "shell.execute_reply": "2024-04-27T17:47:10.904722Z"
    },
    "papermill": {
     "duration": 0.108828,
     "end_time": "2024-04-27T17:47:10.909789",
     "exception": false,
     "start_time": "2024-04-27T17:47:10.800961",
     "status": "completed"
    },
    "tags": []
   },
   "outputs": [
    {
     "name": "stdout",
     "output_type": "stream",
     "text": [
      "<class 'pandas.core.frame.DataFrame'>\n",
      "Index: 195452 entries, 0 to 195563\n",
      "Data columns (total 6 columns):\n",
      " #   Column            Non-Null Count   Dtype \n",
      "---  ------            --------------   ----- \n",
      " 0   app_id            195452 non-null  int64 \n",
      " 1   app_name          195452 non-null  object\n",
      " 2   review_text       195452 non-null  object\n",
      " 3   review_score      195452 non-null  int64 \n",
      " 4   review_votes      195452 non-null  int64 \n",
      " 5   review_processed  195452 non-null  object\n",
      "dtypes: int64(3), object(3)\n",
      "memory usage: 10.4+ MB\n"
     ]
    }
   ],
   "source": [
    "data.info()"
   ]
  },
  {
   "cell_type": "markdown",
   "id": "fc2ce399",
   "metadata": {
    "papermill": {
     "duration": 0.015422,
     "end_time": "2024-04-27T17:47:10.939014",
     "exception": false,
     "start_time": "2024-04-27T17:47:10.923592",
     "status": "completed"
    },
    "tags": []
   },
   "source": [
    "## Data Processing and Modeling: Imbalanced Sampling Techniques"
   ]
  },
  {
   "cell_type": "code",
   "execution_count": 11,
   "id": "ee614286",
   "metadata": {
    "execution": {
     "iopub.execute_input": "2024-04-27T17:47:10.969720Z",
     "iopub.status.busy": "2024-04-27T17:47:10.969259Z",
     "iopub.status.idle": "2024-04-27T17:47:13.508661Z",
     "shell.execute_reply": "2024-04-27T17:47:13.507323Z"
    },
    "papermill": {
     "duration": 2.558896,
     "end_time": "2024-04-27T17:47:13.511935",
     "exception": false,
     "start_time": "2024-04-27T17:47:10.953039",
     "status": "completed"
    },
    "tags": []
   },
   "outputs": [],
   "source": [
    "from sklearn.model_selection import train_test_split\n",
    "from sklearn.feature_extraction.text import CountVectorizer, TfidfVectorizer, TfidfTransformer\n",
    "from sklearn.linear_model import LogisticRegression\n",
    "from sklearn.ensemble import RandomForestClassifier\n",
    "from sklearn.tree import DecisionTreeClassifier\n",
    "# from sklearn import tree\n",
    "from xgboost import XGBClassifier\n",
    "from sklearn.naive_bayes import MultinomialNB\n",
    "# from sklearn.neighbors import KNeighborsClassifier\n",
    "import lightgbm as lgbm\n",
    "from sklearn.ensemble import AdaBoostClassifier\n",
    "# from sklearn.svm import SVC\n",
    "from sklearn.pipeline import Pipeline\n",
    "from sklearn.model_selection import GridSearchCV\n",
    "from sklearn import metrics\n",
    "\n",
    "from imblearn.over_sampling import SMOTE"
   ]
  },
  {
   "cell_type": "code",
   "execution_count": 12,
   "id": "a1803546",
   "metadata": {
    "execution": {
     "iopub.execute_input": "2024-04-27T17:47:13.541841Z",
     "iopub.status.busy": "2024-04-27T17:47:13.541061Z",
     "iopub.status.idle": "2024-04-27T17:47:13.550868Z",
     "shell.execute_reply": "2024-04-27T17:47:13.549411Z"
    },
    "papermill": {
     "duration": 0.027691,
     "end_time": "2024-04-27T17:47:13.553366",
     "exception": false,
     "start_time": "2024-04-27T17:47:13.525675",
     "status": "completed"
    },
    "tags": []
   },
   "outputs": [],
   "source": [
    "# function to show results\n",
    "def show_metrics(y_test, predictions):\n",
    "    print(\"Confusion Matrix: \")\n",
    "    cmat = metrics.confusion_matrix(y_test, predictions)\n",
    "    print(cmat)\n",
    "    print(\"True Positives (TP) = \", cmat[0,0])\n",
    "    print(\"True Negatives (TN) = \", cmat[1,1])\n",
    "    print(\"False Positives (FP) = \", cmat[0,1])\n",
    "    print(\"False Negatives (FN) = \", cmat[1,0])\n",
    "    print(\"Accuracy: \")\n",
    "    print(metrics.accuracy_score(y_test, predictions))\n",
    "    print(\"Precision: \")\n",
    "    print(metrics.precision_score(y_test, predictions))\n",
    "    print(\"F1 Score: \")\n",
    "    print(metrics.f1_score(y_test, predictions))\n",
    "    print(\"Classification Report: \")\n",
    "    print(metrics.classification_report(y_test, predictions))"
   ]
  },
  {
   "cell_type": "code",
   "execution_count": 13,
   "id": "ecc2d387",
   "metadata": {
    "execution": {
     "iopub.execute_input": "2024-04-27T17:47:13.582920Z",
     "iopub.status.busy": "2024-04-27T17:47:13.582378Z",
     "iopub.status.idle": "2024-04-27T17:47:13.588465Z",
     "shell.execute_reply": "2024-04-27T17:47:13.587141Z"
    },
    "papermill": {
     "duration": 0.024353,
     "end_time": "2024-04-27T17:47:13.591501",
     "exception": false,
     "start_time": "2024-04-27T17:47:13.567148",
     "status": "completed"
    },
    "tags": []
   },
   "outputs": [],
   "source": [
    "X = data[\"review_processed\"]\n",
    "y = data[\"review_score\"]"
   ]
  },
  {
   "cell_type": "code",
   "execution_count": 14,
   "id": "9cee1985",
   "metadata": {
    "execution": {
     "iopub.execute_input": "2024-04-27T17:47:13.621974Z",
     "iopub.status.busy": "2024-04-27T17:47:13.621489Z",
     "iopub.status.idle": "2024-04-27T17:47:13.658394Z",
     "shell.execute_reply": "2024-04-27T17:47:13.657055Z"
    },
    "papermill": {
     "duration": 0.055591,
     "end_time": "2024-04-27T17:47:13.661346",
     "exception": false,
     "start_time": "2024-04-27T17:47:13.605755",
     "status": "completed"
    },
    "tags": []
   },
   "outputs": [],
   "source": [
    "X_train, X_test, y_train, y_test = train_test_split(X, y, test_size=0.2, shuffle=True, random_state=42)"
   ]
  },
  {
   "cell_type": "code",
   "execution_count": 15,
   "id": "93e2e3f7",
   "metadata": {
    "execution": {
     "iopub.execute_input": "2024-04-27T17:47:13.695171Z",
     "iopub.status.busy": "2024-04-27T17:47:13.694094Z",
     "iopub.status.idle": "2024-04-27T17:47:22.866951Z",
     "shell.execute_reply": "2024-04-27T17:47:22.865292Z"
    },
    "papermill": {
     "duration": 9.192863,
     "end_time": "2024-04-27T17:47:22.870055",
     "exception": false,
     "start_time": "2024-04-27T17:47:13.677192",
     "status": "completed"
    },
    "tags": []
   },
   "outputs": [
    {
     "name": "stdout",
     "output_type": "stream",
     "text": [
      "Training Data Shape:  (156361, 91863)\n"
     ]
    }
   ],
   "source": [
    "pipe = Pipeline([(\"cvector\", CountVectorizer()), \n",
    "                 (\"tfidf\", TfidfTransformer())\n",
    "                ])\n",
    "\n",
    "X_train_tfvec = pipe.fit_transform(X_train)\n",
    "\n",
    "X_test_tfvec = pipe.transform(X_test)\n",
    "\n",
    "print(\"Training Data Shape: \", X_train_tfvec.shape)"
   ]
  },
  {
   "cell_type": "code",
   "execution_count": 16,
   "id": "4b87e5c1",
   "metadata": {
    "execution": {
     "iopub.execute_input": "2024-04-27T17:47:22.900116Z",
     "iopub.status.busy": "2024-04-27T17:47:22.899573Z",
     "iopub.status.idle": "2024-04-27T17:53:01.774744Z",
     "shell.execute_reply": "2024-04-27T17:53:01.772856Z"
    },
    "papermill": {
     "duration": 338.893819,
     "end_time": "2024-04-27T17:53:01.777959",
     "exception": false,
     "start_time": "2024-04-27T17:47:22.884140",
     "status": "completed"
    },
    "tags": []
   },
   "outputs": [],
   "source": [
    "sm = SMOTE(random_state=42)\n",
    "\n",
    "X_train_sm, y_train_sm = sm.fit_resample(X_train_tfvec, y_train)"
   ]
  },
  {
   "cell_type": "markdown",
   "id": "bb3cff1e",
   "metadata": {
    "papermill": {
     "duration": 0.015278,
     "end_time": "2024-04-27T17:53:01.808839",
     "exception": false,
     "start_time": "2024-04-27T17:53:01.793561",
     "status": "completed"
    },
    "tags": []
   },
   "source": [
    "## Logistic Regression"
   ]
  },
  {
   "cell_type": "code",
   "execution_count": 17,
   "id": "25195f81",
   "metadata": {
    "execution": {
     "iopub.execute_input": "2024-04-27T17:53:01.840031Z",
     "iopub.status.busy": "2024-04-27T17:53:01.839562Z",
     "iopub.status.idle": "2024-04-27T17:53:31.485210Z",
     "shell.execute_reply": "2024-04-27T17:53:31.483879Z"
    },
    "papermill": {
     "duration": 29.665404,
     "end_time": "2024-04-27T17:53:31.488627",
     "exception": false,
     "start_time": "2024-04-27T17:53:01.823223",
     "status": "completed"
    },
    "tags": []
   },
   "outputs": [
    {
     "name": "stdout",
     "output_type": "stream",
     "text": [
      "Logistic Regression: \n",
      "Training Accuracy:  0.8881159197478669\n",
      "Confusion Matrix: \n",
      "[[ 5051  1527]\n",
      " [ 5091 27422]]\n",
      "True Positives (TP) =  5051\n",
      "True Negatives (TN) =  27422\n",
      "False Positives (FP) =  1527\n",
      "False Negatives (FN) =  5091\n",
      "Accuracy: \n",
      "0.8307027192960016\n",
      "Precision: \n",
      "0.947252063974576\n",
      "F1 Score: \n",
      "0.892323712212424\n",
      "Classification Report: \n",
      "              precision    recall  f1-score   support\n",
      "\n",
      "           0       0.50      0.77      0.60      6578\n",
      "           1       0.95      0.84      0.89     32513\n",
      "\n",
      "    accuracy                           0.83     39091\n",
      "   macro avg       0.72      0.81      0.75     39091\n",
      "weighted avg       0.87      0.83      0.84     39091\n",
      "\n",
      "CPU times: user 58.1 s, sys: 55.2 s, total: 1min 53s\n",
      "Wall time: 29.6 s\n"
     ]
    }
   ],
   "source": [
    "%%time\n",
    "lr = LogisticRegression(max_iter=2000, random_state=42)\n",
    "lr.fit(X_train_sm, y_train_sm)\n",
    "\n",
    "lr_pred = lr.predict(X_test_tfvec)\n",
    "\n",
    "print(\"Logistic Regression: \")\n",
    "lr_train = lr.predict(X_train_sm)\n",
    "print(\"Training Accuracy: \", metrics.accuracy_score(y_train_sm, lr_train))\n",
    "\n",
    "show_metrics(y_test, lr_pred)"
   ]
  },
  {
   "cell_type": "code",
   "execution_count": 18,
   "id": "323b8647",
   "metadata": {
    "execution": {
     "iopub.execute_input": "2024-04-27T17:53:31.519307Z",
     "iopub.status.busy": "2024-04-27T17:53:31.518815Z",
     "iopub.status.idle": "2024-04-27T17:56:37.506680Z",
     "shell.execute_reply": "2024-04-27T17:56:37.504732Z"
    },
    "papermill": {
     "duration": 186.024366,
     "end_time": "2024-04-27T17:56:37.527380",
     "exception": false,
     "start_time": "2024-04-27T17:53:31.503014",
     "status": "completed"
    },
    "tags": []
   },
   "outputs": [
    {
     "name": "stdout",
     "output_type": "stream",
     "text": [
      "Best Params:  {'C': 1}\n",
      "Best Score:  0.8684833576754555\n",
      "CPU times: user 5min 58s, sys: 5min 46s, total: 11min 45s\n",
      "Wall time: 3min 5s\n"
     ]
    }
   ],
   "source": [
    "%%time\n",
    "# tuning with gridsearch\n",
    "param_grid = {\"C\": [0.01, 0.1, 1]}\n",
    "\n",
    "lr_cv = GridSearchCV(lr, param_grid, cv=5)\n",
    "lr_cv.fit(X_train_sm, y_train_sm)\n",
    "\n",
    "print(\"Best Params: \", lr_cv.best_params_)\n",
    "print(\"Best Score: \", lr_cv.best_score_)"
   ]
  },
  {
   "cell_type": "markdown",
   "id": "787642df",
   "metadata": {
    "papermill": {
     "duration": 0.030529,
     "end_time": "2024-04-27T17:56:37.588598",
     "exception": false,
     "start_time": "2024-04-27T17:56:37.558069",
     "status": "completed"
    },
    "tags": []
   },
   "source": [
    "## Decision Tree"
   ]
  },
  {
   "cell_type": "code",
   "execution_count": 19,
   "id": "25952f01",
   "metadata": {
    "execution": {
     "iopub.execute_input": "2024-04-27T17:56:37.619874Z",
     "iopub.status.busy": "2024-04-27T17:56:37.619353Z",
     "iopub.status.idle": "2024-04-27T18:06:27.954079Z",
     "shell.execute_reply": "2024-04-27T18:06:27.952172Z"
    },
    "papermill": {
     "duration": 590.353655,
     "end_time": "2024-04-27T18:06:27.957324",
     "exception": false,
     "start_time": "2024-04-27T17:56:37.603669",
     "status": "completed"
    },
    "tags": []
   },
   "outputs": [
    {
     "name": "stdout",
     "output_type": "stream",
     "text": [
      "Decision Tree: \n",
      "Training Accuracy:  0.9974402336843724\n",
      "Confusion Matrix: \n",
      "[[ 3335  3243]\n",
      " [ 5565 26948]]\n",
      "True Positives (TP) =  3335\n",
      "True Negatives (TN) =  26948\n",
      "False Positives (FP) =  3243\n",
      "False Negatives (FN) =  5565\n",
      "Accuracy: \n",
      "0.7746795937683866\n",
      "Precision: \n",
      "0.892583882614024\n",
      "F1 Score: \n",
      "0.8595304924725694\n",
      "Classification Report: \n",
      "              precision    recall  f1-score   support\n",
      "\n",
      "           0       0.37      0.51      0.43      6578\n",
      "           1       0.89      0.83      0.86     32513\n",
      "\n",
      "    accuracy                           0.77     39091\n",
      "   macro avg       0.63      0.67      0.65     39091\n",
      "weighted avg       0.81      0.77      0.79     39091\n",
      "\n",
      "CPU times: user 9min 49s, sys: 218 ms, total: 9min 49s\n",
      "Wall time: 9min 50s\n"
     ]
    }
   ],
   "source": [
    "%%time\n",
    "dtc_clf = DecisionTreeClassifier(random_state=42)\n",
    "dtc_clf.fit(X_train_sm, y_train_sm)\n",
    "\n",
    "dtc_pred = dtc_clf.predict(X_test_tfvec)\n",
    "\n",
    "print(\"Decision Tree: \")\n",
    "dtc_train = dtc_clf.predict(X_train_sm)\n",
    "print(\"Training Accuracy: \", metrics.accuracy_score(y_train_sm, dtc_train))\n",
    "\n",
    "show_metrics(y_test, dtc_pred)"
   ]
  },
  {
   "cell_type": "code",
   "execution_count": 20,
   "id": "44bd2f5e",
   "metadata": {
    "execution": {
     "iopub.execute_input": "2024-04-27T18:06:27.990102Z",
     "iopub.status.busy": "2024-04-27T18:06:27.989614Z",
     "iopub.status.idle": "2024-04-27T20:14:37.481253Z",
     "shell.execute_reply": "2024-04-27T20:14:37.479268Z"
    },
    "papermill": {
     "duration": 7689.518871,
     "end_time": "2024-04-27T20:14:37.492073",
     "exception": false,
     "start_time": "2024-04-27T18:06:27.973202",
     "status": "completed"
    },
    "tags": []
   },
   "outputs": [
    {
     "name": "stdout",
     "output_type": "stream",
     "text": [
      "Best Params:  {'criterion': 'gini', 'max_depth': 18, 'min_samples_leaf': 5}\n",
      "Best Score:  0.7609193635175647\n",
      "CPU times: user 2h 7min 50s, sys: 9.34 s, total: 2h 7min 59s\n",
      "Wall time: 2h 8min 9s\n"
     ]
    }
   ],
   "source": [
    "%%time\n",
    "# tuning with gridsearch\n",
    "param_grid = {\"max_depth\": [2, 5, 8, 12, 18], \n",
    "              \"min_samples_leaf\": [5, 10, 20, 35, 60], \n",
    "              \"criterion\": [\"gini\", \"entropy\"]}\n",
    "\n",
    "dtc_cv = GridSearchCV(dtc_clf, param_grid, cv=5)\n",
    "dtc_cv.fit(X_train_sm, y_train_sm)\n",
    "\n",
    "print(\"Best Params: \", dtc_cv.best_params_)\n",
    "print(\"Best Score: \", dtc_cv.best_score_)"
   ]
  },
  {
   "cell_type": "markdown",
   "id": "500e5a8e",
   "metadata": {
    "papermill": {
     "duration": 0.014992,
     "end_time": "2024-04-27T20:14:37.521400",
     "exception": false,
     "start_time": "2024-04-27T20:14:37.506408",
     "status": "completed"
    },
    "tags": []
   },
   "source": [
    "## Random Forest"
   ]
  },
  {
   "cell_type": "code",
   "execution_count": 21,
   "id": "7135f2f4",
   "metadata": {
    "execution": {
     "iopub.execute_input": "2024-04-27T20:14:37.553605Z",
     "iopub.status.busy": "2024-04-27T20:14:37.553078Z",
     "iopub.status.idle": "2024-04-27T21:12:38.265978Z",
     "shell.execute_reply": "2024-04-27T21:12:38.264368Z"
    },
    "papermill": {
     "duration": 3480.748822,
     "end_time": "2024-04-27T21:12:38.284795",
     "exception": false,
     "start_time": "2024-04-27T20:14:37.535973",
     "status": "completed"
    },
    "tags": []
   },
   "outputs": [
    {
     "name": "stdout",
     "output_type": "stream",
     "text": [
      "Random Forest: \n",
      "Training Accuracy:  0.9974402336843724\n",
      "Confusion Matrix: \n",
      "[[ 3322  3256]\n",
      " [ 2475 30038]]\n",
      "True Positives (TP) =  3322\n",
      "True Negatives (TN) =  30038\n",
      "False Positives (FP) =  3256\n",
      "False Negatives (FN) =  2475\n",
      "Accuracy: \n",
      "0.8533933642014786\n",
      "Precision: \n",
      "0.9022046014296871\n",
      "F1 Score: \n",
      "0.9129120002431351\n",
      "Classification Report: \n",
      "              precision    recall  f1-score   support\n",
      "\n",
      "           0       0.57      0.51      0.54      6578\n",
      "           1       0.90      0.92      0.91     32513\n",
      "\n",
      "    accuracy                           0.85     39091\n",
      "   macro avg       0.74      0.71      0.72     39091\n",
      "weighted avg       0.85      0.85      0.85     39091\n",
      "\n",
      "CPU times: user 57min 55s, sys: 1.63 s, total: 57min 56s\n",
      "Wall time: 58min\n"
     ]
    }
   ],
   "source": [
    "%%time\n",
    "rf_clf = RandomForestClassifier(random_state=42)\n",
    "rf_clf.fit(X_train_sm, y_train_sm)\n",
    "\n",
    "rf_pred = rf_clf.predict(X_test_tfvec)\n",
    "\n",
    "print(\"Random Forest: \")\n",
    "rf_train = rf_clf.predict(X_train_sm)\n",
    "print(\"Training Accuracy: \", metrics.accuracy_score(y_train_sm, rf_train))\n",
    "\n",
    "show_metrics(y_test, rf_pred)"
   ]
  },
  {
   "cell_type": "code",
   "execution_count": 22,
   "id": "dc5bb437",
   "metadata": {
    "execution": {
     "iopub.execute_input": "2024-04-27T21:12:38.316681Z",
     "iopub.status.busy": "2024-04-27T21:12:38.316173Z",
     "iopub.status.idle": "2024-04-27T21:12:38.322447Z",
     "shell.execute_reply": "2024-04-27T21:12:38.321063Z"
    },
    "papermill": {
     "duration": 0.026588,
     "end_time": "2024-04-27T21:12:38.325817",
     "exception": false,
     "start_time": "2024-04-27T21:12:38.299229",
     "status": "completed"
    },
    "tags": []
   },
   "outputs": [],
   "source": [
    "# takes a long time with SMOTE\n",
    "# %%time\n",
    "# # tuning with gridsearch\n",
    "# param_grid = {\"max_depth\": [2, 5, 8, 12, 18], \n",
    "#               \"min_samples_leaf\": [5, 10, 20, 35, 60], \n",
    "#               \"n_estimators\": [30, 50, 80, 150]}\n",
    "\n",
    "# rf_cv = GridSearchCV(rf_clf, param_grid, cv=5)\n",
    "# rf_cv.fit(X_train_sm, y_train_sm)\n",
    "\n",
    "# print(\"Best Params: \", rf_cv.best_params_)\n",
    "# print(\"Best Score: \", rf_cv.best_score_)"
   ]
  },
  {
   "cell_type": "markdown",
   "id": "90cf0d10",
   "metadata": {
    "papermill": {
     "duration": 0.014059,
     "end_time": "2024-04-27T21:12:38.354893",
     "exception": false,
     "start_time": "2024-04-27T21:12:38.340834",
     "status": "completed"
    },
    "tags": []
   },
   "source": [
    "## XGBoost"
   ]
  },
  {
   "cell_type": "code",
   "execution_count": 23,
   "id": "e00de0b6",
   "metadata": {
    "execution": {
     "iopub.execute_input": "2024-04-27T21:12:38.386512Z",
     "iopub.status.busy": "2024-04-27T21:12:38.386024Z",
     "iopub.status.idle": "2024-04-27T21:15:51.495067Z",
     "shell.execute_reply": "2024-04-27T21:15:51.493510Z"
    },
    "papermill": {
     "duration": 193.128783,
     "end_time": "2024-04-27T21:15:51.498339",
     "exception": false,
     "start_time": "2024-04-27T21:12:38.369556",
     "status": "completed"
    },
    "tags": []
   },
   "outputs": [
    {
     "name": "stdout",
     "output_type": "stream",
     "text": [
      "XGBoost: \n",
      "Training Accuracy:  0.8676377892228457\n",
      "Confusion Matrix: \n",
      "[[ 4347  2231]\n",
      " [ 4636 27877]]\n",
      "True Positives (TP) =  4347\n",
      "True Negatives (TN) =  27877\n",
      "False Positives (FP) =  2231\n",
      "False Negatives (FN) =  4636\n",
      "Accuracy: \n",
      "0.8243329666675194\n",
      "Precision: \n",
      "0.9259000929985386\n",
      "F1 Score: \n",
      "0.8903403011769214\n",
      "Classification Report: \n",
      "              precision    recall  f1-score   support\n",
      "\n",
      "           0       0.48      0.66      0.56      6578\n",
      "           1       0.93      0.86      0.89     32513\n",
      "\n",
      "    accuracy                           0.82     39091\n",
      "   macro avg       0.70      0.76      0.72     39091\n",
      "weighted avg       0.85      0.82      0.83     39091\n",
      "\n",
      "CPU times: user 3min 11s, sys: 1.58 s, total: 3min 12s\n",
      "Wall time: 3min 13s\n"
     ]
    }
   ],
   "source": [
    "%%time\n",
    "xgb_clf = XGBClassifier(random_state=42) # default n_estimators = 100\n",
    "xgb_clf.fit(X_train_sm, y_train_sm)\n",
    "\n",
    "xgb_pred = xgb_clf.predict(X_test_tfvec)\n",
    "\n",
    "print(\"XGBoost: \")\n",
    "xgb_train = xgb_clf.predict(X_train_sm)\n",
    "print(\"Training Accuracy: \", metrics.accuracy_score(y_train_sm, xgb_train))\n",
    "\n",
    "show_metrics(y_test, xgb_pred)"
   ]
  },
  {
   "cell_type": "code",
   "execution_count": 24,
   "id": "35db0fd4",
   "metadata": {
    "execution": {
     "iopub.execute_input": "2024-04-27T21:15:51.530971Z",
     "iopub.status.busy": "2024-04-27T21:15:51.530507Z",
     "iopub.status.idle": "2024-04-27T21:21:25.715461Z",
     "shell.execute_reply": "2024-04-27T21:21:25.714048Z"
    },
    "papermill": {
     "duration": 334.205877,
     "end_time": "2024-04-27T21:21:25.719525",
     "exception": false,
     "start_time": "2024-04-27T21:15:51.513648",
     "status": "completed"
    },
    "tags": []
   },
   "outputs": [
    {
     "name": "stdout",
     "output_type": "stream",
     "text": [
      "XGBoost 200: \n",
      "Training Accuracy:  0.8920670305173342\n",
      "Confusion Matrix: \n",
      "[[ 4408  2170]\n",
      " [ 4019 28494]]\n",
      "True Positives (TP) =  4408\n",
      "True Negatives (TN) =  28494\n",
      "False Positives (FP) =  2170\n",
      "False Negatives (FN) =  4019\n",
      "Accuracy: \n",
      "0.8416771123788084\n",
      "Precision: \n",
      "0.9292329767805896\n",
      "F1 Score: \n",
      "0.9020371337670355\n",
      "Classification Report: \n",
      "              precision    recall  f1-score   support\n",
      "\n",
      "           0       0.52      0.67      0.59      6578\n",
      "           1       0.93      0.88      0.90     32513\n",
      "\n",
      "    accuracy                           0.84     39091\n",
      "   macro avg       0.73      0.77      0.74     39091\n",
      "weighted avg       0.86      0.84      0.85     39091\n",
      "\n",
      "CPU times: user 5min 32s, sys: 1.19 s, total: 5min 33s\n",
      "Wall time: 5min 34s\n"
     ]
    }
   ],
   "source": [
    "%%time\n",
    "xgb_clf = XGBClassifier(n_estimators=200, random_state=42)\n",
    "xgb_clf.fit(X_train_sm, y_train_sm)\n",
    "\n",
    "xgb_pred = xgb_clf.predict(X_test_tfvec)\n",
    "\n",
    "print(\"XGBoost 200: \")\n",
    "xgb_train = xgb_clf.predict(X_train_sm)\n",
    "print(\"Training Accuracy: \", metrics.accuracy_score(y_train_sm, xgb_train))\n",
    "\n",
    "show_metrics(y_test, xgb_pred)"
   ]
  },
  {
   "cell_type": "markdown",
   "id": "a58efe2e",
   "metadata": {
    "papermill": {
     "duration": 0.015062,
     "end_time": "2024-04-27T21:21:25.749936",
     "exception": false,
     "start_time": "2024-04-27T21:21:25.734874",
     "status": "completed"
    },
    "tags": []
   },
   "source": [
    "## Naive Bayes"
   ]
  },
  {
   "cell_type": "code",
   "execution_count": 25,
   "id": "709842f5",
   "metadata": {
    "execution": {
     "iopub.execute_input": "2024-04-27T21:21:25.783795Z",
     "iopub.status.busy": "2024-04-27T21:21:25.783218Z",
     "iopub.status.idle": "2024-04-27T21:21:26.128718Z",
     "shell.execute_reply": "2024-04-27T21:21:26.126886Z"
    },
    "papermill": {
     "duration": 0.366699,
     "end_time": "2024-04-27T21:21:26.132550",
     "exception": false,
     "start_time": "2024-04-27T21:21:25.765851",
     "status": "completed"
    },
    "tags": []
   },
   "outputs": [
    {
     "name": "stdout",
     "output_type": "stream",
     "text": [
      "Naive Bayes: \n",
      "Training Accuracy:  0.85450457375663\n",
      "Confusion Matrix: \n",
      "[[ 4883  1695]\n",
      " [ 4726 27787]]\n",
      "True Positives (TP) =  4883\n",
      "True Negatives (TN) =  27787\n",
      "False Positives (FP) =  1695\n",
      "False Negatives (FN) =  4726\n",
      "Accuracy: \n",
      "0.8357422424599013\n",
      "Precision: \n",
      "0.9425072925853063\n",
      "F1 Score: \n",
      "0.8964271312202597\n",
      "Classification Report: \n",
      "              precision    recall  f1-score   support\n",
      "\n",
      "           0       0.51      0.74      0.60      6578\n",
      "           1       0.94      0.85      0.90     32513\n",
      "\n",
      "    accuracy                           0.84     39091\n",
      "   macro avg       0.73      0.80      0.75     39091\n",
      "weighted avg       0.87      0.84      0.85     39091\n",
      "\n",
      "CPU times: user 336 ms, sys: 0 ns, total: 336 ms\n",
      "Wall time: 334 ms\n"
     ]
    }
   ],
   "source": [
    "%%time\n",
    "clf = MultinomialNB()\n",
    "clf.fit(X_train_sm, y_train_sm)\n",
    "\n",
    "nb_pred = clf.predict(X_test_tfvec)\n",
    "\n",
    "print(\"Naive Bayes: \")\n",
    "nb_train = clf.predict(X_train_sm)\n",
    "print(\"Training Accuracy: \", metrics.accuracy_score(y_train_sm, nb_train))\n",
    "\n",
    "show_metrics(y_test, nb_pred)"
   ]
  },
  {
   "cell_type": "markdown",
   "id": "384d9607",
   "metadata": {
    "papermill": {
     "duration": 0.017474,
     "end_time": "2024-04-27T21:21:26.167030",
     "exception": false,
     "start_time": "2024-04-27T21:21:26.149556",
     "status": "completed"
    },
    "tags": []
   },
   "source": [
    "## K Nearest Neighbors"
   ]
  },
  {
   "cell_type": "code",
   "execution_count": 26,
   "id": "f4ea7160",
   "metadata": {
    "execution": {
     "iopub.execute_input": "2024-04-27T21:21:26.201715Z",
     "iopub.status.busy": "2024-04-27T21:21:26.201155Z",
     "iopub.status.idle": "2024-04-27T21:21:26.207142Z",
     "shell.execute_reply": "2024-04-27T21:21:26.205673Z"
    },
    "papermill": {
     "duration": 0.026875,
     "end_time": "2024-04-27T21:21:26.209961",
     "exception": false,
     "start_time": "2024-04-27T21:21:26.183086",
     "status": "completed"
    },
    "tags": []
   },
   "outputs": [],
   "source": [
    "# %%time\n",
    "# knn = KNeighborsClassifier(n_neighbors=3)\n",
    "# knn.fit(X_train_tfvec, y_train)\n",
    "\n",
    "# knn_pred = knn.predict(X_test_tfvec)\n",
    "\n",
    "# show_metrics(y_test, knn_pred)"
   ]
  },
  {
   "cell_type": "code",
   "execution_count": 27,
   "id": "824fcfbb",
   "metadata": {
    "execution": {
     "iopub.execute_input": "2024-04-27T21:21:26.244619Z",
     "iopub.status.busy": "2024-04-27T21:21:26.243635Z",
     "iopub.status.idle": "2024-04-27T21:21:26.248494Z",
     "shell.execute_reply": "2024-04-27T21:21:26.247546Z"
    },
    "papermill": {
     "duration": 0.025285,
     "end_time": "2024-04-27T21:21:26.251383",
     "exception": false,
     "start_time": "2024-04-27T21:21:26.226098",
     "status": "completed"
    },
    "tags": []
   },
   "outputs": [],
   "source": [
    "# %%time\n",
    "# # tuning with gridsearch\n",
    "# param_grid = {\"n_neighbors\" : [3, 4, 5, 6, 7, 8]}\n",
    "\n",
    "# knn_cv = GridSearchCV(knn, param_grid, cv=5)\n",
    "# knn_cv.fit(X_train_tfvec, y_train)\n",
    "\n",
    "# print(\"Best Params: \", knn_cv.best_params_)\n",
    "# print(\"Best Score: \", knn_cv.best_score_)"
   ]
  },
  {
   "cell_type": "markdown",
   "id": "d92f352f",
   "metadata": {
    "papermill": {
     "duration": 0.016062,
     "end_time": "2024-04-27T21:21:26.409797",
     "exception": false,
     "start_time": "2024-04-27T21:21:26.393735",
     "status": "completed"
    },
    "tags": []
   },
   "source": [
    "## LightGBM"
   ]
  },
  {
   "cell_type": "code",
   "execution_count": 28,
   "id": "c2100228",
   "metadata": {
    "execution": {
     "iopub.execute_input": "2024-04-27T21:21:26.445066Z",
     "iopub.status.busy": "2024-04-27T21:21:26.444140Z",
     "iopub.status.idle": "2024-04-27T21:21:26.449515Z",
     "shell.execute_reply": "2024-04-27T21:21:26.448485Z"
    },
    "papermill": {
     "duration": 0.026197,
     "end_time": "2024-04-27T21:21:26.452281",
     "exception": false,
     "start_time": "2024-04-27T21:21:26.426084",
     "status": "completed"
    },
    "tags": []
   },
   "outputs": [],
   "source": [
    "# %%time\n",
    "# lgb_clf = lgbm.LGBMClassifier(random_state=42)\n",
    "# lgb_clf.fit(X_train_sm, y_train_sm)\n",
    "\n",
    "# lgb_pred = lgb_clf.predict(X_test_tfvec)\n",
    "\n",
    "# lgb_train = lgb_clf.predict(X_train_sm)\n",
    "# print(\"Training Accuracy: \", metrics.accuracy_score(y_train_sm, lgb_train))\n",
    "\n",
    "# show_metrics(y_test, lgb_pred)"
   ]
  },
  {
   "cell_type": "code",
   "execution_count": 29,
   "id": "214c8b74",
   "metadata": {
    "execution": {
     "iopub.execute_input": "2024-04-27T21:21:26.490046Z",
     "iopub.status.busy": "2024-04-27T21:21:26.489114Z",
     "iopub.status.idle": "2024-04-27T21:21:26.494403Z",
     "shell.execute_reply": "2024-04-27T21:21:26.493359Z"
    },
    "papermill": {
     "duration": 0.027724,
     "end_time": "2024-04-27T21:21:26.497345",
     "exception": false,
     "start_time": "2024-04-27T21:21:26.469621",
     "status": "completed"
    },
    "tags": []
   },
   "outputs": [],
   "source": [
    "# %%time\n",
    "# # tuning with gridsearch\n",
    "# param_grid = {\"n_estimators\": [50, 100, 150, 200], \n",
    "#               \"learning_rate\": [0.001, 0.01, 0.1, 1], \n",
    "#               \"boosting_type\": [\"gbdt\", \"dart\", \"rf\"]}\n",
    "\n",
    "# lgb_cv = GridSearchCV(lgb_clf, param_grid, cv=5)\n",
    "# lgb_cv.fit(X_train_sm, y_train_sm)\n",
    "\n",
    "# print(\"Best Params: \", lgb_cv.best_params_)\n",
    "# print(\"Best Score: \", lgb_cv.best_score_)"
   ]
  },
  {
   "cell_type": "markdown",
   "id": "f14fd752",
   "metadata": {
    "papermill": {
     "duration": 0.017111,
     "end_time": "2024-04-27T21:21:26.532000",
     "exception": false,
     "start_time": "2024-04-27T21:21:26.514889",
     "status": "completed"
    },
    "tags": []
   },
   "source": [
    "## AdaBoost"
   ]
  },
  {
   "cell_type": "code",
   "execution_count": 30,
   "id": "29bfe2a3",
   "metadata": {
    "execution": {
     "iopub.execute_input": "2024-04-27T21:21:26.567643Z",
     "iopub.status.busy": "2024-04-27T21:21:26.566784Z",
     "iopub.status.idle": "2024-04-27T21:24:18.869696Z",
     "shell.execute_reply": "2024-04-27T21:24:18.868508Z"
    },
    "papermill": {
     "duration": 172.323888,
     "end_time": "2024-04-27T21:24:18.872504",
     "exception": false,
     "start_time": "2024-04-27T21:21:26.548616",
     "status": "completed"
    },
    "tags": []
   },
   "outputs": [
    {
     "name": "stdout",
     "output_type": "stream",
     "text": [
      "AdaBoost: \n",
      "Training Accuracy:  0.7805711430548082\n",
      "Confusion Matrix: \n",
      "[[ 4501  2077]\n",
      " [ 8750 23763]]\n",
      "True Positives (TP) =  4501\n",
      "True Negatives (TN) =  23763\n",
      "False Positives (FP) =  2077\n",
      "False Negatives (FN) =  8750\n",
      "Accuracy: \n",
      "0.7230308766723799\n",
      "Precision: \n",
      "0.9196207430340557\n",
      "F1 Score: \n",
      "0.814456840265282\n",
      "Classification Report: \n",
      "              precision    recall  f1-score   support\n",
      "\n",
      "           0       0.34      0.68      0.45      6578\n",
      "           1       0.92      0.73      0.81     32513\n",
      "\n",
      "    accuracy                           0.72     39091\n",
      "   macro avg       0.63      0.71      0.63     39091\n",
      "weighted avg       0.82      0.72      0.75     39091\n",
      "\n",
      "CPU times: user 2min 51s, sys: 41 ms, total: 2min 51s\n",
      "Wall time: 2min 52s\n"
     ]
    }
   ],
   "source": [
    "%%time\n",
    "ada = AdaBoostClassifier(random_state=42) # default n_estimators = 50\n",
    "ada.fit(X_train_sm, y_train_sm)\n",
    "\n",
    "ada_pred = ada.predict(X_test_tfvec)\n",
    "\n",
    "print(\"AdaBoost: \")\n",
    "ada_train = ada.predict(X_train_sm)\n",
    "print(\"Training Accuracy: \", metrics.accuracy_score(y_train_sm, ada_train))\n",
    "\n",
    "show_metrics(y_test, ada_pred)"
   ]
  },
  {
   "cell_type": "code",
   "execution_count": 31,
   "id": "95dfb51a",
   "metadata": {
    "execution": {
     "iopub.execute_input": "2024-04-27T21:24:18.908208Z",
     "iopub.status.busy": "2024-04-27T21:24:18.907448Z",
     "iopub.status.idle": "2024-04-27T21:30:12.817217Z",
     "shell.execute_reply": "2024-04-27T21:30:12.816088Z"
    },
    "papermill": {
     "duration": 353.9307,
     "end_time": "2024-04-27T21:30:12.820146",
     "exception": false,
     "start_time": "2024-04-27T21:24:18.889446",
     "status": "completed"
    },
    "tags": []
   },
   "outputs": [
    {
     "name": "stdout",
     "output_type": "stream",
     "text": [
      "AdaBoost 100: \n",
      "Training Accuracy:  0.8046698439541856\n",
      "Confusion Matrix: \n",
      "[[ 4556  2022]\n",
      " [ 7382 25131]]\n",
      "True Positives (TP) =  4556\n",
      "True Negatives (TN) =  25131\n",
      "False Positives (FP) =  2022\n",
      "False Negatives (FN) =  7382\n",
      "Accuracy: \n",
      "0.759433117597401\n",
      "Precision: \n",
      "0.925533090266269\n",
      "F1 Score: \n",
      "0.842389300439111\n",
      "Classification Report: \n",
      "              precision    recall  f1-score   support\n",
      "\n",
      "           0       0.38      0.69      0.49      6578\n",
      "           1       0.93      0.77      0.84     32513\n",
      "\n",
      "    accuracy                           0.76     39091\n",
      "   macro avg       0.65      0.73      0.67     39091\n",
      "weighted avg       0.83      0.76      0.78     39091\n",
      "\n",
      "CPU times: user 5min 53s, sys: 65.1 ms, total: 5min 53s\n",
      "Wall time: 5min 53s\n"
     ]
    }
   ],
   "source": [
    "%%time\n",
    "ada = AdaBoostClassifier(n_estimators=100, random_state=42)\n",
    "ada.fit(X_train_sm, y_train_sm)\n",
    "\n",
    "ada_pred = ada.predict(X_test_tfvec)\n",
    "\n",
    "print(\"AdaBoost 100: \")\n",
    "ada_train = ada.predict(X_train_sm)\n",
    "print(\"Training Accuracy: \", metrics.accuracy_score(y_train_sm, ada_train))\n",
    "\n",
    "show_metrics(y_test, ada_pred)"
   ]
  },
  {
   "cell_type": "code",
   "execution_count": 32,
   "id": "1f76eaec",
   "metadata": {
    "execution": {
     "iopub.execute_input": "2024-04-27T21:30:12.857195Z",
     "iopub.status.busy": "2024-04-27T21:30:12.856442Z",
     "iopub.status.idle": "2024-04-27T21:39:02.208566Z",
     "shell.execute_reply": "2024-04-27T21:39:02.206675Z"
    },
    "papermill": {
     "duration": 529.37369,
     "end_time": "2024-04-27T21:39:02.211675",
     "exception": false,
     "start_time": "2024-04-27T21:30:12.837985",
     "status": "completed"
    },
    "tags": []
   },
   "outputs": [
    {
     "name": "stdout",
     "output_type": "stream",
     "text": [
      "AdaBoost 150: \n",
      "Training Accuracy:  0.8175724498424168\n",
      "Confusion Matrix: \n",
      "[[ 4656  1922]\n",
      " [ 6778 25735]]\n",
      "True Positives (TP) =  4656\n",
      "True Negatives (TN) =  25735\n",
      "False Positives (FP) =  1922\n",
      "False Negatives (FN) =  6778\n",
      "Accuracy: \n",
      "0.7774423780409813\n",
      "Precision: \n",
      "0.9305058393896662\n",
      "F1 Score: \n",
      "0.8554096725943161\n",
      "Classification Report: \n",
      "              precision    recall  f1-score   support\n",
      "\n",
      "           0       0.41      0.71      0.52      6578\n",
      "           1       0.93      0.79      0.86     32513\n",
      "\n",
      "    accuracy                           0.78     39091\n",
      "   macro avg       0.67      0.75      0.69     39091\n",
      "weighted avg       0.84      0.78      0.80     39091\n",
      "\n",
      "CPU times: user 8min 48s, sys: 89 ms, total: 8min 48s\n",
      "Wall time: 8min 49s\n"
     ]
    }
   ],
   "source": [
    "%%time\n",
    "ada = AdaBoostClassifier(n_estimators=150, random_state=42)\n",
    "ada.fit(X_train_sm, y_train_sm)\n",
    "\n",
    "ada_pred = ada.predict(X_test_tfvec)\n",
    "\n",
    "print(\"AdaBoost 150: \")\n",
    "ada_train = ada.predict(X_train_sm)\n",
    "print(\"Training Accuracy: \", metrics.accuracy_score(y_train_sm, ada_train))\n",
    "\n",
    "show_metrics(y_test, ada_pred)"
   ]
  },
  {
   "cell_type": "code",
   "execution_count": 33,
   "id": "c914c913",
   "metadata": {
    "execution": {
     "iopub.execute_input": "2024-04-27T21:39:02.254830Z",
     "iopub.status.busy": "2024-04-27T21:39:02.254020Z",
     "iopub.status.idle": "2024-04-27T21:53:24.736672Z",
     "shell.execute_reply": "2024-04-27T21:53:24.735137Z"
    },
    "papermill": {
     "duration": 862.524942,
     "end_time": "2024-04-27T21:53:24.756665",
     "exception": false,
     "start_time": "2024-04-27T21:39:02.231723",
     "status": "completed"
    },
    "tags": []
   },
   "outputs": [
    {
     "name": "stdout",
     "output_type": "stream",
     "text": [
      "AdaBoost 250: \n",
      "Training Accuracy:  0.8332500576523945\n",
      "Confusion Matrix: \n",
      "[[ 4630  1948]\n",
      " [ 5963 26550]]\n",
      "True Positives (TP) =  4630\n",
      "True Negatives (TN) =  26550\n",
      "False Positives (FP) =  1948\n",
      "False Negatives (FN) =  5963\n",
      "Accuracy: \n",
      "0.7976260520324371\n",
      "Precision: \n",
      "0.9316443259176083\n",
      "F1 Score: \n",
      "0.8703348576486208\n",
      "Classification Report: \n",
      "              precision    recall  f1-score   support\n",
      "\n",
      "           0       0.44      0.70      0.54      6578\n",
      "           1       0.93      0.82      0.87     32513\n",
      "\n",
      "    accuracy                           0.80     39091\n",
      "   macro avg       0.68      0.76      0.70     39091\n",
      "weighted avg       0.85      0.80      0.81     39091\n",
      "\n",
      "CPU times: user 14min 20s, sys: 186 ms, total: 14min 21s\n",
      "Wall time: 14min 22s\n"
     ]
    }
   ],
   "source": [
    "%%time\n",
    "ada = AdaBoostClassifier(n_estimators=250, random_state=42)\n",
    "ada.fit(X_train_sm, y_train_sm)\n",
    "\n",
    "ada_pred = ada.predict(X_test_tfvec)\n",
    "\n",
    "print(\"AdaBoost 250: \")\n",
    "ada_train = ada.predict(X_train_sm)\n",
    "print(\"Training Accuracy: \", metrics.accuracy_score(y_train_sm, ada_train))\n",
    "\n",
    "show_metrics(y_test, ada_pred)"
   ]
  },
  {
   "cell_type": "code",
   "execution_count": 34,
   "id": "c77670f2",
   "metadata": {
    "execution": {
     "iopub.execute_input": "2024-04-27T21:53:24.793405Z",
     "iopub.status.busy": "2024-04-27T21:53:24.792897Z",
     "iopub.status.idle": "2024-04-27T21:53:24.798480Z",
     "shell.execute_reply": "2024-04-27T21:53:24.797147Z"
    },
    "papermill": {
     "duration": 0.027121,
     "end_time": "2024-04-27T21:53:24.801003",
     "exception": false,
     "start_time": "2024-04-27T21:53:24.773882",
     "status": "completed"
    },
    "tags": []
   },
   "outputs": [],
   "source": [
    "# %%time\n",
    "# # tuning with gridsearch\n",
    "# param_grid = {\"n_estimators\" : [50, 70, 90, 110, 140, 180], \n",
    "#               \"learning_rate\" : [0.001, 0.01, 0.1, 1, 10]}\n",
    "\n",
    "# ada_cv = GridSearchCV(ada, param_grid, cv=5)\n",
    "# ada_cv.fit(X_train_sm, y_train_sm)\n",
    "\n",
    "# print(\"Best Params: \", ada_cv.best_params_)\n",
    "# print(\"Best Score: \", ada_cv.best_score_)"
   ]
  },
  {
   "cell_type": "code",
   "execution_count": 35,
   "id": "f66dc344",
   "metadata": {
    "execution": {
     "iopub.execute_input": "2024-04-27T21:53:24.839277Z",
     "iopub.status.busy": "2024-04-27T21:53:24.838593Z",
     "iopub.status.idle": "2024-04-27T21:53:24.843851Z",
     "shell.execute_reply": "2024-04-27T21:53:24.842657Z"
    },
    "papermill": {
     "duration": 0.027506,
     "end_time": "2024-04-27T21:53:24.846625",
     "exception": false,
     "start_time": "2024-04-27T21:53:24.819119",
     "status": "completed"
    },
    "tags": []
   },
   "outputs": [],
   "source": [
    "# %%time\n",
    "# # use svc as a base learner\n",
    "# svc = SVC(probability=True, kernel=\"linear\", random_state=42)\n",
    "\n",
    "# ada_svc = AdaBoostClassifier(base_estimator=svc, random_state=42)\n",
    "# ada_svc.fit(X_train_tfvec, y_train)\n",
    "\n",
    "# ada_svc_pred = ada_svc.predict(X_test_tfvec)\n",
    "\n",
    "# show_metrics(y_test, ada_svc_pred)"
   ]
  }
 ],
 "metadata": {
  "kaggle": {
   "accelerator": "none",
   "dataSources": [
    {
     "datasetId": 4881738,
     "sourceId": 8231625,
     "sourceType": "datasetVersion"
    },
    {
     "datasetId": 4887057,
     "sourceId": 8238747,
     "sourceType": "datasetVersion"
    }
   ],
   "dockerImageVersionId": 30698,
   "isGpuEnabled": false,
   "isInternetEnabled": true,
   "language": "python",
   "sourceType": "notebook"
  },
  "kernelspec": {
   "display_name": "Python 3",
   "language": "python",
   "name": "python3"
  },
  "language_info": {
   "codemirror_mode": {
    "name": "ipython",
    "version": 3
   },
   "file_extension": ".py",
   "mimetype": "text/x-python",
   "name": "python",
   "nbconvert_exporter": "python",
   "pygments_lexer": "ipython3",
   "version": "3.10.13"
  },
  "papermill": {
   "default_parameters": {},
   "duration": 14786.450891,
   "end_time": "2024-04-27T21:53:26.227780",
   "environment_variables": {},
   "exception": null,
   "input_path": "__notebook__.ipynb",
   "output_path": "__notebook__.ipynb",
   "parameters": {},
   "start_time": "2024-04-27T17:46:59.776889",
   "version": "2.5.0"
  }
 },
 "nbformat": 4,
 "nbformat_minor": 5
}
